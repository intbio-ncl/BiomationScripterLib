{
 "cells": [
  {
   "cell_type": "markdown",
   "id": "e8d65013",
   "metadata": {},
   "source": [
    "# Using EchoProto Templates - `Loop_Assembly` Example"
   ]
  },
  {
   "cell_type": "markdown",
   "id": "9c902919",
   "metadata": {},
   "source": [
    "BiomationScripter Templates can be used to help quickly and easily generate automation protocols for common experiments or procedures. Shown here is an example of how the `EchoProto.Templates.Loop_Assembly` Template can be used to generate an automation protocol to prepare Loop assembly reactions using the Echo.\n",
    "\n",
    "See the [documentation](../../../Docs/EchoProto_Templates.md#template-loop_assembly) for a full details about the `Loop_Assembly` Template"
   ]
  },
  {
   "cell_type": "markdown",
   "id": "5d7476e1",
   "metadata": {},
   "source": [
    "## Setting up"
   ]
  },
  {
   "cell_type": "markdown",
   "id": "d13d4c3f",
   "metadata": {},
   "source": [
    "The first step is to import the `EchoProto.Templates` module, along with the `BMS` module so that we have access to any generic tools that may be required."
   ]
  },
  {
   "cell_type": "code",
   "execution_count": 1,
   "id": "9a6476d6",
   "metadata": {},
   "outputs": [],
   "source": [
    "import BiomationScripter as BMS\n",
    "from BiomationScripter.EchoProto import Templates"
   ]
  },
  {
   "cell_type": "markdown",
   "id": "2091822a",
   "metadata": {},
   "source": [
    "Next, we need to define parameters and inputs for the protocol.\n",
    "\n",
    "For the source plates, we'll import some layouts which have already been defined. For more information on creating/importing [`BMS.Labware_Layout`](../../BiomationScripter.md#class-labware_layout) objects, see [here](../../BiomationScripter.md#class-labware_layout) and [here](../../BiomationScripter.md#function-import_labware_layout)."
   ]
  },
  {
   "cell_type": "code",
   "execution_count": null,
   "id": "96481766",
   "metadata": {},
   "outputs": [],
   "source": [
    "Protocol_Name = \"Example Loop Assembly\"\n",
    "Metadata = {\n",
    "    \"Author\": \"First Last\",\n",
    "    \"Author Email\": \"author@email.com\",\n",
    "    \"User\": \"Your Name\",\n",
    "    \"User Email\": \"user@email.com\",\n",
    "    \"Source\": \"BiomationScripter v0.2.0.dev\",\n",
    "    \"Robot\": \"Echo525\"\n",
    "}\n",
    "\n",
    "Source_Plates = [\n",
    "    \n",
    "]\n",
    "\n"
   ]
  }
 ],
 "metadata": {
  "kernelspec": {
   "display_name": "Python 3 (ipykernel)",
   "language": "python",
   "name": "python3"
  },
  "language_info": {
   "codemirror_mode": {
    "name": "ipython",
    "version": 3
   },
   "file_extension": ".py",
   "mimetype": "text/x-python",
   "name": "python",
   "nbconvert_exporter": "python",
   "pygments_lexer": "ipython3",
   "version": "3.9.7"
  }
 },
 "nbformat": 4,
 "nbformat_minor": 5
}
