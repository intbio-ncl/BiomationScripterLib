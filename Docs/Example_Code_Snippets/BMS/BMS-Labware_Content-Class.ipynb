{
 "cells": [
  {
   "cell_type": "markdown",
   "id": "2d26f90e",
   "metadata": {},
   "source": [
    "# `BMS.Labware_Content` Class"
   ]
  },
  {
   "cell_type": "markdown",
   "id": "3fdb76ad",
   "metadata": {},
   "source": [
    "The `BMS.Labware_Content` class is used as container for storing information about the content of a labware well."
   ]
  },
  {
   "cell_type": "markdown",
   "id": "acf65b3b",
   "metadata": {},
   "source": [
    "## Creating the `Labware_Content`"
   ]
  },
  {
   "cell_type": "markdown",
   "id": "88a3a0f6",
   "metadata": {},
   "source": [
    "First, the BMS generic tools module is imported as BMS"
   ]
  },
  {
   "cell_type": "code",
   "execution_count": 1,
   "id": "ecaef1b2",
   "metadata": {},
   "outputs": [],
   "source": [
    "import BiomationScripter as BMS"
   ]
  },
  {
   "cell_type": "markdown",
   "id": "8d7f22ad",
   "metadata": {},
   "source": [
    "Next, the initial information is defined"
   ]
  },
  {
   "cell_type": "code",
   "execution_count": 2,
   "id": "ea273441",
   "metadata": {},
   "outputs": [],
   "source": [
    "Name = \"Liquid1\"\n",
    "Volume = 10 # uL\n",
    "Liquid_Class = \"AQ_BP\""
   ]
  },
  {
   "cell_type": "markdown",
   "id": "456c730e",
   "metadata": {},
   "source": [
    "Then, the `Labware_Content` object can be created"
   ]
  },
  {
   "cell_type": "code",
   "execution_count": 3,
   "id": "e3ac6104",
   "metadata": {},
   "outputs": [],
   "source": [
    "Content1 = BMS.Labware_Content(\n",
    "    Name = Name,\n",
    "    Volume = Volume,\n",
    "    Liquid_Class = Liquid_Class\n",
    ")"
   ]
  },
  {
   "cell_type": "markdown",
   "id": "6d8481af",
   "metadata": {},
   "source": [
    "Information is retrieved using the `get_info` method"
   ]
  },
  {
   "cell_type": "code",
   "execution_count": 4,
   "id": "43c8a15f",
   "metadata": {},
   "outputs": [
    {
     "data": {
      "text/plain": [
       "['Liquid1', 10, 'AQ_BP']"
      ]
     },
     "execution_count": 4,
     "metadata": {},
     "output_type": "execute_result"
    }
   ],
   "source": [
    "Content1.get_info()"
   ]
  },
  {
   "cell_type": "markdown",
   "id": "25d89ddf",
   "metadata": {},
   "source": [
    "The `Liquid_Class` argument is optional and defaults to `None`"
   ]
  },
  {
   "cell_type": "code",
   "execution_count": 5,
   "id": "3e12eb6b",
   "metadata": {},
   "outputs": [
    {
     "data": {
      "text/plain": [
       "['Liquid1', 10, None]"
      ]
     },
     "execution_count": 5,
     "metadata": {},
     "output_type": "execute_result"
    }
   ],
   "source": [
    "Content2 = BMS.Labware_Content(\n",
    "    Name = Name,\n",
    "    Volume = Volume\n",
    ")\n",
    "Content2.get_info()"
   ]
  },
  {
   "cell_type": "markdown",
   "id": "9826fb49",
   "metadata": {},
   "source": [
    "`Labware_Content` objects are also created by `Labware_Layout` objects when `Labware_Layout.add_content` is called. See the code snippets [here](BMS-Labware_Layout-Class.ipynb) for more information."
   ]
  }
 ],
 "metadata": {
  "kernelspec": {
   "display_name": "Python 3 (ipykernel)",
   "language": "python",
   "name": "python3"
  },
  "language_info": {
   "codemirror_mode": {
    "name": "ipython",
    "version": 3
   },
   "file_extension": ".py",
   "mimetype": "text/x-python",
   "name": "python",
   "nbconvert_exporter": "python",
   "pygments_lexer": "ipython3",
   "version": "3.9.7"
  }
 },
 "nbformat": 4,
 "nbformat_minor": 5
}
