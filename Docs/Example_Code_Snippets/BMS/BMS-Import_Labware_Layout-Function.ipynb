{
 "cells": [
  {
   "cell_type": "markdown",
   "id": "595ce229",
   "metadata": {},
   "source": [
    "# `BMS.Import_Labware_Layout()` Function"
   ]
  },
  {
   "cell_type": "markdown",
   "id": "1e151f8d",
   "metadata": {},
   "source": [
    "Standard layout files, as defined [here](../../Standard_Layout_File.md), can be imported as [`BMS.Labware_Layout`](../../BiomationScripter.md#class-labware_layout) objects using the `BMS.Import_Labware_Layout` function. This can be useful when labware, such as storage plates, will be kept and re-used in multiple protocols as the labware doesn't need to be re-defined every time."
   ]
  },
  {
   "cell_type": "markdown",
   "id": "5e7140fd",
   "metadata": {},
   "source": [
    "## Usage"
   ]
  },
  {
   "cell_type": "markdown",
   "id": "28f14c60",
   "metadata": {},
   "source": [
    "First, the BMS generic tools module is imported as BMS"
   ]
  },
  {
   "cell_type": "code",
   "execution_count": 1,
   "id": "49af3011",
   "metadata": {},
   "outputs": [],
   "source": [
    "import BiomationScripter as BMS"
   ]
  },
  {
   "cell_type": "markdown",
   "id": "7a2e5343",
   "metadata": {},
   "source": [
    "The `BMS.Import_Labware_Layout` function takes three arguments:"
   ]
  },
  {
   "cell_type": "code",
   "execution_count": 2,
   "id": "291914cf",
   "metadata": {},
   "outputs": [],
   "source": [
    "# Filename is the name of the layout file\n",
    "DNA_Stocks_Filename = \"Example DNA Stocks\"\n",
    "# path is the path to the file, as a default the home directory is specified\n",
    "DNA_Stocks_Path = \"Resources/\"\n",
    "# Finally, ext is the file extension. This is \".xlsx\" by default\n",
    "DNA_Stocks_Ext = \".xlsx\""
   ]
  },
  {
   "cell_type": "markdown",
   "id": "aeecedae",
   "metadata": {},
   "source": [
    "Using the information defined above, the file can be imported as a `BMS.Labware_Layout` object"
   ]
  },
  {
   "cell_type": "code",
   "execution_count": 3,
   "id": "430f8095",
   "metadata": {},
   "outputs": [],
   "source": [
    "DNA_Stocks_Layout = BMS.Import_Labware_Layout(\n",
    "    Filename = DNA_Stocks_Filename,\n",
    "    path = DNA_Stocks_Path,\n",
    "    ext = DNA_Stocks_Ext\n",
    ")"
   ]
  },
  {
   "cell_type": "markdown",
   "id": "17724e50",
   "metadata": {},
   "source": [
    "The `BMS.Labware_Layout` object can then be used in the same way as any other Layout object. Note that any changes made here are NOT written to the file."
   ]
  },
  {
   "cell_type": "code",
   "execution_count": 4,
   "id": "9150cf34",
   "metadata": {},
   "outputs": [
    {
     "name": "stdout",
     "output_type": "stream",
     "text": [
      "Information for Example DNA Stocks\n",
      "Plate Type: 384PP\n",
      "Well\tVolume(uL)\tLiquid Class\tReagent\n",
      "A1\t50.0\t\tAQ_BP\t\tpOdd1\n",
      "A2\t50.0\t\tAQ_BP\t\tJ23100\n",
      "A3\t50.0\t\tAQ_BP\t\tB0034\n",
      "A4\t50.0\t\tAQ_BP\t\tGFP\n",
      "A5\t50.0\t\tAQ_BP\t\tmCherry\n",
      "A6\t50.0\t\tAQ_BP\t\tB0015\n"
     ]
    },
    {
     "data": {
      "text/plain": [
       "'A1\\t50.0\\t\\tAQ_BP\\t\\tpOdd1\\nA2\\t50.0\\t\\tAQ_BP\\t\\tJ23100\\nA3\\t50.0\\t\\tAQ_BP\\t\\tB0034\\nA4\\t50.0\\t\\tAQ_BP\\t\\tGFP\\nA5\\t50.0\\t\\tAQ_BP\\t\\tmCherry\\nA6\\t50.0\\t\\tAQ_BP\\t\\tB0015\\n'"
      ]
     },
     "execution_count": 4,
     "metadata": {},
     "output_type": "execute_result"
    }
   ],
   "source": [
    "DNA_Stocks_Layout.print()"
   ]
  }
 ],
 "metadata": {
  "kernelspec": {
   "display_name": "Python 3 (ipykernel)",
   "language": "python",
   "name": "python3"
  },
  "language_info": {
   "codemirror_mode": {
    "name": "ipython",
    "version": 3
   },
   "file_extension": ".py",
   "mimetype": "text/x-python",
   "name": "python",
   "nbconvert_exporter": "python",
   "pygments_lexer": "ipython3",
   "version": "3.9.7"
  }
 },
 "nbformat": 4,
 "nbformat_minor": 5
}
