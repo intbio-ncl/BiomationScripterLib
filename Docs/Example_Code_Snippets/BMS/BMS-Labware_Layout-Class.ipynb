{
 "cells": [
  {
   "cell_type": "markdown",
   "metadata": {},
   "source": [
    "# `BMS.Labware_Layout` Class"
   ]
  },
  {
   "cell_type": "markdown",
   "metadata": {},
   "source": [
    "The `BMS.Labware_Layout` class is intended to act as a universal method of capturing information about a piece of labware in BiomationScripter. This information includes the labware's type, the human-readable name of the labware, and details of any content in the wells of the labware. Depending on the context, the content of a `Labware_Layout` object could capture what is stored in source labware, or what is intended to be added into a destination labware."
   ]
  },
  {
   "cell_type": "markdown",
   "metadata": {},
   "source": [
    "## Creating the `Labware_Layout`"
   ]
  },
  {
   "cell_type": "markdown",
   "metadata": {},
   "source": [
    "First, the BMS generic tools module is imported as BMS"
   ]
  },
  {
   "cell_type": "code",
   "execution_count": 1,
   "metadata": {},
   "outputs": [],
   "source": [
    "import BiomationScripter as BMS"
   ]
  },
  {
   "cell_type": "markdown",
   "metadata": {},
   "source": [
    "Next, the initial information for the source plate is defined"
   ]
  },
  {
   "cell_type": "code",
   "execution_count": 2,
   "metadata": {},
   "outputs": [],
   "source": [
    "# The name of the labware layout is a string\n",
    "Source_Labware_Name = \"Source Plate\"\n",
    "## The labware type is also a string\n",
    "## The labware type can be anything, but the more information provided, the better\n",
    "Source_Labware_Type = \"Greiner 96-well 2mL Masterblock (780270)\""
   ]
  },
  {
   "cell_type": "markdown",
   "metadata": {},
   "source": [
    "The Labware_Layout object can now be created using the information from above"
   ]
  },
  {
   "cell_type": "code",
   "execution_count": 3,
   "metadata": {},
   "outputs": [],
   "source": [
    "Source_Labware_Layout = BMS.Labware_Layout(Source_Labware_Name, Source_Labware_Type)"
   ]
  },
  {
   "cell_type": "markdown",
   "metadata": {},
   "source": [
    "The `Source_Labware_Layout` variable now points to a `BMS.Labware_Layout` object which has the name and type defined above\n",
    "\n",
    "However, other information is still missing, such as the number of columns and rows the labware has."
   ]
  },
  {
   "cell_type": "markdown",
   "metadata": {},
   "source": [
    "## Defining the labware layout format"
   ]
  },
  {
   "cell_type": "markdown",
   "metadata": {},
   "source": [
    "The `define_format()` method can be used to capture the number rows and columns the source labware posses. This information can help with downstream scripting, where the number of rows and columns can be used to automatically add content to the wells, however in other cases it may not be necessary; the coder should determine this on a case-by-case basis.\n",
    "\n",
    "In this case, the format is defined using the code below:"
   ]
  },
  {
   "cell_type": "code",
   "execution_count": 4,
   "metadata": {},
   "outputs": [],
   "source": [
    "Source_Labware_Layout.define_format(\n",
    "                          Rows = 8,\n",
    "                          Columns = 12\n",
    ")"
   ]
  },
  {
   "cell_type": "markdown",
   "metadata": {},
   "source": [
    "## Retrieving labware layout format information"
   ]
  },
  {
   "cell_type": "markdown",
   "metadata": {},
   "source": [
    "Once the labware layout format is defined, a number of other `BMS.Labware_Layout` methods can be used.\n",
    "\n",
    "The `get_format()` method can be used to return the number of rows and columns as a `tuple` of `integers`:"
   ]
  },
  {
   "cell_type": "code",
   "execution_count": 5,
   "metadata": {},
   "outputs": [
    {
     "data": {
      "text/plain": [
       "(8, 12)"
      ]
     },
     "execution_count": 5,
     "metadata": {},
     "output_type": "execute_result"
    }
   ],
   "source": [
    "Source_Labware_Layout.get_format()"
   ]
  },
  {
   "cell_type": "markdown",
   "metadata": {},
   "source": [
    "The `get_well_range()` method can be used in a number of ways to get well ids as a list"
   ]
  },
  {
   "cell_type": "code",
   "execution_count": 6,
   "metadata": {
    "scrolled": true
   },
   "outputs": [
    {
     "data": {
      "text/plain": [
       "['A1',\n",
       " 'A2',\n",
       " 'A3',\n",
       " 'A4',\n",
       " 'A5',\n",
       " 'A6',\n",
       " 'A7',\n",
       " 'A8',\n",
       " 'A9',\n",
       " 'A10',\n",
       " 'A11',\n",
       " 'A12',\n",
       " 'B1',\n",
       " 'B2',\n",
       " 'B3',\n",
       " 'B4',\n",
       " 'B5',\n",
       " 'B6',\n",
       " 'B7',\n",
       " 'B8',\n",
       " 'B9',\n",
       " 'B10',\n",
       " 'B11',\n",
       " 'B12',\n",
       " 'C1',\n",
       " 'C2',\n",
       " 'C3',\n",
       " 'C4',\n",
       " 'C5',\n",
       " 'C6',\n",
       " 'C7',\n",
       " 'C8',\n",
       " 'C9',\n",
       " 'C10',\n",
       " 'C11',\n",
       " 'C12',\n",
       " 'D1',\n",
       " 'D2',\n",
       " 'D3',\n",
       " 'D4',\n",
       " 'D5',\n",
       " 'D6',\n",
       " 'D7',\n",
       " 'D8',\n",
       " 'D9',\n",
       " 'D10',\n",
       " 'D11',\n",
       " 'D12',\n",
       " 'E1',\n",
       " 'E2',\n",
       " 'E3',\n",
       " 'E4',\n",
       " 'E5',\n",
       " 'E6',\n",
       " 'E7',\n",
       " 'E8',\n",
       " 'E9',\n",
       " 'E10',\n",
       " 'E11',\n",
       " 'E12',\n",
       " 'F1',\n",
       " 'F2',\n",
       " 'F3',\n",
       " 'F4',\n",
       " 'F5',\n",
       " 'F6',\n",
       " 'F7',\n",
       " 'F8',\n",
       " 'F9',\n",
       " 'F10',\n",
       " 'F11',\n",
       " 'F12',\n",
       " 'G1',\n",
       " 'G2',\n",
       " 'G3',\n",
       " 'G4',\n",
       " 'G5',\n",
       " 'G6',\n",
       " 'G7',\n",
       " 'G8',\n",
       " 'G9',\n",
       " 'G10',\n",
       " 'G11',\n",
       " 'G12',\n",
       " 'H1',\n",
       " 'H2',\n",
       " 'H3',\n",
       " 'H4',\n",
       " 'H5',\n",
       " 'H6',\n",
       " 'H7',\n",
       " 'H8',\n",
       " 'H9',\n",
       " 'H10',\n",
       " 'H11',\n",
       " 'H12']"
      ]
     },
     "execution_count": 6,
     "metadata": {},
     "output_type": "execute_result"
    }
   ],
   "source": [
    "# Without any arguments, all wells are returned:\n",
    "Source_Labware_Layout.get_well_range()"
   ]
  },
  {
   "cell_type": "code",
   "execution_count": 7,
   "metadata": {
    "scrolled": true
   },
   "outputs": [
    {
     "data": {
      "text/plain": [
       "['B2',\n",
       " 'B3',\n",
       " 'B4',\n",
       " 'B5',\n",
       " 'B6',\n",
       " 'B7',\n",
       " 'B8',\n",
       " 'B9',\n",
       " 'B10',\n",
       " 'B11',\n",
       " 'C2',\n",
       " 'C3',\n",
       " 'C4',\n",
       " 'C5',\n",
       " 'C6',\n",
       " 'C7',\n",
       " 'C8',\n",
       " 'C9',\n",
       " 'C10',\n",
       " 'C11',\n",
       " 'D2',\n",
       " 'D3',\n",
       " 'D4',\n",
       " 'D5',\n",
       " 'D6',\n",
       " 'D7',\n",
       " 'D8',\n",
       " 'D9',\n",
       " 'D10',\n",
       " 'D11',\n",
       " 'E2',\n",
       " 'E3',\n",
       " 'E4',\n",
       " 'E5',\n",
       " 'E6',\n",
       " 'E7',\n",
       " 'E8',\n",
       " 'E9',\n",
       " 'E10',\n",
       " 'E11',\n",
       " 'F2',\n",
       " 'F3',\n",
       " 'F4',\n",
       " 'F5',\n",
       " 'F6',\n",
       " 'F7',\n",
       " 'F8',\n",
       " 'F9',\n",
       " 'F10',\n",
       " 'F11',\n",
       " 'G2',\n",
       " 'G3',\n",
       " 'G4',\n",
       " 'G5',\n",
       " 'G6',\n",
       " 'G7',\n",
       " 'G8',\n",
       " 'G9',\n",
       " 'G10',\n",
       " 'G11']"
      ]
     },
     "execution_count": 7,
     "metadata": {},
     "output_type": "execute_result"
    }
   ],
   "source": [
    "# The Use_Outer_wells argument can be used to exclude the outer wells of a labware - by default they are included:\n",
    "Source_Labware_Layout.get_well_range(\n",
    "                                Use_Outer_Wells = False\n",
    ")"
   ]
  },
  {
   "cell_type": "code",
   "execution_count": 8,
   "metadata": {
    "scrolled": true
   },
   "outputs": [
    {
     "data": {
      "text/plain": [
       "['A1',\n",
       " 'B1',\n",
       " 'C1',\n",
       " 'D1',\n",
       " 'E1',\n",
       " 'F1',\n",
       " 'G1',\n",
       " 'H1',\n",
       " 'A2',\n",
       " 'B2',\n",
       " 'C2',\n",
       " 'D2',\n",
       " 'E2',\n",
       " 'F2',\n",
       " 'G2',\n",
       " 'H2',\n",
       " 'A3',\n",
       " 'B3',\n",
       " 'C3',\n",
       " 'D3',\n",
       " 'E3',\n",
       " 'F3',\n",
       " 'G3',\n",
       " 'H3',\n",
       " 'A4',\n",
       " 'B4',\n",
       " 'C4',\n",
       " 'D4',\n",
       " 'E4',\n",
       " 'F4',\n",
       " 'G4',\n",
       " 'H4',\n",
       " 'A5',\n",
       " 'B5',\n",
       " 'C5',\n",
       " 'D5',\n",
       " 'E5',\n",
       " 'F5',\n",
       " 'G5',\n",
       " 'H5',\n",
       " 'A6',\n",
       " 'B6',\n",
       " 'C6',\n",
       " 'D6',\n",
       " 'E6',\n",
       " 'F6',\n",
       " 'G6',\n",
       " 'H6',\n",
       " 'A7',\n",
       " 'B7',\n",
       " 'C7',\n",
       " 'D7',\n",
       " 'E7',\n",
       " 'F7',\n",
       " 'G7',\n",
       " 'H7',\n",
       " 'A8',\n",
       " 'B8',\n",
       " 'C8',\n",
       " 'D8',\n",
       " 'E8',\n",
       " 'F8',\n",
       " 'G8',\n",
       " 'H8',\n",
       " 'A9',\n",
       " 'B9',\n",
       " 'C9',\n",
       " 'D9',\n",
       " 'E9',\n",
       " 'F9',\n",
       " 'G9',\n",
       " 'H9',\n",
       " 'A10',\n",
       " 'B10',\n",
       " 'C10',\n",
       " 'D10',\n",
       " 'E10',\n",
       " 'F10',\n",
       " 'G10',\n",
       " 'H10',\n",
       " 'A11',\n",
       " 'B11',\n",
       " 'C11',\n",
       " 'D11',\n",
       " 'E11',\n",
       " 'F11',\n",
       " 'G11',\n",
       " 'H11',\n",
       " 'A12',\n",
       " 'B12',\n",
       " 'C12',\n",
       " 'D12',\n",
       " 'E12',\n",
       " 'F12',\n",
       " 'G12',\n",
       " 'H12']"
      ]
     },
     "execution_count": 8,
     "metadata": {},
     "output_type": "execute_result"
    }
   ],
   "source": [
    "# The order in which the wells are returned can also be specified\n",
    "# By default they are returned horizontally, reading across all wells in a row before moving down to the next row\n",
    "# Here, they are returned vertically:\n",
    "Source_Labware_Layout.get_well_range(\n",
    "                                Direction = \"Vertical\"\n",
    ")"
   ]
  },
  {
   "cell_type": "code",
   "execution_count": 9,
   "metadata": {},
   "outputs": [
    {
     "data": {
      "text/plain": [
       "['B3',\n",
       " 'B4',\n",
       " 'B5',\n",
       " 'B6',\n",
       " 'B7',\n",
       " 'B8',\n",
       " 'B9',\n",
       " 'B10',\n",
       " 'B11',\n",
       " 'B12',\n",
       " 'C1',\n",
       " 'C2',\n",
       " 'C3',\n",
       " 'C4',\n",
       " 'C5',\n",
       " 'C6',\n",
       " 'C7',\n",
       " 'C8',\n",
       " 'C9',\n",
       " 'C10',\n",
       " 'C11',\n",
       " 'C12',\n",
       " 'D1',\n",
       " 'D2',\n",
       " 'D3',\n",
       " 'D4']"
      ]
     },
     "execution_count": 9,
     "metadata": {},
     "output_type": "execute_result"
    }
   ],
   "source": [
    "# A specific well range can also be given, which will return all wells in that range\n",
    "Source_Labware_Layout.get_well_range(\n",
    "                                Well_Range = \"B3:D4\"\n",
    ")"
   ]
  },
  {
   "cell_type": "code",
   "execution_count": 10,
   "metadata": {},
   "outputs": [
    {
     "data": {
      "text/plain": [
       "['B3', 'B4', 'C3', 'C4', 'D3', 'D4']"
      ]
     },
     "execution_count": 10,
     "metadata": {},
     "output_type": "execute_result"
    }
   ],
   "source": [
    "# The `Box` argument can be used in conjunction with a well range to return the wells in a 'box' shape\n",
    "Source_Labware_Layout.get_well_range(\n",
    "                                Well_Range = \"B3:D4\",\n",
    "                                Box = True\n",
    ")"
   ]
  },
  {
   "cell_type": "code",
   "execution_count": 11,
   "metadata": {},
   "outputs": [
    {
     "data": {
      "text/plain": [
       "['B3', 'C3', 'D3', 'B4', 'C4', 'D4']"
      ]
     },
     "execution_count": 11,
     "metadata": {},
     "output_type": "execute_result"
    }
   ],
   "source": [
    "# All of these arguments can be combined to return any wells desired:\n",
    "Source_Labware_Layout.get_well_range(\n",
    "                                Well_Range = \"A3:D4\",\n",
    "                                Direction = \"Vertical\",\n",
    "                                Box = True,\n",
    "                                Use_Outer_Wells = False\n",
    ")"
   ]
  },
  {
   "cell_type": "markdown",
   "metadata": {},
   "source": [
    "A set of available wells can also be stored for a given plate. This could be useful if, for example, a destination plate has already been partially used and you do not wish add anything to these wells.\n",
    "\n",
    "The available wells are set using the `set_available_wells()` method, which takes the same arguments as `get_well_range()`."
   ]
  },
  {
   "cell_type": "code",
   "execution_count": 12,
   "metadata": {},
   "outputs": [],
   "source": [
    "Source_Labware_Layout.set_available_wells(\n",
    "                                Well_Range = \"A3:D4\",\n",
    "                                Direction = \"Vertical\",\n",
    "                                Box = True,\n",
    "                                Use_Outer_Wells = False\n",
    ")\n"
   ]
  },
  {
   "cell_type": "markdown",
   "metadata": {},
   "source": [
    "The available wells can be retrieved using `get_available_wells()`"
   ]
  },
  {
   "cell_type": "code",
   "execution_count": 13,
   "metadata": {},
   "outputs": [
    {
     "data": {
      "text/plain": [
       "['B3', 'C3', 'D3', 'B4', 'C4', 'D4']"
      ]
     },
     "execution_count": 13,
     "metadata": {},
     "output_type": "execute_result"
    }
   ],
   "source": [
    "Source_Labware_Layout.get_available_wells()"
   ]
  },
  {
   "cell_type": "markdown",
   "metadata": {},
   "source": [
    "Once available wells are set, the `Labware_Layout` object will keep track of which available wells are empty, and which are not. The `get_next_empty_well` method can be used to get the first avilable well which is empty"
   ]
  },
  {
   "cell_type": "code",
   "execution_count": 14,
   "metadata": {},
   "outputs": [
    {
     "data": {
      "text/plain": [
       "'B3'"
      ]
     },
     "execution_count": 14,
     "metadata": {},
     "output_type": "execute_result"
    }
   ],
   "source": [
    "Source_Labware_Layout.get_next_empty_well()"
   ]
  },
  {
   "cell_type": "markdown",
   "metadata": {},
   "source": [
    "The `check_well` method can be used to check if a specified well exists in the labware layout"
   ]
  },
  {
   "cell_type": "code",
   "execution_count": 15,
   "metadata": {},
   "outputs": [
    {
     "data": {
      "text/plain": [
       "True"
      ]
     },
     "execution_count": 15,
     "metadata": {},
     "output_type": "execute_result"
    }
   ],
   "source": [
    "Source_Labware_Layout.check_well(\"D4\")"
   ]
  },
  {
   "cell_type": "code",
   "execution_count": 16,
   "metadata": {},
   "outputs": [
    {
     "data": {
      "text/plain": [
       "False"
      ]
     },
     "execution_count": 16,
     "metadata": {},
     "output_type": "execute_result"
    }
   ],
   "source": [
    "Source_Labware_Layout.check_well(\"J22\")"
   ]
  },
  {
   "cell_type": "markdown",
   "metadata": {},
   "source": [
    "## Adding Content to Wells"
   ]
  },
  {
   "cell_type": "markdown",
   "metadata": {},
   "source": [
    "The content of a well in a labware layout refers to any liquid which resides in that well. Each well can contain any number of distinct liquids. For example, a well of a PCR plate may contain DNA polymerase, buffer, water, DNA, primers, and dNTPs. In contrast, a DNA storage plate may contain just one DNA sample.\n",
    "\n",
    "The `add_content()` method can be used to add something to a specific well of a labware layout. There are 2 attributes which must be assigned when adding content, and 1 optional attribute. The required attributes are the name and volume of the content. The name should be entered as a `string`, and the volume is either a `float` or an `integer`, but MUST be specified in microlitres. The optional attribute is the liquid class of the content. The liquid class refers to the properties of the content, and can be useful to let users know that, for example, the liquid in a certain well is very viscous and hence may be difficult to transfer. It is also required by the Echo 525 liquid handler, where pre-defined liquid classes are used to ensure liquid is transferred correctly."
   ]
  },
  {
   "cell_type": "code",
   "execution_count": 17,
   "metadata": {},
   "outputs": [],
   "source": [
    "# Content can be added to a single well\n",
    "Source_Labware_Layout.set_available_wells()\n",
    "Source_Labware_Layout.add_content(\n",
    "                        Well = \"A1\",\n",
    "                        Reagent = \"DNA1\",\n",
    "                        Volume = 20,\n",
    "                        Liquid_Class = None\n",
    ")"
   ]
  },
  {
   "cell_type": "code",
   "execution_count": 18,
   "metadata": {},
   "outputs": [],
   "source": [
    "# Or using a well range\n",
    "Source_Labware_Layout.add_content(\n",
    "                        Well = \"B2:B6\",\n",
    "                        Reagent = \"Water\",\n",
    "                        Volume = 30,\n",
    "                        Liquid_Class = None\n",
    ")"
   ]
  },
  {
   "cell_type": "code",
   "execution_count": 19,
   "metadata": {},
   "outputs": [],
   "source": [
    "# Or using a list of wells\n",
    "Source_Labware_Layout.add_content(\n",
    "                        Well = [\"A5\", \"C7\", \"D9\"],\n",
    "                        Reagent = \"Buffer1\",\n",
    "                        Volume = 20,\n",
    "                        Liquid_Class = None\n",
    ")"
   ]
  },
  {
   "cell_type": "code",
   "execution_count": 20,
   "metadata": {},
   "outputs": [],
   "source": [
    "# Multiple liquids can also be added to a single well\n",
    "Source_Labware_Layout.add_content(\n",
    "                        Well = \"C1\",\n",
    "                        Reagent = \"Primer1\",\n",
    "                        Volume = 10\n",
    ")\n",
    "\n",
    "Source_Labware_Layout.add_content(\n",
    "                        Well = \"C1\",\n",
    "                        Reagent = \"Primer2\",\n",
    "                        Volume = 15\n",
    ")"
   ]
  },
  {
   "cell_type": "markdown",
   "metadata": {},
   "source": [
    "## Retrieving Labware Content"
   ]
  },
  {
   "cell_type": "markdown",
   "metadata": {},
   "source": [
    "The `get_content()` method can be used to return a dictionary containing information about the content of a labware. The dictionary keys are labware wells, and the value is a list of [BiomationScripter.Labware_Content](../../BiomationScripter.md#class-labware_content) objects."
   ]
  },
  {
   "cell_type": "code",
   "execution_count": 21,
   "metadata": {},
   "outputs": [
    {
     "data": {
      "text/plain": [
       "{'A1': [<BiomationScripter.Labware_Content at 0x20b4ed41400>],\n",
       " 'B2': [<BiomationScripter.Labware_Content at 0x20b4ed415e0>],\n",
       " 'B3': [<BiomationScripter.Labware_Content at 0x20b4ed41070>],\n",
       " 'B4': [<BiomationScripter.Labware_Content at 0x20b4ed41340>],\n",
       " 'B5': [<BiomationScripter.Labware_Content at 0x20b4ed41490>],\n",
       " 'B6': [<BiomationScripter.Labware_Content at 0x20b4ed41370>],\n",
       " 'A5': [<BiomationScripter.Labware_Content at 0x20b4ed41a00>],\n",
       " 'C7': [<BiomationScripter.Labware_Content at 0x20b4ed41eb0>],\n",
       " 'D9': [<BiomationScripter.Labware_Content at 0x20b4ed41f10>],\n",
       " 'C1': [<BiomationScripter.Labware_Content at 0x20b4ed41df0>,\n",
       "  <BiomationScripter.Labware_Content at 0x20b4ed41b50>]}"
      ]
     },
     "execution_count": 21,
     "metadata": {},
     "output_type": "execute_result"
    }
   ],
   "source": [
    "Source_Labware_Layout.get_content()"
   ]
  },
  {
   "cell_type": "markdown",
   "metadata": {},
   "source": [
    "To get human readable information about the labware content, the methods below can be used"
   ]
  },
  {
   "cell_type": "code",
   "execution_count": 22,
   "metadata": {},
   "outputs": [
    {
     "name": "stdout",
     "output_type": "stream",
     "text": [
      "A1\n",
      "['DNA1', 20.0, 'Unknown']\n",
      "B2\n",
      "['Water', 30.0, 'Unknown']\n",
      "B3\n",
      "['Water', 30.0, 'Unknown']\n",
      "B4\n",
      "['Water', 30.0, 'Unknown']\n",
      "B5\n",
      "['Water', 30.0, 'Unknown']\n",
      "B6\n",
      "['Water', 30.0, 'Unknown']\n",
      "A5\n",
      "['Buffer1', 20.0, 'Unknown']\n",
      "C7\n",
      "['Buffer1', 20.0, 'Unknown']\n",
      "D9\n",
      "['Buffer1', 20.0, 'Unknown']\n",
      "C1\n",
      "['Primer1', 10.0, 'Unknown']\n",
      "['Primer2', 15.0, 'Unknown']\n"
     ]
    }
   ],
   "source": [
    "for well in Source_Labware_Layout.get_content():\n",
    "    print(well)\n",
    "    for content in Source_Labware_Layout.get_content()[well]:\n",
    "        print(content.get_info())"
   ]
  },
  {
   "cell_type": "markdown",
   "metadata": {},
   "source": [
    "For each well which contains any content, a label can be assigned for easy retrieval later"
   ]
  },
  {
   "cell_type": "code",
   "execution_count": 23,
   "metadata": {},
   "outputs": [],
   "source": [
    "Source_Labware_Layout.add_well_label(\"C1\", \"Primer Mixture\")"
   ]
  },
  {
   "cell_type": "code",
   "execution_count": 24,
   "metadata": {},
   "outputs": [
    {
     "data": {
      "text/plain": [
       "'C1'"
      ]
     },
     "execution_count": 24,
     "metadata": {},
     "output_type": "execute_result"
    }
   ],
   "source": [
    "# The label can be used to get the well ID\n",
    "Source_Labware_Layout.get_well_location_by_label(\"Primer Mixture\")"
   ]
  },
  {
   "cell_type": "code",
   "execution_count": 25,
   "metadata": {},
   "outputs": [
    {
     "data": {
      "text/plain": [
       "[<BiomationScripter.Labware_Content at 0x20b4ed41df0>,\n",
       " <BiomationScripter.Labware_Content at 0x20b4ed41b50>]"
      ]
     },
     "execution_count": 25,
     "metadata": {},
     "output_type": "execute_result"
    }
   ],
   "source": [
    "# Or to get the content of that well\n",
    "Source_Labware_Layout.get_well_content_by_label(\"Primer Mixture\")"
   ]
  },
  {
   "cell_type": "markdown",
   "metadata": {},
   "source": [
    "The `get_occupied_wells` method can be used to return a list of all wells which have any content"
   ]
  },
  {
   "cell_type": "code",
   "execution_count": 26,
   "metadata": {},
   "outputs": [
    {
     "data": {
      "text/plain": [
       "['A1', 'B2', 'B3', 'B4', 'B5', 'B6', 'A5', 'C7', 'D9', 'C1']"
      ]
     },
     "execution_count": 26,
     "metadata": {},
     "output_type": "execute_result"
    }
   ],
   "source": [
    "Source_Labware_Layout.get_occupied_wells()"
   ]
  },
  {
   "cell_type": "markdown",
   "metadata": {},
   "source": [
    "The `get_liquids_in_well` method can be used to return just the names of any liquid in a well"
   ]
  },
  {
   "cell_type": "code",
   "execution_count": 27,
   "metadata": {},
   "outputs": [
    {
     "data": {
      "text/plain": [
       "['Primer1', 'Primer2']"
      ]
     },
     "execution_count": 27,
     "metadata": {},
     "output_type": "execute_result"
    }
   ],
   "source": [
    "Source_Labware_Layout.get_liquids_in_well(\"C1\")"
   ]
  },
  {
   "cell_type": "markdown",
   "metadata": {},
   "source": [
    "`get_volume_of_liquid_in_well()` can be used to get the volume of a specific liquid in a specified well"
   ]
  },
  {
   "cell_type": "code",
   "execution_count": 28,
   "metadata": {},
   "outputs": [
    {
     "data": {
      "text/plain": [
       "15.0"
      ]
     },
     "execution_count": 28,
     "metadata": {},
     "output_type": "execute_result"
    }
   ],
   "source": [
    "Source_Labware_Layout.get_volume_of_liquid_in_well(\"Primer2\", \"C1\")"
   ]
  },
  {
   "cell_type": "markdown",
   "metadata": {},
   "source": [
    "The `get_wells_containing_liquid` method can be used to return the well ID of any wells containing a specified liquid"
   ]
  },
  {
   "cell_type": "code",
   "execution_count": 29,
   "metadata": {},
   "outputs": [
    {
     "data": {
      "text/plain": [
       "['A5', 'C7', 'D9']"
      ]
     },
     "execution_count": 29,
     "metadata": {},
     "output_type": "execute_result"
    }
   ],
   "source": [
    "Source_Labware_Layout.get_wells_containing_liquid(\"Buffer1\")"
   ]
  },
  {
   "cell_type": "markdown",
   "metadata": {},
   "source": [
    "The `print()` method can be used to pretty print all details of a labware to OUT. A formatted string is also returned."
   ]
  },
  {
   "cell_type": "code",
   "execution_count": 30,
   "metadata": {},
   "outputs": [
    {
     "name": "stdout",
     "output_type": "stream",
     "text": [
      "Information for Source Plate\n",
      "Plate Type: Greiner 96-well 2mL Masterblock (780270)\n",
      "Well\tVolume(uL)\tLiquid Class\tReagent\n",
      "A1\t20.0\t\tUnknown\t\tDNA1\n",
      "B2\t30.0\t\tUnknown\t\tWater\n",
      "B3\t30.0\t\tUnknown\t\tWater\n",
      "B4\t30.0\t\tUnknown\t\tWater\n",
      "B5\t30.0\t\tUnknown\t\tWater\n",
      "B6\t30.0\t\tUnknown\t\tWater\n",
      "A5\t20.0\t\tUnknown\t\tBuffer1\n",
      "C7\t20.0\t\tUnknown\t\tBuffer1\n",
      "D9\t20.0\t\tUnknown\t\tBuffer1\n",
      "C1\t10.0\t\tUnknown\t\tPrimer1\n",
      "C1\t15.0\t\tUnknown\t\tPrimer2\n"
     ]
    },
    {
     "data": {
      "text/plain": [
       "'A1\\t20.0\\t\\tUnknown\\t\\tDNA1\\nB2\\t30.0\\t\\tUnknown\\t\\tWater\\nB3\\t30.0\\t\\tUnknown\\t\\tWater\\nB4\\t30.0\\t\\tUnknown\\t\\tWater\\nB5\\t30.0\\t\\tUnknown\\t\\tWater\\nB6\\t30.0\\t\\tUnknown\\t\\tWater\\nA5\\t20.0\\t\\tUnknown\\t\\tBuffer1\\nC7\\t20.0\\t\\tUnknown\\t\\tBuffer1\\nD9\\t20.0\\t\\tUnknown\\t\\tBuffer1\\nC1\\t10.0\\t\\tUnknown\\t\\tPrimer1\\nC1\\t15.0\\t\\tUnknown\\t\\tPrimer2\\n'"
      ]
     },
     "execution_count": 30,
     "metadata": {},
     "output_type": "execute_result"
    }
   ],
   "source": [
    "Source_Labware_Layout.print()"
   ]
  },
  {
   "cell_type": "markdown",
   "metadata": {},
   "source": [
    "## Modifying Labware Content"
   ]
  },
  {
   "cell_type": "markdown",
   "metadata": {},
   "source": [
    "The volume of liquid in a well can be modified at any time using `update_volume_in_well()`"
   ]
  },
  {
   "cell_type": "code",
   "execution_count": 31,
   "metadata": {},
   "outputs": [
    {
     "data": {
      "text/plain": [
       "20.0"
      ]
     },
     "execution_count": 31,
     "metadata": {},
     "output_type": "execute_result"
    }
   ],
   "source": [
    "Source_Labware_Layout.get_volume_of_liquid_in_well(\"DNA1\", \"A1\")"
   ]
  },
  {
   "cell_type": "code",
   "execution_count": 32,
   "metadata": {},
   "outputs": [],
   "source": [
    "Source_Labware_Layout.update_volume_in_well(\n",
    "                                Volume = 10,\n",
    "                                Reagent = \"DNA1\",\n",
    "                                Well = \"A1\"\n",
    ")"
   ]
  },
  {
   "cell_type": "code",
   "execution_count": 33,
   "metadata": {},
   "outputs": [
    {
     "data": {
      "text/plain": [
       "10.0"
      ]
     },
     "execution_count": 33,
     "metadata": {},
     "output_type": "execute_result"
    }
   ],
   "source": [
    "Source_Labware_Layout.get_volume_of_liquid_in_well(\"DNA1\", \"A1\")"
   ]
  },
  {
   "cell_type": "markdown",
   "metadata": {},
   "source": [
    "It's also possible to clear all content from a specific well"
   ]
  },
  {
   "cell_type": "code",
   "execution_count": 34,
   "metadata": {},
   "outputs": [
    {
     "data": {
      "text/plain": [
       "['A1', 'B2', 'B3', 'B4', 'B5', 'B6', 'A5', 'C7', 'D9', 'C1']"
      ]
     },
     "execution_count": 34,
     "metadata": {},
     "output_type": "execute_result"
    }
   ],
   "source": [
    "Source_Labware_Layout.get_occupied_wells()"
   ]
  },
  {
   "cell_type": "code",
   "execution_count": 35,
   "metadata": {},
   "outputs": [],
   "source": [
    "Source_Labware_Layout.clear_content_from_well(\"A1\")"
   ]
  },
  {
   "cell_type": "code",
   "execution_count": 36,
   "metadata": {},
   "outputs": [
    {
     "data": {
      "text/plain": [
       "['B2', 'B3', 'B4', 'B5', 'B6', 'A5', 'C7', 'D9', 'C1']"
      ]
     },
     "execution_count": 36,
     "metadata": {},
     "output_type": "execute_result"
    }
   ],
   "source": [
    "Source_Labware_Layout.get_occupied_wells()"
   ]
  },
  {
   "cell_type": "markdown",
   "metadata": {},
   "source": [
    "Or to clear all content in a labware"
   ]
  },
  {
   "cell_type": "code",
   "execution_count": 37,
   "metadata": {},
   "outputs": [],
   "source": [
    "Source_Labware_Layout.clear_content()"
   ]
  },
  {
   "cell_type": "code",
   "execution_count": 38,
   "metadata": {},
   "outputs": [
    {
     "name": "stdout",
     "output_type": "stream",
     "text": [
      "Information for Source Plate\n",
      "Plate Type: Greiner 96-well 2mL Masterblock (780270)\n",
      "Well\tVolume(uL)\tLiquid Class\tReagent\n"
     ]
    },
    {
     "data": {
      "text/plain": [
       "''"
      ]
     },
     "execution_count": 38,
     "metadata": {},
     "output_type": "execute_result"
    }
   ],
   "source": [
    "Source_Labware_Layout.print()"
   ]
  },
  {
   "cell_type": "code",
   "execution_count": null,
   "metadata": {},
   "outputs": [],
   "source": []
  }
 ],
 "metadata": {
  "kernelspec": {
   "display_name": "Python 3 (ipykernel)",
   "language": "python",
   "name": "python3"
  },
  "language_info": {
   "codemirror_mode": {
    "name": "ipython",
    "version": 3
   },
   "file_extension": ".py",
   "mimetype": "text/x-python",
   "name": "python",
   "nbconvert_exporter": "python",
   "pygments_lexer": "ipython3",
   "version": "3.9.7"
  }
 },
 "nbformat": 4,
 "nbformat_minor": 2
}
