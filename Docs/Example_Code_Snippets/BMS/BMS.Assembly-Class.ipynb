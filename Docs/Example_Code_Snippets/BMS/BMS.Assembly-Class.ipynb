{
 "cells": [
  {
   "cell_type": "markdown",
   "id": "98a48859",
   "metadata": {},
   "source": [
    "# `BMS.Assembly` Class"
   ]
  },
  {
   "cell_type": "markdown",
   "id": "69e15aae",
   "metadata": {},
   "source": [
    "The `BMS.Assembly` class is used as container for storing basic, textual information about a DNA assembly. It has no associated methods and is simply used to allow for standardised storage of a DNA assembly across `BiomationScripter`."
   ]
  },
  {
   "cell_type": "markdown",
   "id": "8c306044",
   "metadata": {},
   "source": [
    "## Creating the `Assembly`"
   ]
  },
  {
   "cell_type": "markdown",
   "id": "c9a877ba",
   "metadata": {},
   "source": [
    "First, the BMS generic tools module is imported as BMS"
   ]
  },
  {
   "cell_type": "code",
   "execution_count": 1,
   "id": "ff601153",
   "metadata": {},
   "outputs": [],
   "source": [
    "import BiomationScripter as BMS"
   ]
  },
  {
   "cell_type": "markdown",
   "id": "70d19019",
   "metadata": {},
   "source": [
    "Next, the initial information is defined"
   ]
  },
  {
   "cell_type": "code",
   "execution_count": 2,
   "id": "1846d359",
   "metadata": {},
   "outputs": [],
   "source": [
    "Assembly_Name = \"GFP Expression Unit\"\n",
    "Backbone = \"pOdd1\"\n",
    "Parts = [\"J23100\", \"B0034\", \"GFP\", \"B0015\"]"
   ]
  },
  {
   "cell_type": "markdown",
   "id": "91d3a42c",
   "metadata": {},
   "source": [
    "Then, the `Assembly` object can be created"
   ]
  },
  {
   "cell_type": "code",
   "execution_count": 3,
   "id": "4a606eea",
   "metadata": {},
   "outputs": [],
   "source": [
    "GFP_Expression_Assembly = BMS.Assembly(\n",
    "    Name = Assembly_Name,\n",
    "    Backbone = Backbone,\n",
    "    Parts = Parts\n",
    ")"
   ]
  },
  {
   "cell_type": "markdown",
   "id": "9bfd86f2",
   "metadata": {},
   "source": [
    "Information can be retrieved using the three attributes"
   ]
  },
  {
   "cell_type": "code",
   "execution_count": 4,
   "id": "cf32730e",
   "metadata": {},
   "outputs": [
    {
     "data": {
      "text/plain": [
       "'GFP Expression Unit'"
      ]
     },
     "execution_count": 4,
     "metadata": {},
     "output_type": "execute_result"
    }
   ],
   "source": [
    "GFP_Expression_Assembly.name"
   ]
  },
  {
   "cell_type": "code",
   "execution_count": 5,
   "id": "c85859d2",
   "metadata": {},
   "outputs": [
    {
     "data": {
      "text/plain": [
       "'pOdd1'"
      ]
     },
     "execution_count": 5,
     "metadata": {},
     "output_type": "execute_result"
    }
   ],
   "source": [
    "GFP_Expression_Assembly.backbone"
   ]
  },
  {
   "cell_type": "code",
   "execution_count": 6,
   "id": "7246015a",
   "metadata": {},
   "outputs": [
    {
     "data": {
      "text/plain": [
       "['J23100', 'B0034', 'GFP', 'B0015']"
      ]
     },
     "execution_count": 6,
     "metadata": {},
     "output_type": "execute_result"
    }
   ],
   "source": [
    "GFP_Expression_Assembly.parts"
   ]
  },
  {
   "cell_type": "code",
   "execution_count": null,
   "id": "cb42d8cd",
   "metadata": {},
   "outputs": [],
   "source": []
  }
 ],
 "metadata": {
  "kernelspec": {
   "display_name": "Python 3 (ipykernel)",
   "language": "python",
   "name": "python3"
  },
  "language_info": {
   "codemirror_mode": {
    "name": "ipython",
    "version": 3
   },
   "file_extension": ".py",
   "mimetype": "text/x-python",
   "name": "python",
   "nbconvert_exporter": "python",
   "pygments_lexer": "ipython3",
   "version": "3.9.7"
  }
 },
 "nbformat": 4,
 "nbformat_minor": 5
}
