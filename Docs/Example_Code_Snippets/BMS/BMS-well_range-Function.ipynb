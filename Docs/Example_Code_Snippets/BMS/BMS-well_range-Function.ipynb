{
 "cells": [
  {
   "cell_type": "markdown",
   "id": "ca8b20af",
   "metadata": {},
   "source": [
    "# `BMS.well_range()` Function"
   ]
  },
  {
   "cell_type": "markdown",
   "id": "60e1a776",
   "metadata": {},
   "source": [
    "This function allows a well range to be converted into a list of wells, based on a set of arguments defined by the user."
   ]
  },
  {
   "cell_type": "markdown",
   "id": "f5bba355",
   "metadata": {},
   "source": [
    "## Usage - Without [`BMS.Labware_Layout`](../../BiomationScripter.md#class-labware_layout)"
   ]
  },
  {
   "cell_type": "markdown",
   "id": "e2895ecf",
   "metadata": {},
   "source": [
    "First, the BMS generic tools module is imported as BMS"
   ]
  },
  {
   "cell_type": "code",
   "execution_count": 1,
   "id": "df4f6db8",
   "metadata": {},
   "outputs": [],
   "source": [
    "import BiomationScripter as BMS"
   ]
  },
  {
   "cell_type": "markdown",
   "id": "ccd9c9e0",
   "metadata": {},
   "source": [
    "`BMS.well_range` takes a well range as a string in the format `\"First_Well:Last_Well\"`"
   ]
  },
  {
   "cell_type": "code",
   "execution_count": 2,
   "id": "30f3673f",
   "metadata": {},
   "outputs": [],
   "source": [
    "Well_Range = \"A5:C6\""
   ]
  },
  {
   "cell_type": "markdown",
   "id": "d8b1cd14",
   "metadata": {},
   "source": [
    "Aside from the well range argument, there are three other arguments which are used to tell the `BMS.well_range` function how to determine which wells are in the well range specified. The first of these which will be covered in the `Box` argument. When `Box` is set to `True`, the well range is determined to be in the shape of a box."
   ]
  },
  {
   "cell_type": "code",
   "execution_count": 3,
   "id": "03f35a41",
   "metadata": {},
   "outputs": [
    {
     "data": {
      "text/plain": [
       "['A5', 'A6', 'B5', 'B6', 'C5', 'C6']"
      ]
     },
     "execution_count": 3,
     "metadata": {},
     "output_type": "execute_result"
    }
   ],
   "source": [
    "BMS.well_range(\n",
    "    Wells = Well_Range,\n",
    "    Box = True\n",
    ")"
   ]
  },
  {
   "cell_type": "markdown",
   "id": "7a7c2a0a",
   "metadata": {},
   "source": [
    "The above well range is defined as a boxed well range as if the wells were highlighted on the labware, it would form a box shape. See the [`BMS.well_range` documentation](../../BiomationScripter.md#function-well_range) for more information on this."
   ]
  },
  {
   "cell_type": "markdown",
   "id": "9647b746",
   "metadata": {},
   "source": [
    "The second argument to be covered here is the `Direction` argument. This determines whether wells are added to the well range horizontally (i.e. selecting wells in the same row before moving to the next row) or vertically (i.e. selecting wells in the same column before moving to the next column). `Direction` must be either `\"Horizontal\"` or `\"Vertical\"`. By default, it is `\"Horizontal\"`. Below, the same well range as above is defined, but this time the `Direction` is set to `\"Vertical\"`."
   ]
  },
  {
   "cell_type": "code",
   "execution_count": 4,
   "id": "9fd2de6b",
   "metadata": {},
   "outputs": [
    {
     "data": {
      "text/plain": [
       "['A5', 'B5', 'C5', 'A6', 'B6', 'C6']"
      ]
     },
     "execution_count": 4,
     "metadata": {},
     "output_type": "execute_result"
    }
   ],
   "source": [
    "BMS.well_range(\n",
    "    Wells = Well_Range,\n",
    "    Box = True,\n",
    "    Direction = \"Vertical\"\n",
    ")"
   ]
  },
  {
   "cell_type": "markdown",
   "id": "0b9a0a64",
   "metadata": {},
   "source": [
    "By default, the `Box` argument is set to `False`. However, in the cases shown above, this will cause an error to occur"
   ]
  },
  {
   "cell_type": "code",
   "execution_count": 5,
   "id": "57467f59",
   "metadata": {},
   "outputs": [
    {
     "ename": "LabwareError",
     "evalue": "`Box` can only be `False` when `Labware_Format` is specified",
     "output_type": "error",
     "traceback": [
      "\u001b[1;31m---------------------------------------------------------------------------\u001b[0m",
      "\u001b[1;31mLabwareError\u001b[0m                              Traceback (most recent call last)",
      "\u001b[1;32m~\\AppData\\Local\\Temp/ipykernel_66076/171347137.py\u001b[0m in \u001b[0;36m<module>\u001b[1;34m\u001b[0m\n\u001b[1;32m----> 1\u001b[1;33m BMS.well_range(\n\u001b[0m\u001b[0;32m      2\u001b[0m     \u001b[0mWells\u001b[0m \u001b[1;33m=\u001b[0m \u001b[0mWell_Range\u001b[0m\u001b[1;33m\u001b[0m\u001b[1;33m\u001b[0m\u001b[0m\n\u001b[0;32m      3\u001b[0m )\n",
      "\u001b[1;32m~\\anaconda3\\lib\\site-packages\\BiomationScripter\\__init__.py\u001b[0m in \u001b[0;36mwell_range\u001b[1;34m(Wells, Labware_Format, Direction, Box)\u001b[0m\n\u001b[0;32m    672\u001b[0m \u001b[1;33m\u001b[0m\u001b[0m\n\u001b[0;32m    673\u001b[0m     \u001b[1;32mif\u001b[0m \u001b[1;32mnot\u001b[0m \u001b[0mLabware_Format\u001b[0m \u001b[1;32mand\u001b[0m \u001b[1;32mnot\u001b[0m \u001b[0mBox\u001b[0m\u001b[1;33m:\u001b[0m\u001b[1;33m\u001b[0m\u001b[1;33m\u001b[0m\u001b[0m\n\u001b[1;32m--> 674\u001b[1;33m         \u001b[1;32mraise\u001b[0m \u001b[0mLabwareError\u001b[0m\u001b[1;33m(\u001b[0m\u001b[1;34m\"`Box` can only be `False` when `Labware_Format` is specified\"\u001b[0m\u001b[1;33m)\u001b[0m\u001b[1;33m\u001b[0m\u001b[1;33m\u001b[0m\u001b[0m\n\u001b[0m\u001b[0;32m    675\u001b[0m \u001b[1;33m\u001b[0m\u001b[0m\n\u001b[0;32m    676\u001b[0m     \u001b[1;32mif\u001b[0m \u001b[1;32mnot\u001b[0m \u001b[0mLabware_Format\u001b[0m \u001b[1;32mor\u001b[0m \u001b[0mBox\u001b[0m\u001b[1;33m:\u001b[0m\u001b[1;33m\u001b[0m\u001b[1;33m\u001b[0m\u001b[0m\n",
      "\u001b[1;31mLabwareError\u001b[0m: `Box` can only be `False` when `Labware_Format` is specified"
     ]
    }
   ],
   "source": [
    "BMS.well_range(\n",
    "    Wells = Well_Range\n",
    ")"
   ]
  },
  {
   "cell_type": "markdown",
   "id": "ca7e0278",
   "metadata": {},
   "source": [
    "This is because for a non-boxed well range to be returned, number of rows and columns in the labware must be specified to define the labware boundaries. This is defined using the `Labware_Format` argument, and can take the form of a `list`, where the number of rows is specified first, followed by the number of columns."
   ]
  },
  {
   "cell_type": "code",
   "execution_count": 6,
   "id": "dfb8ede4",
   "metadata": {
    "scrolled": true
   },
   "outputs": [
    {
     "data": {
      "text/plain": [
       "['A5',\n",
       " 'A6',\n",
       " 'A7',\n",
       " 'A8',\n",
       " 'A9',\n",
       " 'A10',\n",
       " 'A11',\n",
       " 'A12',\n",
       " 'B1',\n",
       " 'B2',\n",
       " 'B3',\n",
       " 'B4',\n",
       " 'B5',\n",
       " 'B6',\n",
       " 'B7',\n",
       " 'B8',\n",
       " 'B9',\n",
       " 'B10',\n",
       " 'B11',\n",
       " 'B12',\n",
       " 'C1',\n",
       " 'C2',\n",
       " 'C3',\n",
       " 'C4',\n",
       " 'C5',\n",
       " 'C6']"
      ]
     },
     "execution_count": 6,
     "metadata": {},
     "output_type": "execute_result"
    }
   ],
   "source": [
    "Format_For_96_Well_Plate = [8, 12]\n",
    "BMS.well_range(\n",
    "    Wells = Well_Range,\n",
    "    Labware_Format = Format_For_96_Well_Plate\n",
    ")"
   ]
  },
  {
   "cell_type": "markdown",
   "id": "1f721996",
   "metadata": {},
   "source": [
    "Once again, the `Direction` can be changed to determine the order of the wells in the well range"
   ]
  },
  {
   "cell_type": "code",
   "execution_count": 7,
   "id": "77f6e8bf",
   "metadata": {},
   "outputs": [
    {
     "data": {
      "text/plain": [
       "['A5', 'B5', 'C5', 'D5', 'E5', 'F5', 'G5', 'H5', 'A6', 'B6', 'C6']"
      ]
     },
     "execution_count": 7,
     "metadata": {},
     "output_type": "execute_result"
    }
   ],
   "source": [
    "Format_For_96_Well_Plate = [8, 12]\n",
    "BMS.well_range(\n",
    "    Wells = Well_Range,\n",
    "    Labware_Format = Format_For_96_Well_Plate,\n",
    "    Direction = \"Vertical\"\n",
    ")"
   ]
  },
  {
   "cell_type": "markdown",
   "id": "3215a6f7",
   "metadata": {},
   "source": [
    "The `Box` argument can also be set to `True`"
   ]
  },
  {
   "cell_type": "code",
   "execution_count": 8,
   "id": "29603ab7",
   "metadata": {},
   "outputs": [
    {
     "data": {
      "text/plain": [
       "['A5', 'A6', 'B5', 'B6', 'C5', 'C6']"
      ]
     },
     "execution_count": 8,
     "metadata": {},
     "output_type": "execute_result"
    }
   ],
   "source": [
    "Format_For_96_Well_Plate = [8, 12]\n",
    "BMS.well_range(\n",
    "    Wells = Well_Range,\n",
    "    Labware_Format = Format_For_96_Well_Plate,\n",
    "    Box = True\n",
    ")"
   ]
  },
  {
   "cell_type": "markdown",
   "id": "86f79eb6",
   "metadata": {},
   "source": [
    "## Usage - With [`BMS.Labware_Layout`](../../BiomationScripter.md#class-labware_layout)"
   ]
  },
  {
   "cell_type": "markdown",
   "id": "4f094bd0",
   "metadata": {},
   "source": [
    "It is also possible to use a [`BMS.Labware_Layout`](../../BiomationScripter.md#class-labware_layout) object to define the format of the labware."
   ]
  },
  {
   "cell_type": "code",
   "execution_count": 9,
   "id": "d4fb3c81",
   "metadata": {},
   "outputs": [],
   "source": [
    "Example_Plate_Layout = BMS.Labware_Layout(\n",
    "    Name = \"Example Plate\",\n",
    "    Type = \"96 Well Plate\"\n",
    ")\n",
    "Example_Plate_Layout.define_format(8, 12)"
   ]
  },
  {
   "cell_type": "code",
   "execution_count": 10,
   "id": "9e697b32",
   "metadata": {
    "scrolled": true
   },
   "outputs": [
    {
     "data": {
      "text/plain": [
       "['A5',\n",
       " 'A6',\n",
       " 'A7',\n",
       " 'A8',\n",
       " 'A9',\n",
       " 'A10',\n",
       " 'A11',\n",
       " 'A12',\n",
       " 'B1',\n",
       " 'B2',\n",
       " 'B3',\n",
       " 'B4',\n",
       " 'B5',\n",
       " 'B6',\n",
       " 'B7',\n",
       " 'B8',\n",
       " 'B9',\n",
       " 'B10',\n",
       " 'B11',\n",
       " 'B12',\n",
       " 'C1',\n",
       " 'C2',\n",
       " 'C3',\n",
       " 'C4',\n",
       " 'C5',\n",
       " 'C6']"
      ]
     },
     "execution_count": 10,
     "metadata": {},
     "output_type": "execute_result"
    }
   ],
   "source": [
    "BMS.well_range(\n",
    "    Wells = Well_Range,\n",
    "    Labware_Format = Example_Plate_Layout\n",
    ")"
   ]
  },
  {
   "cell_type": "code",
   "execution_count": null,
   "id": "9b6bf02c",
   "metadata": {},
   "outputs": [],
   "source": []
  }
 ],
 "metadata": {
  "kernelspec": {
   "display_name": "Python 3 (ipykernel)",
   "language": "python",
   "name": "python3"
  },
  "language_info": {
   "codemirror_mode": {
    "name": "ipython",
    "version": 3
   },
   "file_extension": ".py",
   "mimetype": "text/x-python",
   "name": "python",
   "nbconvert_exporter": "python",
   "pygments_lexer": "ipython3",
   "version": "3.9.7"
  }
 },
 "nbformat": 4,
 "nbformat_minor": 5
}
