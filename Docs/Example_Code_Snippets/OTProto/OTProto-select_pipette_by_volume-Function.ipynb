{
 "cells": [
  {
   "cell_type": "markdown",
   "metadata": {},
   "source": [
    "# `BMS.OTProto.select_pipette_by_volume` Example"
   ]
  },
  {
   "cell_type": "markdown",
   "metadata": {},
   "source": [
    "This function will select the most appropriate pipette type from those currently loaded to transfer a specified volume. If no suitable pipette type is loaded, an error is raised. If a suitable pipette is identified, the [`opentrons.protocol_api.contexts.InstrumentContext`](https://docs.opentrons.com/v2/new_protocol_api.html#opentrons.protocol_api.contexts.InstrumentContext) object is returned.\n",
    "\n",
    "The [`opentrons.protocol_api.contexts.InstrumentContext`](https://docs.opentrons.com/v2/new_protocol_api.html#opentrons.protocol_api.contexts.InstrumentContext) object can be used with native Opentrons methods to transfer liquid etc.. It is also used to assign tipboxes and starting tip positions.\n",
    "\n",
    "Currently, this function only supports single channel p20, p300, and p1000 pipettes. The most suitable pipette is determined by looking for the smallest (and most accurate) pipette type which has the specified volume within its range, and then works its way up.\n",
    "\n",
    "For example, 200 uL can be transferred by both the p300 and p100 pipettes. If the p300 pipette is loaded, this will be returned (as it is the smallest of the two loaded pipettes). If the p300 pipette is not loaded, then the p1000 will be returned.\n",
    "\n",
    "If only the p20 was loaded, this would be returned, as 200 uL could be completed by the p20 in 10 transfer events.\n",
    "\n",
    "On the other hand, if a volume of 10 uL was specified and only the p300 and p1000 were loaded, then an error would be raised as the minimum volume which can be transferred by the p300 is 20 uL."
   ]
  },
  {
   "cell_type": "code",
   "execution_count": 4,
   "metadata": {},
   "outputs": [
   ],
   "source": [
    "from BiomationScripter import OTProto\n",
    "# This code is used to create an opentrons protocol object required for this function\n",
    "\n",
    "from opentrons import simulate as OT2 # This line simulates the protocol\n",
    "# Get the correct api version\n",
    "protocol = OT2.get_protocol_api('2.11')\n",
    "# Home the pipetting head\n",
    "protocol.home()"
   ]
  },
  {
   "cell_type": "markdown",
   "metadata": {},
   "source": [
    "Pipettes can be loaded using the native opentrons [`opentrons.protocol_api.contexts.ProtocolContext.load_instrument`](https://docs.opentrons.com/v2/new_protocol_api.html#opentrons.protocol_api.contexts.ProtocolContext.load_instrument) function, or the BiomationScripter [`OTProto.load_pipettes_and_tips`]() function, which calculate the number of tip boxes required and load them, and assign the starting tip at the same time. [OTProto templates]() also have several methods which can load pipettes.\n",
    "\n",
    "Here, the native Opentrons function is used:"
   ]
  },
  {
   "cell_type": "code",
   "execution_count": 5,
   "metadata": {},
   "outputs": [],
   "source": [
    "# Two pipettes are loaded: p300 and p1000\n",
    "p300 = protocol.load_instrument(\"p300_single_gen2\", \"left\")\n",
    "p100 = protocol.load_instrument(\"p1000_single_gen2\", \"right\")"
   ]
  },
  {
   "cell_type": "markdown",
   "metadata": {},
   "source": [
    "`OTProto.select_pipette_by_volume()` takes two arguments.\n",
    "\n",
    "The first argument is the top-level [`opentrons.protocol_api.contexts.ProtocolContext`](https://docs.opentrons.com/v2/new_protocol_api.html#opentrons.protocol_api.contexts.ProtocolContext) object. This is either passed to the Opentrons' `run()` function:\n",
    "```python\n",
    "def run(protocol):\n",
    "    # Code Here\n",
    "```\n",
    "\n",
    "Or it is loaded during simulation by\n",
    "```python\n",
    "protocol = OT2.get_protocol_api('2.11')\n",
    "```\n",
    "\n",
    "For OTProto templates, it is stored using the `self._protocol` attribute."
   ]
  },
  {
   "cell_type": "markdown",
   "metadata": {},
   "source": [
    "The second argument is the volume, given in microlitres."
   ]
  },
  {
   "cell_type": "code",
   "execution_count": 6,
   "metadata": {},
   "outputs": [
    {
     "data": {
      "text/plain": [
       "<InstrumentContext: p300_single_v2.0 in LEFT>"
      ]
     },
     "execution_count": 6,
     "metadata": {},
     "output_type": "execute_result"
    }
   ],
   "source": [
    "OTProto.select_pipette_by_volume(\n",
    "                Protocol = protocol,\n",
    "                Volume = 200\n",
    ")"
   ]
  },
  {
   "cell_type": "code",
   "execution_count": 7,
   "metadata": {},
   "outputs": [
    {
     "ename": "RobotConfigurationError",
     "evalue": "A suitable pipette is not loaded to transfer 10 uL.\n Currently loaded pipettes:\n{<Mount.LEFT: 1>: <InstrumentContext: p300_single_v2.0 in LEFT>, <Mount.RIGHT: 2>: <InstrumentContext: p1000_single_v2.0 in RIGHT>}",
     "output_type": "error",
     "traceback": [
      "\u001b[1;31m---------------------------------------------------------------------------\u001b[0m",
      "\u001b[1;31mRobotConfigurationError\u001b[0m                   Traceback (most recent call last)",
      "\u001b[1;32m<ipython-input-7-04dc6e1f12d8>\u001b[0m in \u001b[0;36m<module>\u001b[1;34m\u001b[0m\n\u001b[0;32m      1\u001b[0m OTProto.select_pipette_by_volume(\n\u001b[0;32m      2\u001b[0m                 \u001b[0mProtocol\u001b[0m \u001b[1;33m=\u001b[0m \u001b[0mprotocol\u001b[0m\u001b[1;33m,\u001b[0m\u001b[1;33m\u001b[0m\u001b[1;33m\u001b[0m\u001b[0m\n\u001b[1;32m----> 3\u001b[1;33m                 \u001b[0mVolume\u001b[0m \u001b[1;33m=\u001b[0m \u001b[1;36m10\u001b[0m\u001b[1;33m\u001b[0m\u001b[1;33m\u001b[0m\u001b[0m\n\u001b[0m\u001b[0;32m      4\u001b[0m )\n",
      "\u001b[1;32m~\\Anaconda3\\lib\\site-packages\\BiomationScripter\\OTProto\\__init__.py\u001b[0m in \u001b[0;36mselect_pipette_by_volume\u001b[1;34m(Protocol, Volume)\u001b[0m\n\u001b[0;32m    262\u001b[0m         \u001b[1;32mreturn\u001b[0m\u001b[1;33m(\u001b[0m\u001b[0mp20\u001b[0m\u001b[1;33m)\u001b[0m\u001b[1;33m\u001b[0m\u001b[1;33m\u001b[0m\u001b[0m\n\u001b[0;32m    263\u001b[0m     \u001b[1;32melse\u001b[0m\u001b[1;33m:\u001b[0m\u001b[1;33m\u001b[0m\u001b[1;33m\u001b[0m\u001b[0m\n\u001b[1;32m--> 264\u001b[1;33m         \u001b[1;32mraise\u001b[0m \u001b[0m_BMS\u001b[0m\u001b[1;33m.\u001b[0m\u001b[0mRobotConfigurationError\u001b[0m\u001b[1;33m(\u001b[0m\u001b[1;34m\"A suitable pipette is not loaded to transfer {} uL.\\n Currently loaded pipettes:\\n{}\"\u001b[0m\u001b[1;33m.\u001b[0m\u001b[0mformat\u001b[0m\u001b[1;33m(\u001b[0m\u001b[0mVolume\u001b[0m\u001b[1;33m,\u001b[0m \u001b[0mProtocol\u001b[0m\u001b[1;33m.\u001b[0m\u001b[0m_instruments\u001b[0m\u001b[1;33m)\u001b[0m\u001b[1;33m)\u001b[0m\u001b[1;33m\u001b[0m\u001b[1;33m\u001b[0m\u001b[0m\n\u001b[0m\u001b[0;32m    265\u001b[0m \u001b[1;33m\u001b[0m\u001b[0m\n\u001b[0;32m    266\u001b[0m \u001b[1;32mdef\u001b[0m \u001b[0mset_location_offset_top\u001b[0m\u001b[1;33m(\u001b[0m\u001b[0mLocations\u001b[0m\u001b[1;33m,\u001b[0m \u001b[0mOffset\u001b[0m\u001b[1;33m)\u001b[0m\u001b[1;33m:\u001b[0m\u001b[1;33m\u001b[0m\u001b[1;33m\u001b[0m\u001b[0m\n",
      "\u001b[1;31mRobotConfigurationError\u001b[0m: A suitable pipette is not loaded to transfer 10 uL.\n Currently loaded pipettes:\n{<Mount.LEFT: 1>: <InstrumentContext: p300_single_v2.0 in LEFT>, <Mount.RIGHT: 2>: <InstrumentContext: p1000_single_v2.0 in RIGHT>}"
     ]
    }
   ],
   "source": [
    "OTProto.select_pipette_by_volume(\n",
    "                Protocol = protocol,\n",
    "                Volume = 10\n",
    ")"
   ]
  }
 ],
 "metadata": {
  "kernelspec": {
   "display_name": "Python 3",
   "language": "python",
   "name": "python3"
  },
  "language_info": {
   "codemirror_mode": {
    "name": "ipython",
    "version": 3
   },
   "file_extension": ".py",
   "mimetype": "text/x-python",
   "name": "python",
   "nbconvert_exporter": "python",
   "pygments_lexer": "ipython3",
   "version": "3.7.3"
  }
 },
 "nbformat": 4,
 "nbformat_minor": 2
}
