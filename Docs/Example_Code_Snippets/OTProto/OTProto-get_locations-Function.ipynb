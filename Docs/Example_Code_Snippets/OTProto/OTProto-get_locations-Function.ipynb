{
 "cells": [
  {
   "cell_type": "markdown",
   "metadata": {},
   "source": [
    "# `BMS.OTProto.get_locations` Example"
   ]
  },
  {
   "cell_type": "markdown",
   "metadata": {},
   "source": [
    "The Opetrons API uses [`opentrons.protocol_api.labware.Well`](https://docs.opentrons.com/v2/new_protocol_api.html#opentrons.protocol_api.labware.Well) objects to capture specific locations on the Opentrons deck. These tend to refer to wells within some piece of labware. The `OTProto.get_locations()` function is intended to convert a well ID (e.g. `\"A4\"`), a well range (e.g. `\"B2:C6\"`), or a list of wells (e.g. `[\"A1\", \"B6\", \"C7\"]`) into a location, or list of locations, the Opentrons can understand."
   ]
  },
  {
   "cell_type": "code",
   "execution_count": 1,
   "metadata": {},
   "outputs": [
   ],
   "source": [
    "from BiomationScripter import OTProto\n",
    "# This code is used to create an opentrons protocol object required for this function\n",
    "\n",
    "from opentrons import simulate as OT2 # This line simulates the protocol\n",
    "# Get the correct api version\n",
    "protocol = OT2.get_protocol_api('2.11')\n",
    "# Home the pipetting head\n",
    "protocol.home()"
   ]
  },
  {
   "cell_type": "markdown",
   "metadata": {},
   "source": [
    "# Converting a Well IDs to Locations"
   ]
  },
  {
   "cell_type": "markdown",
   "metadata": {},
   "source": [
    "The `OTProto.get_locations` function has two mandatory arguments: `Labware` and `Wells`. The `Labware` argument must be supplied with an [`opentrons.protocol_api.labware.Labware`](https://docs.opentrons.com/v2/new_protocol_api.html#opentrons.protocol_api.labware.Labware) object.\n",
    "\n",
    "A labware object can be generated using the following BMS functions:\n",
    "* [OTProto.load_labware](https://github.com/intbio-ncl/BiomationScripterLib/wiki/OTProto#function-load_labware)\n",
    "* [OTProto.calculate_and_load_labware](https://github.com/intbio-ncl/BiomationScripterLib/wiki/OTProto#function-calculate_and_load_labware)\n",
    "* [OTProto.load_labware_from_layout](https://github.com/intbio-ncl/BiomationScripterLib/wiki/OTProto#function-load_labware_from_layout)\n",
    "\n",
    "Other methods of generating an [`opentrons.protocol_api.labware.Labware`](https://docs.opentrons.com/v2/new_protocol_api.html#opentrons.protocol_api.labware.Labware) object can be found in the Opentrons API documentation"
   ]
  },
  {
   "cell_type": "code",
   "execution_count": 2,
   "metadata": {},
   "outputs": [],
   "source": [
    "labware_type = \"opentrons_24_aluminumblock_nest_1.5ml_snapcap\"\n",
    "Labware1 = OTProto.load_labware(\n",
    "                parent = protocol,\n",
    "                labware_api_name = labware_type\n",
    ")"
   ]
  },
  {
   "cell_type": "markdown",
   "metadata": {},
   "source": [
    "There are three formats the `Well` argument can take:"
   ]
  },
  {
   "cell_type": "code",
   "execution_count": 3,
   "metadata": {},
   "outputs": [
    {
     "data": {
      "text/plain": [
       "B2 of Opentrons 24 Well Aluminum Block with NEST 1.5 mL Snapcap on 1"
      ]
     },
     "execution_count": 3,
     "metadata": {},
     "output_type": "execute_result"
    }
   ],
   "source": [
    "# Using a single well ID\n",
    "Well = \"B2\"\n",
    "\n",
    "OTProto.get_locations(\n",
    "                Labware = Labware1,\n",
    "                Wells = Well\n",
    ")"
   ]
  },
  {
   "cell_type": "code",
   "execution_count": 6,
   "metadata": {},
   "outputs": [
    {
     "data": {
      "text/plain": [
       "[A1 of Opentrons 24 Well Aluminum Block with NEST 1.5 mL Snapcap on 1,\n",
       " B4 of Opentrons 24 Well Aluminum Block with NEST 1.5 mL Snapcap on 1,\n",
       " D6 of Opentrons 24 Well Aluminum Block with NEST 1.5 mL Snapcap on 1]"
      ]
     },
     "execution_count": 6,
     "metadata": {},
     "output_type": "execute_result"
    }
   ],
   "source": [
    "# Using a list of wells\n",
    "Wells = [\"A1\", \"B4\", \"D6\"]\n",
    "\n",
    "OTProto.get_locations(\n",
    "                Labware = Labware1,\n",
    "                Wells = Wells\n",
    ")"
   ]
  },
  {
   "cell_type": "code",
   "execution_count": 7,
   "metadata": {},
   "outputs": [
    {
     "data": {
      "text/plain": [
       "[A4 of Opentrons 24 Well Aluminum Block with NEST 1.5 mL Snapcap on 1,\n",
       " A5 of Opentrons 24 Well Aluminum Block with NEST 1.5 mL Snapcap on 1,\n",
       " A6 of Opentrons 24 Well Aluminum Block with NEST 1.5 mL Snapcap on 1,\n",
       " B1 of Opentrons 24 Well Aluminum Block with NEST 1.5 mL Snapcap on 1,\n",
       " B2 of Opentrons 24 Well Aluminum Block with NEST 1.5 mL Snapcap on 1,\n",
       " B3 of Opentrons 24 Well Aluminum Block with NEST 1.5 mL Snapcap on 1,\n",
       " B4 of Opentrons 24 Well Aluminum Block with NEST 1.5 mL Snapcap on 1,\n",
       " B5 of Opentrons 24 Well Aluminum Block with NEST 1.5 mL Snapcap on 1]"
      ]
     },
     "execution_count": 7,
     "metadata": {},
     "output_type": "execute_result"
    }
   ],
   "source": [
    "# Using a well range\n",
    "Well_Range = \"A4:B5\"\n",
    "\n",
    "OTProto.get_locations(\n",
    "                Labware = Labware1,\n",
    "                Wells = Well_Range\n",
    ")"
   ]
  },
  {
   "cell_type": "markdown",
   "metadata": {},
   "source": [
    "When a well range is specified, two more arguments can be given: `Direction` and `Box`.\n",
    "\n",
    "The `Direction` argument determines whether wells are added horizontally (A1, A2, A3, A4...), or vertically (A1, B1, C1...). The default value for this argument is `\"Horizontal\"`"
   ]
  },
  {
   "cell_type": "code",
   "execution_count": 8,
   "metadata": {},
   "outputs": [
    {
     "data": {
      "text/plain": [
       "[A4 of Opentrons 24 Well Aluminum Block with NEST 1.5 mL Snapcap on 1,\n",
       " B4 of Opentrons 24 Well Aluminum Block with NEST 1.5 mL Snapcap on 1,\n",
       " C4 of Opentrons 24 Well Aluminum Block with NEST 1.5 mL Snapcap on 1,\n",
       " D4 of Opentrons 24 Well Aluminum Block with NEST 1.5 mL Snapcap on 1,\n",
       " A5 of Opentrons 24 Well Aluminum Block with NEST 1.5 mL Snapcap on 1,\n",
       " B5 of Opentrons 24 Well Aluminum Block with NEST 1.5 mL Snapcap on 1]"
      ]
     },
     "execution_count": 8,
     "metadata": {},
     "output_type": "execute_result"
    }
   ],
   "source": [
    "# Using a well range vertically\n",
    "Well_Range = \"A4:B5\"\n",
    "\n",
    "OTProto.get_locations(\n",
    "                Labware = Labware1,\n",
    "                Wells = Well_Range,\n",
    "                Direction = \"Vertical\"\n",
    ")"
   ]
  },
  {
   "cell_type": "markdown",
   "metadata": {},
   "source": [
    "The `Box` argument is used to specify whether the well range should form a 'box' shape, or if wells should be counted to the end of the row/column before moving on. The default value for this is `False`"
   ]
  },
  {
   "cell_type": "code",
   "execution_count": 13,
   "metadata": {},
   "outputs": [
    {
     "data": {
      "text/plain": [
       "[A4 of Opentrons 24 Well Aluminum Block with NEST 1.5 mL Snapcap on 1,\n",
       " B4 of Opentrons 24 Well Aluminum Block with NEST 1.5 mL Snapcap on 1,\n",
       " A5 of Opentrons 24 Well Aluminum Block with NEST 1.5 mL Snapcap on 1,\n",
       " B5 of Opentrons 24 Well Aluminum Block with NEST 1.5 mL Snapcap on 1]"
      ]
     },
     "execution_count": 13,
     "metadata": {},
     "output_type": "execute_result"
    }
   ],
   "source": [
    "# Using a 'boxed' well range\n",
    "Well_Range = \"A4:B5\"\n",
    "\n",
    "OTProto.get_locations(\n",
    "                Labware = Labware1,\n",
    "                Wells = Well_Range,\n",
    "                Direction = \"Vertical\",\n",
    "                Box = True\n",
    ")"
   ]
  }
 ],
 "metadata": {
  "kernelspec": {
   "display_name": "Python 3",
   "language": "python",
   "name": "python3"
  },
  "language_info": {
   "codemirror_mode": {
    "name": "ipython",
    "version": 3
   },
   "file_extension": ".py",
   "mimetype": "text/x-python",
   "name": "python",
   "nbconvert_exporter": "python",
   "pygments_lexer": "ipython3",
   "version": "3.7.3"
  }
 },
 "nbformat": 4,
 "nbformat_minor": 2
}
