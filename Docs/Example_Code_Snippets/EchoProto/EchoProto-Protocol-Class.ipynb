{
 "cells": [
  {
   "cell_type": "markdown",
   "id": "2db09e13",
   "metadata": {},
   "source": [
    "# `BMS.EchoProto.Protocol` Class"
   ]
  },
  {
   "cell_type": "markdown",
   "id": "50464c55",
   "metadata": {},
   "source": [
    "The `BMS.EchoProto.Protocol` class is used to capture all information relating to a single Echo protocol. The information captured by the `Protocol` object is used to generate the CSV Picklist files which are used to run the Echo."
   ]
  },
  {
   "cell_type": "markdown",
   "id": "be966b66",
   "metadata": {},
   "source": [
    "## Creating an `EchoProto.Protocol`"
   ]
  },
  {
   "cell_type": "markdown",
   "id": "3b7c6453",
   "metadata": {},
   "source": [
    "First, the BMS generic tools are imported as BMS, and the EchoProto tools are imported as EchoProto"
   ]
  },
  {
   "cell_type": "code",
   "execution_count": 1,
   "id": "213d076c",
   "metadata": {},
   "outputs": [],
   "source": [
    "import BiomationScripter as BMS\n",
    "from BiomationScripter import EchoProto"
   ]
  },
  {
   "cell_type": "markdown",
   "id": "be902551",
   "metadata": {},
   "source": [
    "Next, a title for the Echo protocol is defined"
   ]
  },
  {
   "cell_type": "code",
   "execution_count": 2,
   "id": "4168347e",
   "metadata": {},
   "outputs": [],
   "source": [
    "Protocol_Title = \"Example Protocol\""
   ]
  },
  {
   "cell_type": "markdown",
   "id": "e9636326",
   "metadata": {},
   "source": [
    "The `EchoProto.Protocol` object is created as shown below"
   ]
  },
  {
   "cell_type": "code",
   "execution_count": 3,
   "id": "64c6285b",
   "metadata": {},
   "outputs": [
    {
     "name": "stdout",
     "output_type": "stream",
     "text": [
      "<BiomationScripter.EchoProto.Protocol object at 0x0000014FCB059280>\n"
     ]
    }
   ],
   "source": [
    "Protocol = EchoProto.Protocol(\n",
    "    Title = Protocol_Title\n",
    ")\n",
    "print(Protocol)"
   ]
  },
  {
   "cell_type": "markdown",
   "id": "cee08035",
   "metadata": {},
   "source": [
    "## Adding Source Plates"
   ]
  },
  {
   "cell_type": "markdown",
   "id": "9a58cdb1",
   "metadata": {},
   "source": [
    "Source plates are plates which contain reagents or other liquids which will be transferred to the destination plate(s). Source plates are defined using the [`BMS.Labware_Layout`](../../BiomationScripter.md#class-labware_layout) class. These source plates can be newly created, or imported from [standard layout files](../../Standard_Layout_File.md) using the [`BMS.Import_Labware_Layout`](../../BiomationScripter.md#function-import_labware_layout) function.\n",
    "\n",
    "Here, a DNA source plate is created."
   ]
  },
  {
   "cell_type": "code",
   "execution_count": 4,
   "id": "b2eeef38",
   "metadata": {},
   "outputs": [],
   "source": [
    "Coloured_Water_Source_Layout = BMS.Labware_Layout(\n",
    "    Name = \"DNA_Source_Plate\",\n",
    "    Type = \"384PP\"\n",
    ")\n",
    "\n",
    "Coloured_Water_Source_Layout.add_content(\n",
    "    Well = \"A1\",\n",
    "    Reagent = \"Red\",\n",
    "    Volume = 40,\n",
    "    Liquid_Class = \"AQ_BP\"\n",
    ")\n",
    "\n",
    "Coloured_Water_Source_Layout.add_content(\n",
    "    Well = \"A2\",\n",
    "    Reagent = \"Blue\",\n",
    "    Volume = 40,\n",
    "    Liquid_Class = \"AQ_BP\"\n",
    ")"
   ]
  },
  {
   "cell_type": "markdown",
   "id": "9314d783",
   "metadata": {},
   "source": [
    "When being used as a source plate for Echo protocols, the `BMS.Labware_Layout` MUST have a compatible source type defined. Compatible source types can be retrieved using `EchoProto.Source_Plate_Types.keys()`."
   ]
  },
  {
   "cell_type": "code",
   "execution_count": 5,
   "id": "330ba9c2",
   "metadata": {},
   "outputs": [
    {
     "data": {
      "text/plain": [
       "dict_keys(['384PP', '384LDV', '6RES'])"
      ]
     },
     "execution_count": 5,
     "metadata": {},
     "output_type": "execute_result"
    }
   ],
   "source": [
    "EchoProto.Source_Plate_Types.keys()"
   ]
  },
  {
   "cell_type": "markdown",
   "id": "9e57988e",
   "metadata": {},
   "source": [
    "The source plate type used here is a 384PP plate"
   ]
  },
  {
   "cell_type": "code",
   "execution_count": 6,
   "id": "63a826ad",
   "metadata": {},
   "outputs": [
    {
     "data": {
      "text/plain": [
       "'384PP'"
      ]
     },
     "execution_count": 6,
     "metadata": {},
     "output_type": "execute_result"
    }
   ],
   "source": [
    "Coloured_Water_Source_Layout.type"
   ]
  },
  {
   "cell_type": "markdown",
   "id": "a219e1d0",
   "metadata": {},
   "source": [
    "Additionally, each reagent or other liquid in the source plate should have a liquid class specified. The liquid class is used by the Echo to determine the calibration to use for transfer events."
   ]
  },
  {
   "cell_type": "code",
   "execution_count": 7,
   "id": "f8b4582e",
   "metadata": {},
   "outputs": [
    {
     "name": "stdout",
     "output_type": "stream",
     "text": [
      "Information for DNA_Source_Plate\n",
      "Plate Type: 384PP\n",
      "Well\tVolume(uL)\tLiquid Class\tReagent\n",
      "A1\t40.0\t\tAQ_BP\t\tRed\n",
      "A2\t40.0\t\tAQ_BP\t\tBlue\n"
     ]
    },
    {
     "data": {
      "text/plain": [
       "'A1\\t40.0\\t\\tAQ_BP\\t\\tRed\\nA2\\t40.0\\t\\tAQ_BP\\t\\tBlue\\n'"
      ]
     },
     "execution_count": 7,
     "metadata": {},
     "output_type": "execute_result"
    }
   ],
   "source": [
    "Coloured_Water_Source_Layout.print()"
   ]
  },
  {
   "cell_type": "markdown",
   "id": "11d6bb63",
   "metadata": {},
   "source": [
    "A source plate can be added to an `EchoProto.Protocol` object using the `add_source_plate` method."
   ]
  },
  {
   "cell_type": "code",
   "execution_count": 8,
   "id": "14d0115d",
   "metadata": {},
   "outputs": [],
   "source": [
    "Protocol.add_source_plate(Coloured_Water_Source_Layout)"
   ]
  },
  {
   "cell_type": "markdown",
   "id": "fb9be461",
   "metadata": {},
   "source": [
    "Source plates can be retrieved using the `get_source_plates` method"
   ]
  },
  {
   "cell_type": "code",
   "execution_count": 9,
   "id": "7a3cb794",
   "metadata": {},
   "outputs": [
    {
     "data": {
      "text/plain": [
       "[<BiomationScripter.Labware_Layout at 0x14fccea7a60>]"
      ]
     },
     "execution_count": 9,
     "metadata": {},
     "output_type": "execute_result"
    }
   ],
   "source": [
    "Protocol.get_source_plates()"
   ]
  },
  {
   "cell_type": "markdown",
   "id": "5e7c4219",
   "metadata": {},
   "source": [
    "## Adding Destination Plates"
   ]
  },
  {
   "cell_type": "markdown",
   "id": "d96ac480",
   "metadata": {},
   "source": [
    "Destination plates define not only the type of plate to be used, but also the intended final contents after the protocol has been ran. Below, a destination plate is set up. Note that here, liquid classes are not required. This is because `EchoProto` uses the source plates to determine which liquid class to use for each liquid."
   ]
  },
  {
   "cell_type": "code",
   "execution_count": 10,
   "id": "4bc2786e",
   "metadata": {},
   "outputs": [],
   "source": [
    "Destination_Plate_Layout = BMS.Labware_Layout(\n",
    "    Name = \"Destination Plate\",\n",
    "    Type = \"Optical Amp Plate\"\n",
    ")\n",
    "Destination_Plate_Layout.define_format(\n",
    "    Rows = 16,\n",
    "    Columns = 24\n",
    ")"
   ]
  },
  {
   "cell_type": "code",
   "execution_count": 11,
   "id": "3e950b77",
   "metadata": {},
   "outputs": [
    {
     "name": "stdout",
     "output_type": "stream",
     "text": [
      "Information for Destination Plate\n",
      "Plate Type: Optical Amp Plate\n",
      "Well\tVolume(uL)\tLiquid Class\tReagent\n",
      "B2\t1.0\t\tUnknown\t\tBlue\n",
      "B2\t1.0\t\tUnknown\t\tYellow\n",
      "B3\t1.0\t\tUnknown\t\tBlue\n",
      "B3\t1.0\t\tUnknown\t\tRed\n",
      "B4\t1.0\t\tUnknown\t\tYellow\n",
      "B4\t1.0\t\tUnknown\t\tRed\n"
     ]
    },
    {
     "data": {
      "text/plain": [
       "'B2\\t1.0\\t\\tUnknown\\t\\tBlue\\nB2\\t1.0\\t\\tUnknown\\t\\tYellow\\nB3\\t1.0\\t\\tUnknown\\t\\tBlue\\nB3\\t1.0\\t\\tUnknown\\t\\tRed\\nB4\\t1.0\\t\\tUnknown\\t\\tYellow\\nB4\\t1.0\\t\\tUnknown\\t\\tRed\\n'"
      ]
     },
     "execution_count": 11,
     "metadata": {},
     "output_type": "execute_result"
    }
   ],
   "source": [
    "Destination_Plate_Layout.add_content(\n",
    "    Well = \"B2\",\n",
    "    Reagent = \"Blue\",\n",
    "    Volume = 1\n",
    ")\n",
    "\n",
    "Destination_Plate_Layout.add_content(\n",
    "    Well = \"B2\",\n",
    "    Reagent = \"Yellow\",\n",
    "    Volume = 1\n",
    ")\n",
    "\n",
    "Destination_Plate_Layout.add_content(\n",
    "    Well = \"B3\",\n",
    "    Reagent = \"Blue\",\n",
    "    Volume = 1\n",
    ")\n",
    "\n",
    "Destination_Plate_Layout.add_content(\n",
    "    Well = \"B3\",\n",
    "    Reagent = \"Red\",\n",
    "    Volume = 1\n",
    ")\n",
    "\n",
    "Destination_Plate_Layout.add_content(\n",
    "    Well = \"B4\",\n",
    "    Reagent = \"Yellow\",\n",
    "    Volume = 1\n",
    ")\n",
    "\n",
    "Destination_Plate_Layout.add_content(\n",
    "    Well = \"B4\",\n",
    "    Reagent = \"Red\",\n",
    "    Volume = 1\n",
    ")\n",
    "\n",
    "Destination_Plate_Layout.print()"
   ]
  },
  {
   "cell_type": "markdown",
   "id": "07cfbbb4",
   "metadata": {},
   "source": [
    "The destination plate can be added using the `add_destination_plate` method, and retrieved using the `get_destination_plates` method, as shown below"
   ]
  },
  {
   "cell_type": "code",
   "execution_count": 12,
   "id": "dc0d7014",
   "metadata": {},
   "outputs": [
    {
     "data": {
      "text/plain": [
       "[<BiomationScripter.Labware_Layout at 0x14fcced2430>]"
      ]
     },
     "execution_count": 12,
     "metadata": {},
     "output_type": "execute_result"
    }
   ],
   "source": [
    "Protocol.add_destination_plate(Destination_Plate_Layout)\n",
    "Protocol.get_destination_plates()"
   ]
  },
  {
   "cell_type": "markdown",
   "id": "510d8e9f",
   "metadata": {},
   "source": [
    "## Making Echo Picklists from an `EchoProto.Protocol` Object"
   ]
  },
  {
   "cell_type": "markdown",
   "id": "815e8b69",
   "metadata": {},
   "source": [
    "The [`EchoProto.Generate_Actions`]() and [`EchoProto.Write_Picklists`]() functions are used to create Picklists which can be imported to the Echo software and used to run the protocol defined here."
   ]
  },
  {
   "cell_type": "markdown",
   "id": "c6e4f9f6",
   "metadata": {},
   "source": [
    "`EchoProto.Generate_Actions` is the first function to be used. This function will firstly check that all reagents/liquids specified in the destination plate(s) are present in a source plate. If there are any missing, an error is raised."
   ]
  },
  {
   "cell_type": "code",
   "execution_count": 13,
   "id": "f4c2f8ac",
   "metadata": {},
   "outputs": [
    {
     "ename": "OutOFSourceMaterial",
     "evalue": "Cannot find the following reagents in a source plate: {'Yellow'}",
     "output_type": "error",
     "traceback": [
      "\u001b[1;31m---------------------------------------------------------------------------\u001b[0m",
      "\u001b[1;31mOutOFSourceMaterial\u001b[0m                       Traceback (most recent call last)",
      "\u001b[1;32m~\\AppData\\Local\\Temp/ipykernel_68604/2540961699.py\u001b[0m in \u001b[0;36m<module>\u001b[1;34m\u001b[0m\n\u001b[1;32m----> 1\u001b[1;33m \u001b[0mEchoProto\u001b[0m\u001b[1;33m.\u001b[0m\u001b[0mGenerate_Actions\u001b[0m\u001b[1;33m(\u001b[0m\u001b[0mProtocol\u001b[0m\u001b[1;33m)\u001b[0m\u001b[1;33m\u001b[0m\u001b[1;33m\u001b[0m\u001b[0m\n\u001b[0m",
      "\u001b[1;32m~\\anaconda3\\lib\\site-packages\\BiomationScripter\\EchoProto\\__init__.py\u001b[0m in \u001b[0;36mGenerate_Actions\u001b[1;34m(Protocol)\u001b[0m\n\u001b[0;32m    116\u001b[0m \u001b[1;33m\u001b[0m\u001b[0m\n\u001b[0;32m    117\u001b[0m     \u001b[1;32mif\u001b[0m \u001b[0mlen\u001b[0m\u001b[1;33m(\u001b[0m\u001b[0mMissing_Reagents\u001b[0m\u001b[1;33m)\u001b[0m \u001b[1;33m>\u001b[0m \u001b[1;36m0\u001b[0m\u001b[1;33m:\u001b[0m\u001b[1;33m\u001b[0m\u001b[1;33m\u001b[0m\u001b[0m\n\u001b[1;32m--> 118\u001b[1;33m         \u001b[1;32mraise\u001b[0m \u001b[0m_BMS\u001b[0m\u001b[1;33m.\u001b[0m\u001b[0mOutOFSourceMaterial\u001b[0m\u001b[1;33m(\u001b[0m\u001b[1;34m\"Cannot find the following reagents in a source plate: {}\"\u001b[0m\u001b[1;33m.\u001b[0m\u001b[0mformat\u001b[0m\u001b[1;33m(\u001b[0m\u001b[0mMissing_Reagents\u001b[0m\u001b[1;33m)\u001b[0m\u001b[1;33m)\u001b[0m\u001b[1;33m\u001b[0m\u001b[1;33m\u001b[0m\u001b[0m\n\u001b[0m\u001b[0;32m    119\u001b[0m \u001b[1;33m\u001b[0m\u001b[0m\n\u001b[0;32m    120\u001b[0m     \u001b[1;31m# Check if there is enough volume for each of the required reagents present in the source plates\u001b[0m\u001b[1;33m\u001b[0m\u001b[1;33m\u001b[0m\u001b[0m\n",
      "\u001b[1;31mOutOFSourceMaterial\u001b[0m: Cannot find the following reagents in a source plate: {'Yellow'}"
     ]
    }
   ],
   "source": [
    "EchoProto.Generate_Actions(Protocol)"
   ]
  },
  {
   "cell_type": "markdown",
   "id": "fa5423eb",
   "metadata": {},
   "source": [
    "As can be seen above, the \"Yellow\" liquid is missing. This can be added to the source plate as below"
   ]
  },
  {
   "cell_type": "code",
   "execution_count": 14,
   "id": "21d0ef58",
   "metadata": {},
   "outputs": [],
   "source": [
    "Coloured_Water_Source_Layout.add_content(\n",
    "    Well = \"A3\",\n",
    "    Reagent = \"Yellow\",\n",
    "    Volume = 10,\n",
    "    Liquid_Class = \"AQ_BP\"\n",
    ")"
   ]
  },
  {
   "cell_type": "markdown",
   "id": "80624c1f",
   "metadata": {},
   "source": [
    "After checking that all required reagents are present, `Generate_Actions` will then check that enough of all source material is present. This also takes into account the dead volume for the different source plate types."
   ]
  },
  {
   "cell_type": "code",
   "execution_count": 15,
   "id": "7ca20c37",
   "metadata": {},
   "outputs": [
    {
     "name": "stdout",
     "output_type": "stream",
     "text": [
      "Well A3 of plate DNA_Source_Plate containing Yellow is 5.0 uL below the dead volume.\n"
     ]
    },
    {
     "ename": "OutOFSourceMaterial",
     "evalue": "\nNot enough volume of Yellow. 2.0 uL more is required. Last well checked was A3 of DNA_Source_Plate. This well is also 5.0 uL below the dead volume.\n\n\nName,Well,Plate,Volume Needed\nYellow,A3,DNA_Source_Plate,7.0\n",
     "output_type": "error",
     "traceback": [
      "\u001b[1;31m---------------------------------------------------------------------------\u001b[0m",
      "\u001b[1;31mOutOFSourceMaterial\u001b[0m                       Traceback (most recent call last)",
      "\u001b[1;32m~\\AppData\\Local\\Temp/ipykernel_68604/2540961699.py\u001b[0m in \u001b[0;36m<module>\u001b[1;34m\u001b[0m\n\u001b[1;32m----> 1\u001b[1;33m \u001b[0mEchoProto\u001b[0m\u001b[1;33m.\u001b[0m\u001b[0mGenerate_Actions\u001b[0m\u001b[1;33m(\u001b[0m\u001b[0mProtocol\u001b[0m\u001b[1;33m)\u001b[0m\u001b[1;33m\u001b[0m\u001b[1;33m\u001b[0m\u001b[0m\n\u001b[0m",
      "\u001b[1;32m~\\anaconda3\\lib\\site-packages\\BiomationScripter\\EchoProto\\__init__.py\u001b[0m in \u001b[0;36mGenerate_Actions\u001b[1;34m(Protocol)\u001b[0m\n\u001b[0;32m    174\u001b[0m             \u001b[0merror_text\u001b[0m \u001b[1;33m+=\u001b[0m \u001b[1;34m\"Not enough volume of {}. {} uL more is required. Last well checked was {} of {}{}\\n\"\u001b[0m\u001b[1;33m.\u001b[0m\u001b[0mformat\u001b[0m\u001b[1;33m(\u001b[0m\u001b[0me\u001b[0m\u001b[1;33m[\u001b[0m\u001b[1;36m0\u001b[0m\u001b[1;33m]\u001b[0m\u001b[1;33m,\u001b[0m \u001b[0me\u001b[0m\u001b[1;33m[\u001b[0m\u001b[1;36m1\u001b[0m\u001b[1;33m]\u001b[0m\u001b[1;33m,\u001b[0m \u001b[0me\u001b[0m\u001b[1;33m[\u001b[0m\u001b[1;36m2\u001b[0m\u001b[1;33m]\u001b[0m\u001b[1;33m,\u001b[0m \u001b[0me\u001b[0m\u001b[1;33m[\u001b[0m\u001b[1;36m3\u001b[0m\u001b[1;33m]\u001b[0m\u001b[1;33m,\u001b[0m \u001b[0mbelow_dead_volume_text\u001b[0m\u001b[1;33m)\u001b[0m\u001b[1;33m\u001b[0m\u001b[1;33m\u001b[0m\u001b[0m\n\u001b[0;32m    175\u001b[0m             \u001b[0merror_csv_text\u001b[0m \u001b[1;33m+=\u001b[0m \u001b[1;34m\"{},{},{},{}\\n\"\u001b[0m\u001b[1;33m.\u001b[0m\u001b[0mformat\u001b[0m\u001b[1;33m(\u001b[0m\u001b[0me\u001b[0m\u001b[1;33m[\u001b[0m\u001b[1;36m0\u001b[0m\u001b[1;33m]\u001b[0m\u001b[1;33m,\u001b[0m \u001b[0me\u001b[0m\u001b[1;33m[\u001b[0m\u001b[1;36m2\u001b[0m\u001b[1;33m]\u001b[0m\u001b[1;33m,\u001b[0m \u001b[0me\u001b[0m\u001b[1;33m[\u001b[0m\u001b[1;36m3\u001b[0m\u001b[1;33m]\u001b[0m\u001b[1;33m,\u001b[0m \u001b[0mextra_volume_to_add\u001b[0m\u001b[1;33m)\u001b[0m\u001b[1;33m\u001b[0m\u001b[1;33m\u001b[0m\u001b[0m\n\u001b[1;32m--> 176\u001b[1;33m         \u001b[1;32mraise\u001b[0m \u001b[0m_BMS\u001b[0m\u001b[1;33m.\u001b[0m\u001b[0mOutOFSourceMaterial\u001b[0m\u001b[1;33m(\u001b[0m\u001b[0merror_text\u001b[0m \u001b[1;33m+\u001b[0m \u001b[0merror_csv_text\u001b[0m\u001b[1;33m)\u001b[0m\u001b[1;33m\u001b[0m\u001b[1;33m\u001b[0m\u001b[0m\n\u001b[0m\u001b[0;32m    177\u001b[0m \u001b[1;33m\u001b[0m\u001b[0m\n\u001b[0;32m    178\u001b[0m     \u001b[1;31m###########################\u001b[0m\u001b[1;33m\u001b[0m\u001b[1;33m\u001b[0m\u001b[0m\n",
      "\u001b[1;31mOutOFSourceMaterial\u001b[0m: \nNot enough volume of Yellow. 2.0 uL more is required. Last well checked was A3 of DNA_Source_Plate. This well is also 5.0 uL below the dead volume.\n\n\nName,Well,Plate,Volume Needed\nYellow,A3,DNA_Source_Plate,7.0\n"
     ]
    }
   ],
   "source": [
    "EchoProto.Generate_Actions(Protocol)"
   ]
  },
  {
   "cell_type": "markdown",
   "id": "c34363c3",
   "metadata": {},
   "source": [
    "As can be seen above, the \"Yellow\" liquid does not have enough volume to complete the protocol. The error message indicates that 7 uL more is required. This volume is determined by calclating how much more liquid is required to ensure the reagent is above the dead volume (in this case, 5 uL), and the adding the amount of liquid required by the protocol (in this case, an extra 2 uL). This extra volume is added below"
   ]
  },
  {
   "cell_type": "code",
   "execution_count": 16,
   "id": "dce5042f",
   "metadata": {},
   "outputs": [],
   "source": [
    "Current_Yellow_Volume = Coloured_Water_Source_Layout.get_volume_of_liquid_in_well(\"Yellow\", \"A3\")\n",
    "\n",
    "Coloured_Water_Source_Layout.update_volume_in_well(\n",
    "    Well = \"A3\",\n",
    "    Reagent = \"Yellow\",\n",
    "    Volume = Current_Yellow_Volume + 7\n",
    ")"
   ]
  },
  {
   "cell_type": "markdown",
   "id": "92aae748",
   "metadata": {},
   "source": [
    "Once all source material has been validated, the `Generate_Actions` function will determine the required liquid transfer events required to complete the protocol. The liquid transfer events are captured by `TransferList` objects, where each `TransferList` defines transfer events from one source plate. These are stored in the `EchoProto.Protocol` object using the `transfer_lists` attribute"
   ]
  },
  {
   "cell_type": "code",
   "execution_count": 17,
   "id": "f15e967d",
   "metadata": {},
   "outputs": [
    {
     "name": "stdout",
     "output_type": "stream",
     "text": [
      "[[<BiomationScripter.EchoProto.TransferList object at 0x0000014FCAF82D00>]]\n"
     ]
    }
   ],
   "source": [
    "EchoProto.Generate_Actions(Protocol)\n",
    "print(Protocol.transfer_lists)"
   ]
  },
  {
   "cell_type": "markdown",
   "id": "857d3642",
   "metadata": {},
   "source": [
    "Following the creation of the Transfer Lists, the `Write_Picklists` function can be used to convert the `EchoProto.Protocol` object to a set of CSV picklist files. The `Write_Picklists` function takes three arguments. The first is the `Protocol` object to converted. The second is the location where the picklists should be saved. The third, `merge`, determined whether a picklist should be created for each source plate, or each source plate type. By default, `merge` is set to `False` and a separate picklist is created for every source plate, if there is more than one."
   ]
  },
  {
   "cell_type": "code",
   "execution_count": 19,
   "id": "755e2c5b",
   "metadata": {},
   "outputs": [
    {
     "name": "stdout",
     "output_type": "stream",
     "text": [
      "Resources//Example Protocol-384PP-(DNA_Source_Plate).csv\n"
     ]
    }
   ],
   "source": [
    "EchoProto.Write_Picklists(\n",
    "    Protocol = Protocol,\n",
    "    Save_Location = \"Resources/\",\n",
    "    Merge = False\n",
    ")"
   ]
  },
  {
   "cell_type": "markdown",
   "id": "7ceeac5a",
   "metadata": {},
   "source": [
    "The generated picklist can be seen [here](Resources/Example%20Protocol-384PP-(DNA_Source_Plate).csv)"
   ]
  }
 ],
 "metadata": {
  "kernelspec": {
   "display_name": "Python 3 (ipykernel)",
   "language": "python",
   "name": "python3"
  },
  "language_info": {
   "codemirror_mode": {
    "name": "ipython",
    "version": 3
   },
   "file_extension": ".py",
   "mimetype": "text/x-python",
   "name": "python",
   "nbconvert_exporter": "python",
   "pygments_lexer": "ipython3",
   "version": "3.9.7"
  }
 },
 "nbformat": 4,
 "nbformat_minor": 5
}
