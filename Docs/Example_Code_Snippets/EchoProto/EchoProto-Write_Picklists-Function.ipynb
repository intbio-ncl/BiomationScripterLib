{
 "cells": [
  {
   "cell_type": "markdown",
   "id": "79e314dc",
   "metadata": {},
   "source": [
    "# `BMS.EchoProto.Write_Picklists()` Function"
   ]
  },
  {
   "cell_type": "markdown",
   "id": "f7dcee75",
   "metadata": {},
   "source": [
    "See the [`EchoProto.Protocol` code snippets](EchoProto-Protocol-Class.ipynb#Making-Echo-Picklists-from-an-EchoProto.Protocol-Object) for example usage"
   ]
  },
  {
   "cell_type": "code",
   "execution_count": null,
   "id": "7a10c91a",
   "metadata": {},
   "outputs": [],
   "source": []
  }
 ],
 "metadata": {
  "kernelspec": {
   "display_name": "Python 3 (ipykernel)",
   "language": "python",
   "name": "python3"
  },
  "language_info": {
   "codemirror_mode": {
    "name": "ipython",
    "version": 3
   },
   "file_extension": ".py",
   "mimetype": "text/x-python",
   "name": "python",
   "nbconvert_exporter": "python",
   "pygments_lexer": "ipython3",
   "version": "3.9.7"
  }
 },
 "nbformat": 4,
 "nbformat_minor": 5
}
