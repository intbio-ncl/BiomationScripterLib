{
 "cells": [
  {
   "cell_type": "markdown",
   "metadata": {},
   "source": [
    "# `BMS.OTProto.load_labware` Example"
   ]
  },
  {
   "cell_type": "markdown",
   "metadata": {},
   "source": [
    "Using the native Opentrons API, the way in which labware is loaded can change depending on whether the labware is custom or default, and whether the protocol is being executed via the app, executed via a jupyter notebook, or if it is being simulated. The `OTProto.load_labware` function can load any labware in any environment."
   ]
  },
  {
   "cell_type": "code",
   "execution_count": 1,
   "metadata": {},
   "outputs": [
    {
     "name": "stderr",
     "output_type": "stream",
     "text": [
      "C:\\Users\\bradl\\.opentrons\\robot_settings.json not found. Loading defaults\n",
      "C:\\Users\\bradl\\.opentrons\\deck_calibration.json not found. Loading defaults\n"
     ]
    }
   ],
   "source": [
    "from BiomationScripter import OTProto\n",
    "# This code is used to create an opentrons protocol object required for this function\n",
    "\n",
    "from opentrons import simulate as OT2 # This line simulates the protocol\n",
    "# Get the correct api version\n",
    "protocol = OT2.get_protocol_api('2.11')\n",
    "# Home the pipetting head\n",
    "protocol.home()"
   ]
  },
  {
   "cell_type": "markdown",
   "metadata": {},
   "source": [
    "## Best Practices"
   ]
  },
  {
   "cell_type": "markdown",
   "metadata": {},
   "source": [
    "It is recommended that a directory/folder is created for custom labware files on any computer that will be used for developing/simulating Opentrons protocols. This directory can then always be provided where appropriate. When the protocol is loaded to the Opentrons via the app, the directory will then be ignored so that custom labware can be loaded through the usual way."
   ]
  },
  {
   "cell_type": "code",
   "execution_count": 2,
   "metadata": {},
   "outputs": [],
   "source": [
    "custom_labware_dir = \"custom_labware/\""
   ]
  },
  {
   "cell_type": "markdown",
   "metadata": {},
   "source": [
    "## Loading default labware to the next empty deck position"
   ]
  },
  {
   "cell_type": "markdown",
   "metadata": {},
   "source": [
    "Any labware being loaded must be reference by its API name. Default labware api names can be found here: https://labware.opentrons.com/\n",
    "\n",
    "When loading to the deck, the `parent` argument should be the opentrons `protocol` object defined above."
   ]
  },
  {
   "cell_type": "code",
   "execution_count": 3,
   "metadata": {},
   "outputs": [],
   "source": [
    "# The code below will load the labware to the next empty slot on the Opentrons deck\n",
    "labware_type = \"opentrons_24_aluminumblock_nest_1.5ml_snapcap\"\n",
    "Default_Labware_1 = OTProto.load_labware(\n",
    "                parent = protocol,\n",
    "                labware_api_name = labware_type\n",
    ")"
   ]
  },
  {
   "cell_type": "code",
   "execution_count": 4,
   "metadata": {},
   "outputs": [
    {
     "name": "stdout",
     "output_type": "stream",
     "text": [
      "1 <opentrons.protocols.context.protocol_api.labware.LabwareImplementation object at 0x0000026B8FA71550>\n",
      "2 None\n",
      "3 None\n",
      "4 None\n",
      "5 None\n",
      "6 None\n",
      "7 None\n",
      "8 None\n",
      "9 None\n",
      "10 None\n",
      "11 None\n",
      "12 Opentrons Fixed Trash on 12\n"
     ]
    }
   ],
   "source": [
    "for position in protocol.deck:\n",
    "    print(position, protocol.deck[position])"
   ]
  },
  {
   "cell_type": "markdown",
   "metadata": {},
   "source": [
    "The `load_labware` function returns an [`opentrons.protocol_api.labware.Labware`](https://docs.opentrons.com/v2/new_protocol_api.html#opentrons.protocol_api.labware.Labware) object"
   ]
  },
  {
   "cell_type": "code",
   "execution_count": 5,
   "metadata": {},
   "outputs": [
    {
     "name": "stdout",
     "output_type": "stream",
     "text": [
      "Object: Opentrons 24 Well Aluminum Block with NEST 1.5 mL Snapcap on 1\n",
      "Name: opentrons_24_aluminumblock_nest_1.5ml_snapcap\n"
     ]
    }
   ],
   "source": [
    "print(\"Object:\", Default_Labware_1)\n",
    "print(\"Name:\", Default_Labware_1.name)"
   ]
  },
  {
   "cell_type": "markdown",
   "metadata": {},
   "source": [
    "## Loading default labware to a specific deck position"
   ]
  },
  {
   "cell_type": "markdown",
   "metadata": {},
   "source": [
    "Labware can also be loaded to a specific deck position using the `deck_position` argument, which must be an `integer` between `1` and `11`"
   ]
  },
  {
   "cell_type": "code",
   "execution_count": 6,
   "metadata": {},
   "outputs": [],
   "source": [
    "labware_type = \"opentrons_96_tiprack_20ul\"\n",
    "Default_Labware_2 = OTProto.load_labware(\n",
    "                parent = protocol,\n",
    "                labware_api_name = labware_type,\n",
    "                deck_position = 5\n",
    ")"
   ]
  },
  {
   "cell_type": "code",
   "execution_count": 7,
   "metadata": {},
   "outputs": [
    {
     "name": "stdout",
     "output_type": "stream",
     "text": [
      "Object: Opentrons 96 Tip Rack 20 µL on 5\n",
      "Name: opentrons_96_tiprack_20ul\n"
     ]
    }
   ],
   "source": [
    "print(\"Object:\", Default_Labware_2)\n",
    "print(\"Name:\", Default_Labware_2.name)"
   ]
  },
  {
   "cell_type": "code",
   "execution_count": 8,
   "metadata": {},
   "outputs": [
    {
     "name": "stdout",
     "output_type": "stream",
     "text": [
      "1 <opentrons.protocols.context.protocol_api.labware.LabwareImplementation object at 0x0000026B8FA71550>\n",
      "2 None\n",
      "3 None\n",
      "4 None\n",
      "5 <opentrons.protocols.context.protocol_api.labware.LabwareImplementation object at 0x0000026B919A9DC0>\n",
      "6 None\n",
      "7 None\n",
      "8 None\n",
      "9 None\n",
      "10 None\n",
      "11 None\n",
      "12 Opentrons Fixed Trash on 12\n"
     ]
    }
   ],
   "source": [
    "for position in protocol.deck:\n",
    "    print(position, protocol.deck[position])"
   ]
  },
  {
   "cell_type": "markdown",
   "metadata": {},
   "source": [
    "## Labelling Labware"
   ]
  },
  {
   "cell_type": "markdown",
   "metadata": {},
   "source": [
    "Labware can be given a label which will then show up in the Opentrons app once the protocol is loaded. This can help differentiate between different instances of the same labware type"
   ]
  },
  {
   "cell_type": "code",
   "execution_count": 9,
   "metadata": {},
   "outputs": [],
   "source": [
    "# The code below will load the labware to the next empty slot on the Opentrons deck\n",
    "labware_type = \"opentrons_24_aluminumblock_nest_1.5ml_snapcap\"\n",
    "Default_Labware_3 = OTProto.load_labware(\n",
    "                parent = protocol,\n",
    "                labware_api_name = labware_type,\n",
    "                label = \"Default Labware 3\"\n",
    ")"
   ]
  },
  {
   "cell_type": "code",
   "execution_count": 10,
   "metadata": {},
   "outputs": [
    {
     "name": "stdout",
     "output_type": "stream",
     "text": [
      "Object: Default Labware 3 on 2\n",
      "Name: Default Labware 3\n",
      "API: opentrons_24_aluminumblock_nest_1.5ml_snapcap\n"
     ]
    }
   ],
   "source": [
    "print(\"Object:\", Default_Labware_3)\n",
    "print(\"Name:\", Default_Labware_3.name)\n",
    "print(\"API:\", Default_Labware_3.load_name)"
   ]
  },
  {
   "cell_type": "code",
   "execution_count": 11,
   "metadata": {},
   "outputs": [
    {
     "name": "stdout",
     "output_type": "stream",
     "text": [
      "1 <opentrons.protocols.context.protocol_api.labware.LabwareImplementation object at 0x0000026B8FA71550>\n",
      "2 <opentrons.protocols.context.protocol_api.labware.LabwareImplementation object at 0x0000026B919E8760>\n",
      "3 None\n",
      "4 None\n",
      "5 <opentrons.protocols.context.protocol_api.labware.LabwareImplementation object at 0x0000026B919A9DC0>\n",
      "6 None\n",
      "7 None\n",
      "8 None\n",
      "9 None\n",
      "10 None\n",
      "11 None\n",
      "12 Opentrons Fixed Trash on 12\n"
     ]
    }
   ],
   "source": [
    "for position in protocol.deck:\n",
    "    print(position, protocol.deck[position])"
   ]
  },
  {
   "cell_type": "markdown",
   "metadata": {},
   "source": [
    "## Loading Labware to a Hardware Module"
   ]
  },
  {
   "cell_type": "markdown",
   "metadata": {},
   "source": [
    "Labware can be loaded to a hardware module by using the hardware module's object as the value for the `parent` argument. In this case, any deck position will be ignored as the labware will be loaded to wherever the hardware module is loaded"
   ]
  },
  {
   "cell_type": "code",
   "execution_count": 12,
   "metadata": {},
   "outputs": [],
   "source": [
    "# Load a temperature module to deck position 4\n",
    "Temp_Deck = protocol.load_module(\"temperature module gen2\", 4)"
   ]
  },
  {
   "cell_type": "code",
   "execution_count": 13,
   "metadata": {},
   "outputs": [],
   "source": [
    "labware_type = \"opentrons_24_aluminumblock_nest_1.5ml_snapcap\"\n",
    "Temp_Deck_Labware = OTProto.load_labware(\n",
    "                parent = Temp_Deck,\n",
    "                labware_api_name = labware_type,\n",
    "                label = \"Temp_Deck_Labware\"\n",
    ")"
   ]
  },
  {
   "cell_type": "code",
   "execution_count": 14,
   "metadata": {},
   "outputs": [
    {
     "name": "stdout",
     "output_type": "stream",
     "text": [
      "Object: Temp_Deck_Labware on Temperature Module GEN2 on 4\n",
      "Name: Temp_Deck_Labware\n",
      "API: opentrons_24_aluminumblock_nest_1.5ml_snapcap\n",
      "Parent: Temperature Module GEN2 on 4\n"
     ]
    }
   ],
   "source": [
    "print(\"Object:\", Temp_Deck_Labware)\n",
    "print(\"Name:\", Temp_Deck_Labware.name)\n",
    "print(\"API:\", Temp_Deck_Labware.load_name)\n",
    "print(\"Parent:\", Temp_Deck_Labware.parent)"
   ]
  },
  {
   "cell_type": "code",
   "execution_count": 15,
   "metadata": {},
   "outputs": [
    {
     "name": "stdout",
     "output_type": "stream",
     "text": [
      "1 <opentrons.protocols.context.protocol_api.labware.LabwareImplementation object at 0x0000026B8FA71550>\n",
      "2 <opentrons.protocols.context.protocol_api.labware.LabwareImplementation object at 0x0000026B919E8760>\n",
      "3 None\n",
      "4 Temperature Module GEN2 on 4\n",
      "5 <opentrons.protocols.context.protocol_api.labware.LabwareImplementation object at 0x0000026B919A9DC0>\n",
      "6 None\n",
      "7 None\n",
      "8 None\n",
      "9 None\n",
      "10 None\n",
      "11 None\n",
      "12 Opentrons Fixed Trash on 12\n"
     ]
    }
   ],
   "source": [
    "for position in protocol.deck:\n",
    "    print(position, protocol.deck[position])"
   ]
  },
  {
   "cell_type": "markdown",
   "metadata": {},
   "source": [
    "## Loading Custom Labware"
   ]
  },
  {
   "cell_type": "markdown",
   "metadata": {},
   "source": [
    "To load custom labware, the same as above can be followed, except a custom labware directory containing the `.json` file for the labware must be included.\n",
    "\n",
    "To create definitions for your own custom labware, see here: https://labware.opentrons.com/create"
   ]
  },
  {
   "cell_type": "code",
   "execution_count": 16,
   "metadata": {},
   "outputs": [],
   "source": [
    "custom_labware_dir = \"../../../For docs/custom_labware/\""
   ]
  },
  {
   "cell_type": "markdown",
   "metadata": {},
   "source": [
    "For custom labware, the API name is the name of the file (without the extension)"
   ]
  },
  {
   "cell_type": "code",
   "execution_count": 17,
   "metadata": {},
   "outputs": [],
   "source": [
    "# The code below will load the labware to the next empty slot on the Opentrons deck\n",
    "labware_type = \"greinerscbtppmasterblock780270_96_wellplate_2000ul\"\n",
    "Custom_Labware = OTProto.load_labware(\n",
    "                parent = protocol,\n",
    "                labware_api_name = labware_type,\n",
    "                label = \"Custom_Labware\",\n",
    "                custom_labware_dir = custom_labware_dir\n",
    ")"
   ]
  },
  {
   "cell_type": "code",
   "execution_count": 18,
   "metadata": {},
   "outputs": [
    {
     "name": "stdout",
     "output_type": "stream",
     "text": [
      "Object: Custom_Labware on 3\n",
      "Name: Custom_Labware\n",
      "API: greinerscbtppmasterblock780270_96_wellplate_2000ul\n"
     ]
    }
   ],
   "source": [
    "print(\"Object:\", Custom_Labware)\n",
    "print(\"Name:\", Custom_Labware.name)\n",
    "print(\"API:\", Custom_Labware.load_name)"
   ]
  },
  {
   "cell_type": "code",
   "execution_count": 19,
   "metadata": {},
   "outputs": [
    {
     "name": "stdout",
     "output_type": "stream",
     "text": [
      "1 <opentrons.protocols.context.protocol_api.labware.LabwareImplementation object at 0x0000026B8FA71550>\n",
      "2 <opentrons.protocols.context.protocol_api.labware.LabwareImplementation object at 0x0000026B919E8760>\n",
      "3 <opentrons.protocols.context.protocol_api.labware.LabwareImplementation object at 0x0000026B919F2D00>\n",
      "4 Temperature Module GEN2 on 4\n",
      "5 <opentrons.protocols.context.protocol_api.labware.LabwareImplementation object at 0x0000026B919A9DC0>\n",
      "6 None\n",
      "7 None\n",
      "8 None\n",
      "9 None\n",
      "10 None\n",
      "11 None\n",
      "12 Opentrons Fixed Trash on 12\n"
     ]
    }
   ],
   "source": [
    "for position in protocol.deck:\n",
    "    print(position, protocol.deck[position])"
   ]
  },
  {
   "cell_type": "markdown",
   "metadata": {},
   "source": [
    "Note that the custom labware directory can be specified for default labware - it will simply be ignored. You may wish to provide the custom labware dir for all labware loaded, even if it is default, to enable easier changing of labware later on"
   ]
  },
  {
   "cell_type": "code",
   "execution_count": 20,
   "metadata": {},
   "outputs": [],
   "source": [
    "# The code below will load the labware to the next empty slot on the Opentrons deck\n",
    "labware_type = \"nest_96_wellplate_100ul_pcr_full_skirt\"\n",
    "Default_Labware_4 = OTProto.load_labware(\n",
    "                parent = protocol,\n",
    "                labware_api_name = labware_type,\n",
    "                label = \"Default Labware 4\",\n",
    "                custom_labware_dir = custom_labware_dir\n",
    ")"
   ]
  },
  {
   "cell_type": "code",
   "execution_count": 21,
   "metadata": {},
   "outputs": [
    {
     "name": "stdout",
     "output_type": "stream",
     "text": [
      "Object: Default Labware 4 on 6\n",
      "Name: Default Labware 4\n",
      "API: nest_96_wellplate_100ul_pcr_full_skirt\n"
     ]
    }
   ],
   "source": [
    "print(\"Object:\", Default_Labware_4)\n",
    "print(\"Name:\", Default_Labware_4.name)\n",
    "print(\"API:\", Default_Labware_4.load_name)"
   ]
  },
  {
   "cell_type": "code",
   "execution_count": 22,
   "metadata": {},
   "outputs": [
    {
     "name": "stdout",
     "output_type": "stream",
     "text": [
      "1 <opentrons.protocols.context.protocol_api.labware.LabwareImplementation object at 0x0000026B8FA71550>\n",
      "2 <opentrons.protocols.context.protocol_api.labware.LabwareImplementation object at 0x0000026B919E8760>\n",
      "3 <opentrons.protocols.context.protocol_api.labware.LabwareImplementation object at 0x0000026B919F2D00>\n",
      "4 Temperature Module GEN2 on 4\n",
      "5 <opentrons.protocols.context.protocol_api.labware.LabwareImplementation object at 0x0000026B919A9DC0>\n",
      "6 <opentrons.protocols.context.protocol_api.labware.LabwareImplementation object at 0x0000026B91A11AF0>\n",
      "7 None\n",
      "8 None\n",
      "9 None\n",
      "10 None\n",
      "11 None\n",
      "12 Opentrons Fixed Trash on 12\n"
     ]
    }
   ],
   "source": [
    "for position in protocol.deck:\n",
    "    print(position, protocol.deck[position])"
   ]
  }
 ],
 "metadata": {
  "kernelspec": {
   "display_name": "Python 3 (ipykernel)",
   "language": "python",
   "name": "python3"
  },
  "language_info": {
   "codemirror_mode": {
    "name": "ipython",
    "version": 3
   },
   "file_extension": ".py",
   "mimetype": "text/x-python",
   "name": "python",
   "nbconvert_exporter": "python",
   "pygments_lexer": "ipython3",
   "version": "3.9.7"
  }
 },
 "nbformat": 4,
 "nbformat_minor": 2
}
