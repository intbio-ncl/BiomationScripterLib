{
 "cells": [
  {
   "cell_type": "markdown",
   "id": "4de4c09f",
   "metadata": {},
   "source": [
    "# `OTProto_Template` Superclass Walkthrough"
   ]
  },
  {
   "cell_type": "markdown",
   "id": "c4ecf693",
   "metadata": {},
   "source": [
    "## Overview"
   ]
  },
  {
   "cell_type": "markdown",
   "id": "bf0b4bb8",
   "metadata": {},
   "source": [
    "The `OTProto_Template` class is a superclass intended to be used in the development of `OTProto` templates. In BiomationScripter, Templates can be used to help create protocols which will be used often, but with different inputs or variables. For example, the Opentrons can be used to prepare transformations. The general steps for most heat shock transformations are the same: add DNA to competent cells, heat shock, and add media. However, transformation protocols will differ in aspects such as the DNA used and the volume of DNA, competent cells, and media. In this case, an OTProto Template could be set up for heat shock transformations where the main steps are encoded within the Template, but the exact transfer events vary based on user inputs.\n",
    "\n",
    "Below is an example of how the `OTProto_Template` superclass can be used to write an OTProto Template. Templates should be added into their own file named `<PROTOCOL>.py` and placed within the `BiomationScripter/OTProto/Templates` directory."
   ]
  },
  {
   "cell_type": "markdown",
   "id": "288d54eb",
   "metadata": {},
   "source": [
    "<div class=\"admonition note\">\n",
    "    <p class=\"admonition-title\">Note</p>\n",
    "    <p>\n",
    "        Once you've finished this walkthrough, it is recommended that you view the <a href = \"../../../OTProto_Templates/#superclass-otproto_template\">full documentation</a> for information on additional methods not mentioned here.\n",
    "    </p>\n",
    "</div>"
   ]
  },
  {
   "cell_type": "markdown",
   "id": "9196c222",
   "metadata": {},
   "source": [
    "## Defining the Protocol"
   ]
  },
  {
   "cell_type": "markdown",
   "id": "db7a0e4c",
   "metadata": {},
   "source": [
    "In this example, an OTProto Template for mixing coloured solutions is created. This exact requirements for this Template are listed below:\n",
    "* The Template will take a list of coloured solutions\n",
    "* In a destination plate, 2-colour mixtures will be prepared in equal amounts\n",
    "* The user should be able to define the final volume of each mixture\n",
    "* The user should be able to define if the mixtures are permuations or combinations"
   ]
  },
  {
   "cell_type": "markdown",
   "id": "8bdebc65",
   "metadata": {},
   "source": [
    "## Setting Up"
   ]
  },
  {
   "cell_type": "markdown",
   "id": "fe94c413",
   "metadata": {},
   "source": [
    "To begin, the `BMS` generic tools and `OTProto` tools are imported."
   ]
  },
  {
   "cell_type": "code",
   "execution_count": 1,
   "id": "662cc170",
   "metadata": {},
   "outputs": [],
   "source": [
    "import BiomationScripter as BMS\n",
    "from BiomationScripter import OTProto"
   ]
  },
  {
   "cell_type": "markdown",
   "id": "d2368402",
   "metadata": {},
   "source": [
    "We also need the `math` module, so we'll import that now too"
   ]
  },
  {
   "cell_type": "code",
   "execution_count": 2,
   "id": "9975f9a8",
   "metadata": {},
   "outputs": [],
   "source": [
    "import math"
   ]
  },
  {
   "cell_type": "markdown",
   "id": "b2bd57f5",
   "metadata": {},
   "source": [
    "Next, the `Template` class can be defined. Templates are defined as a Python `class`, which extends the `OTProto_Template` superclass. Note that his class must be named `Template`:"
   ]
  },
  {
   "cell_type": "code",
   "execution_count": 3,
   "id": "9ee24bc3",
   "metadata": {},
   "outputs": [],
   "source": [
    "class Template(OTProto.OTProto_Template):\n",
    "    def __init__(self):\n",
    "        pass # This is used to say \"do nothing\". It will be removed in the next step once we want our Template to do something.\n"
   ]
  },
  {
   "cell_type": "code",
   "execution_count": 4,
   "id": "44137d2c",
   "metadata": {},
   "outputs": [
    {
     "name": "stdout",
     "output_type": "stream",
     "text": [
      "<__main__.Template object at 0x0000017807835E80>\n"
     ]
    }
   ],
   "source": [
    "Protocol_Template = Template() # This creates the protocol using our Template class. At the moment, our Template does nothing.\n",
    "print(Protocol_Template)"
   ]
  },
  {
   "cell_type": "markdown",
   "id": "9e41bee2",
   "metadata": {},
   "source": [
    "### Default Arguments"
   ]
  },
  {
   "cell_type": "markdown",
   "id": "05ded426",
   "metadata": {},
   "source": [
    "The [`OTProto_Template` superclass](../../../OTProto_Templates/#superclass-otproto_template) takes seven arguments: `Protocol`, `Name`, `Metadata`, `Custom_Labware_Dir`, `Starting_20uL_Tip`, `Starting_300uL_Tip`, and `Starting_1000uL_Tip`.\n",
    "\n",
    "* `Protocol` | [`opentrons.protocol_api.contexts.ProtocolContext`](https://docs.opentrons.com/v2/new_protocol_api.html#opentrons.protocol_api.contexts.ProtocolContext): The protocol object which is used by the Opentrons API to encapsulate all information relating to the current protocol\n",
    "* `Name` | `str`: A readable name for the protocol to be created by the template\n",
    "* `Metadata` | `dict{str: str}`: This is metadata about the protocol - it should follow the best practices described [here](#)\n",
    "* `Custom_Labware_Dir` | `str`: Directory location pointing to where any custom labware definitions are stored\n",
    "* `Starting_20uL_Tip` | `str = \"A1\"`: The position of the starting tip in the first p20 tip box\n",
    "* `Starting_300uL_Tip` | `str = \"A1\"`: The position of the starting tip in the first p300 tip box\n",
    "* `Starting_1000uL_Tip` | `str = \"A1\"`: The position of the starting tip in the first p1000 tip box\n",
    "\n",
    "These arguments get passed from our template to the superclass using the `super()` method, as shown below:"
   ]
  },
  {
   "cell_type": "code",
   "execution_count": 5,
   "id": "707dfdd8",
   "metadata": {},
   "outputs": [],
   "source": [
    "class Template(OTProto.OTProto_Template):\n",
    "    def __init__(\n",
    "        self,\n",
    "        **kwargs # This will make the superclass arguments available to our template as keyword arguments\n",
    "    ):\n",
    "        \n",
    "        super().__init__(**kwargs) # This passes the keyword arguments to the superclass"
   ]
  },
  {
   "cell_type": "markdown",
   "id": "4b3bc0a0",
   "metadata": {},
   "source": [
    "Now let's use these arguments in our `Template` class."
   ]
  },
  {
   "cell_type": "markdown",
   "id": "5c1f56c3",
   "metadata": {},
   "source": [
    "First we'll define the name of the protocol and the metadata:"
   ]
  },
  {
   "cell_type": "code",
   "execution_count": 6,
   "id": "3444adc1",
   "metadata": {},
   "outputs": [],
   "source": [
    "Protocol_Name = \"Colour Mixing Example\""
   ]
  },
  {
   "cell_type": "code",
   "execution_count": 7,
   "id": "9631e977",
   "metadata": {},
   "outputs": [],
   "source": [
    "metadata = {\n",
    "    'protocolName': Protocol_Name,\n",
    "    'author': 'Bradley Brown',\n",
    "    'author-email': 'b.bradley2@newcastle.ac.uk',\n",
    "    'user': '',\n",
    "    'user-email': '',\n",
    "    'source': 'BiomationScripter Examples - BMS v0.2.0.dev',\n",
    "    'apiLevel': '2.11',\n",
    "    'robotName': 'RobOT2' # This is the name of the OT2 you plan to run the protocol on\n",
    "}"
   ]
  },
  {
   "cell_type": "markdown",
   "id": "337ff2bd",
   "metadata": {},
   "source": [
    "Next we'll define the [`opentrons.protocol_api.contexts.ProtocolContext`](https://docs.opentrons.com/v2/new_protocol_api.html#opentrons.protocol_api.contexts.ProtocolContext) object."
   ]
  },
  {
   "cell_type": "markdown",
   "id": "18d5ec95",
   "metadata": {},
   "source": [
    "<div class=\"admonition note\">\n",
    "    <p class=\"admonition-title\">Note</p>\n",
    "    <p>\n",
    "        In normal use, the <a href=\"https://docs.opentrons.com/v2/new_protocol_api.html#opentrons.protocol_api.contexts.ProtocolContext\">opentrons.protocol_api.contexts.ProtocolContext</a> object supplied to Protocol would be generated by the Opentrons during execution. For this walkthrough, we'll generate it ourselves.\n",
    "    </p>\n",
    "</div>"
   ]
  },
  {
   "cell_type": "code",
   "execution_count": 8,
   "id": "08de7745",
   "metadata": {},
   "outputs": [
    {
     "name": "stderr",
     "output_type": "stream",
     "text": [
      "C:\\Users\\bradl\\.opentrons\\robot_settings.json not found. Loading defaults\n",
      "C:\\Users\\bradl\\.opentrons\\deck_calibration.json not found. Loading defaults\n"
     ]
    }
   ],
   "source": [
    "from opentrons import simulate as OT2\n",
    "protocol = OT2.get_protocol_api(metadata[\"apiLevel\"])\n",
    "protocol.home()"
   ]
  },
  {
   "cell_type": "markdown",
   "id": "93f655a4",
   "metadata": {},
   "source": [
    "Finally we'll define the directory containing of our custom labware definitions. Note that this isn't needed for execution by the Opentrons; it is used when simulating on a separate device."
   ]
  },
  {
   "cell_type": "code",
   "execution_count": 9,
   "id": "69d6bb51",
   "metadata": {},
   "outputs": [],
   "source": [
    "Custom_Labware_Directory = \"../../../data/custom_labware\""
   ]
  },
  {
   "cell_type": "markdown",
   "id": "e9350c52",
   "metadata": {},
   "source": [
    "We'll ignore the Starting Tip arguments for now as they aren't required."
   ]
  },
  {
   "cell_type": "markdown",
   "id": "945fd152",
   "metadata": {},
   "source": [
    "The information defined above can be used to instantiate our `Template` class. We can then retrieve this information using the class' attributes:"
   ]
  },
  {
   "cell_type": "code",
   "execution_count": 10,
   "id": "3020987f",
   "metadata": {},
   "outputs": [
    {
     "name": "stdout",
     "output_type": "stream",
     "text": [
      "<__main__.Template object at 0x00000178078B9D60>\n",
      "\n",
      "name: Colour Mixing Example\n",
      "\n",
      "protocol object: <opentrons.protocol_api.protocol_context.ProtocolContext object at 0x0000017807894DF0>\n",
      "\n",
      "metadata: {'protocolName': 'Colour Mixing Example', 'author': 'Bradley Brown', 'author-email': 'b.bradley2@newcastle.ac.uk', 'user': '', 'user-email': '', 'source': 'BiomationScripter Examples - BMS v0.2.0.dev', 'apiLevel': '2.11', 'robotName': 'RobOT2'}\n",
      "\n",
      "custom_labware_dir: ../../../data/custom_labware\n"
     ]
    }
   ],
   "source": [
    "Protocol_Template = Template(\n",
    "    Protocol = protocol,\n",
    "    Name = Protocol_Name,\n",
    "    Metadata = metadata,\n",
    "    Custom_Labware_Dir = Custom_Labware_Directory\n",
    ")\n",
    "print(Protocol_Template)\n",
    "\n",
    "print(\"\\nname:\", Protocol_Template.name)\n",
    "print(\"\\nprotocol object:\", Protocol_Template._protocol)\n",
    "print(\"\\nmetadata:\", Protocol_Template.metadata)\n",
    "print(\"\\ncustom_labware_dir:\", Protocol_Template.custom_labware_dir)"
   ]
  },
  {
   "cell_type": "markdown",
   "id": "e09110a5",
   "metadata": {},
   "source": [
    "Template classes which extend the [`OTProto_Template` superclass](../../../OTProto_Templates/#superclass-otproto_template) also have several other attributes generate during instantiation. These are shown below."
   ]
  },
  {
   "cell_type": "markdown",
   "id": "d9d68e5a",
   "metadata": {},
   "source": [
    "`tip_types` is a dictionary recording the pipette tip labware to be used by each of the supported pipette types. The dictionary keys are `\"P20\"`, `\"p300\"`, `\"P1000\"`, which refer to the three gen2 single channel pipette types available. The default values for each of these keys are `\"opentrons_96_tiprack_20ul\"`, `\"opentrons_96_tiprack_300ul\"`, \"opentrons_96_tiprack_1000ul\" respectively"
   ]
  },
  {
   "cell_type": "code",
   "execution_count": 11,
   "id": "6c3b2872",
   "metadata": {},
   "outputs": [
    {
     "data": {
      "text/plain": [
       "{'p20': 'opentrons_96_tiprack_20ul',\n",
       " 'p300': 'opentrons_96_tiprack_300ul',\n",
       " 'p1000': 'opentrons_96_tiprack_1000ul'}"
      ]
     },
     "execution_count": 11,
     "metadata": {},
     "output_type": "execute_result"
    }
   ],
   "source": [
    "Protocol_Template.tip_types"
   ]
  },
  {
   "cell_type": "markdown",
   "id": "66bdb2c7",
   "metadata": {},
   "source": [
    "`starting_tips` is A dictionary recording the starting well location for each supported pipette type. The starting tip is assumed to be located in the first tip box loaded onto the deck which is associated with that pipette. The dictionary keys are `\"p20\"`, `\"p300\"`, `\"p1000\"`, which refer to the three gen2 single channel pipette types supported by BiomationScripter."
   ]
  },
  {
   "cell_type": "code",
   "execution_count": 12,
   "id": "d5c75cf6",
   "metadata": {},
   "outputs": [
    {
     "data": {
      "text/plain": [
       "{'p20': 'A1', 'p300': 'A1', 'p1000': 'A1'}"
      ]
     },
     "execution_count": 12,
     "metadata": {},
     "output_type": "execute_result"
    }
   ],
   "source": [
    "Protocol_Template.starting_tips"
   ]
  },
  {
   "cell_type": "markdown",
   "id": "e0d12ac5",
   "metadata": {},
   "source": [
    "`tips_needed` is a dictionary which records how many of each tip type is required to complete the protocol generated by the template. The dictionary keys are the same as for `tip_types`"
   ]
  },
  {
   "cell_type": "code",
   "execution_count": 13,
   "id": "6f0fb400",
   "metadata": {},
   "outputs": [
    {
     "data": {
      "text/plain": [
       "{'p20': 0, 'p300': 0, 'p1000': 0}"
      ]
     },
     "execution_count": 13,
     "metadata": {},
     "output_type": "execute_result"
    }
   ],
   "source": [
    "Protocol_Template.tips_needed"
   ]
  },
  {
   "cell_type": "markdown",
   "id": "45ff2d3f",
   "metadata": {},
   "source": [
    "`_pipettes` is a dictionary which records the type of pipette mounted in each position of the Opentrons' pipette mount. The keys are `\"left\"`, `\"right\"`. The default values for each of these keys are `\"p20_single_gen2\"`, `\"p300_single_gen2\"` respectively."
   ]
  },
  {
   "cell_type": "code",
   "execution_count": 14,
   "id": "2aea1873",
   "metadata": {},
   "outputs": [
    {
     "data": {
      "text/plain": [
       "{'left': 'p20_single_gen2', 'right': 'p300_single_gen2'}"
      ]
     },
     "execution_count": 14,
     "metadata": {},
     "output_type": "execute_result"
    }
   ],
   "source": [
    "Protocol_Template._pipettes"
   ]
  },
  {
   "cell_type": "markdown",
   "id": "ac92b209",
   "metadata": {},
   "source": [
    "### Custom Arguments"
   ]
  },
  {
   "cell_type": "markdown",
   "id": "bddee2b0",
   "metadata": {},
   "source": [
    "For our `Colour_Mixing` Opentrons Template, based on the requirements defined above, we need six extra arguments. These are:\n",
    "* `Source_Labware_Type`: a string defining the [Opentrons labware API name](../../../OTProto#opentrons-api-names) for the type of labware which will be used to store the coloured solutions\n",
    "* `Destination_Labware_Type`: a string defining the [Opentrons labware API name](../../../OTProto#opentrons-api-names) for the type of labware which will be used to mix the coloured solutions\n",
    "* `Source_Colours`: a list of strings defining the names of the colour source solutions\n",
    "* `Source_Colours_Aliquot_Volume`: a float (in microlitres) stating the volume of the source colourant aliquots\n",
    "* `Final_Volume`: the final volume, in microlitres, of the coloured mixtures\n",
    "* `Permutations`: a boolean (True/False) defining whether the full permutations of colours should be mixed. We'll give this a default value of `False`\n",
    "\n",
    "These arguments are added to our Template class as shown below. We'll also add some attributes to store the values of these arguments."
   ]
  },
  {
   "cell_type": "code",
   "execution_count": 15,
   "id": "c53d6232",
   "metadata": {},
   "outputs": [],
   "source": [
    "class Template(OTProto.OTProto_Template):\n",
    "    def __init__(\n",
    "        self,\n",
    "        Source_Labware_Type,\n",
    "        Destination_Labware_Type,\n",
    "        Source_Colours,\n",
    "        Source_Colours_Aliquot_Volume,\n",
    "        Final_Volume,\n",
    "        Permutations = False,\n",
    "        **kwargs # This will make the superclass arguments available to our template as keyword arguments\n",
    "    ):\n",
    "        \n",
    "        super().__init__(**kwargs) # This passes the keyword arguments to the superclass\n",
    "        \n",
    "        #######################\n",
    "        # User Defined Values #\n",
    "        #######################\n",
    "        self.source_labware_type = Source_Labware_Type\n",
    "        self.destination_labware_type = Destination_Labware_Type\n",
    "        self.source_colours = Source_Colours\n",
    "        self.source_colour_aliquot_volumes = Source_Colours_Aliquot_Volume\n",
    "        self.final_volume = Final_Volume # uL\n",
    "        self.permutations = Permutations"
   ]
  },
  {
   "cell_type": "markdown",
   "id": "0023082f",
   "metadata": {},
   "source": [
    "Below we check that everything is working as expected:"
   ]
  },
  {
   "cell_type": "code",
   "execution_count": 16,
   "id": "8dece70c",
   "metadata": {},
   "outputs": [
    {
     "name": "stderr",
     "output_type": "stream",
     "text": [
      "C:\\Users\\bradl\\.opentrons\\robot_settings.json not found. Loading defaults\n",
      "C:\\Users\\bradl\\.opentrons\\deck_calibration.json not found. Loading defaults\n"
     ]
    }
   ],
   "source": [
    "Protocol_Name = \"Colour Mixing Example\"\n",
    "metadata = {\n",
    "    'protocolName': Protocol_Name,\n",
    "    'author': 'Bradley Brown',\n",
    "    'author-email': 'b.bradley2@newcastle.ac.uk',\n",
    "    'user': '',\n",
    "    'user-email': '',\n",
    "    'source': 'BiomationScripter Examples - BMS v0.2.0.dev',\n",
    "    'apiLevel': '2.11',\n",
    "    'robotName': 'RobOT2' # This is the name of the OT2 you plan to run the protocol on\n",
    "}\n",
    "Custom_Labware_Directory = \"../../../data/custom_labware\"\n",
    "\n",
    "protocol = OT2.get_protocol_api(metadata[\"apiLevel\"])\n",
    "protocol.home()"
   ]
  },
  {
   "cell_type": "code",
   "execution_count": 17,
   "id": "b70b8af2",
   "metadata": {},
   "outputs": [],
   "source": [
    "Source_Labware_Type = \"opentrons_24_aluminumblock_nest_1.5ml_snapcap\"\n",
    "Destination_Labware_Type = \"biorad_96_wellplate_200ul_pcr\"\n",
    "Source_Colours = [\"Red\", \"Blue\", \"Yellow\"]\n",
    "Source_Colours_Aliquot_Volume = 1000\n",
    "Final_Volume = 100\n",
    "Permutations = False"
   ]
  },
  {
   "cell_type": "code",
   "execution_count": 18,
   "id": "e8483879",
   "metadata": {},
   "outputs": [
    {
     "name": "stdout",
     "output_type": "stream",
     "text": [
      "<__main__.Template object at 0x0000017809908EE0>\n",
      "\n",
      "name: Colour Mixing Example\n",
      "\n",
      "protocol object: <opentrons.protocol_api.protocol_context.ProtocolContext object at 0x00000178098FF6A0>\n",
      "\n",
      "metadata: {'protocolName': 'Colour Mixing Example', 'author': 'Bradley Brown', 'author-email': 'b.bradley2@newcastle.ac.uk', 'user': '', 'user-email': '', 'source': 'BiomationScripter Examples - BMS v0.2.0.dev', 'apiLevel': '2.11', 'robotName': 'RobOT2'}\n",
      "\n",
      "custom_labware_dir: ../../../data/custom_labware\n",
      "\n",
      "source_labware_type: opentrons_24_aluminumblock_nest_1.5ml_snapcap\n",
      "\n",
      "destination_labware_type: biorad_96_wellplate_200ul_pcr\n",
      "\n",
      "source_colours: ['Red', 'Blue', 'Yellow']\n",
      "\n",
      "source_colour_aliquot_volumes: 1000\n",
      "\n",
      "final_volume: 100\n",
      "\n",
      "permutations: False\n"
     ]
    }
   ],
   "source": [
    "Protocol_Template = Template(\n",
    "    Source_Labware_Type = Source_Labware_Type,\n",
    "    Destination_Labware_Type = Destination_Labware_Type,\n",
    "    Source_Colours = Source_Colours,\n",
    "    Source_Colours_Aliquot_Volume = Source_Colours_Aliquot_Volume,\n",
    "    Final_Volume = Final_Volume,\n",
    "    Permutations = Permutations,\n",
    "    Protocol = protocol,\n",
    "    Name = Protocol_Name,\n",
    "    Metadata = metadata,\n",
    "    Custom_Labware_Dir = Custom_Labware_Directory\n",
    ")\n",
    "print(Protocol_Template)\n",
    "\n",
    "print(\"\\nname:\", Protocol_Template.name)\n",
    "print(\"\\nprotocol object:\", Protocol_Template._protocol)\n",
    "print(\"\\nmetadata:\", Protocol_Template.metadata)\n",
    "print(\"\\ncustom_labware_dir:\", Protocol_Template.custom_labware_dir)\n",
    "\n",
    "print(\"\\nsource_labware_type:\", Protocol_Template.source_labware_type)\n",
    "print(\"\\ndestination_labware_type:\", Protocol_Template.destination_labware_type)\n",
    "print(\"\\nsource_colours:\", Protocol_Template.source_colours)\n",
    "print(\"\\nsource_colour_aliquot_volumes:\", Protocol_Template.source_colour_aliquot_volumes)\n",
    "print(\"\\nfinal_volume:\", Protocol_Template.final_volume)\n",
    "print(\"\\npermutations:\", Protocol_Template.permutations)"
   ]
  },
  {
   "cell_type": "markdown",
   "id": "894d6df6",
   "metadata": {},
   "source": [
    "## Adding Functionality"
   ]
  },
  {
   "cell_type": "markdown",
   "id": "55aff1d4",
   "metadata": {},
   "source": [
    "We now have the basis of our Template class, but it still doesn't really do anything. The next step is to add code which will set up the destination plate based on the basic functionality and user inputs.\n",
    "\n",
    "For OTProto Templates, this code is contained within a `run` method. The first thing any OTProto template should do is to load the pipettes. This method is added to our class below, along with the [`load_pipettes` method](../../../OTProto_Templates/#superclass-otproto_template)."
   ]
  },
  {
   "cell_type": "code",
   "execution_count": 19,
   "id": "b0857321",
   "metadata": {},
   "outputs": [],
   "source": [
    "class Template(OTProto.OTProto_Template):\n",
    "    def __init__(\n",
    "        self,\n",
    "        Source_Labware_Type,\n",
    "        Destination_Labware_Type,\n",
    "        Source_Colours,\n",
    "        Source_Colours_Aliquot_Volume,\n",
    "        Final_Volume,\n",
    "        Permutations = False,\n",
    "        **kwargs # This will make the superclass arguments available to our template as keyword arguments\n",
    "    ):\n",
    "        \n",
    "        super().__init__(**kwargs) # This passes the keyword arguments to the superclass\n",
    "        \n",
    "        #######################\n",
    "        # User Defined Values #\n",
    "        #######################\n",
    "        self.source_labware_type = Source_Labware_Type\n",
    "        self.destination_labware_type = Destination_Labware_Type\n",
    "        self.source_colours = Source_Colours\n",
    "        self.source_colour_aliquot_volumes = Source_Colours_Aliquot_Volume\n",
    "        self.final_volume = Final_Volume # uL\n",
    "        self.permutations = Permutations\n",
    "        \n",
    "    def run(self):\n",
    "        self.load_pipettes()"
   ]
  },
  {
   "cell_type": "markdown",
   "id": "0aee44d8",
   "metadata": {},
   "source": [
    "### Determine Mixtures"
   ]
  },
  {
   "cell_type": "markdown",
   "id": "be85462e",
   "metadata": {},
   "source": [
    "The first step in our protocol will be to determine the colour mixtures required. To do this, we'll use the code below:"
   ]
  },
  {
   "cell_type": "markdown",
   "id": "1d3d173b",
   "metadata": {},
   "source": [
    "\n",
    "```python\n",
    "    # Set up an empty list in which the colour mixtures required will be added\n",
    "    Colour_Mixtures = []\n",
    "\n",
    "    # Iterate through the list of source colours provided to create the list of mixtures.\n",
    "    for colour_1 in self.source_colours:\n",
    "        for colour_2 in self.source_colours:\n",
    "            # Ignore situations where colour_1 and colour_2 are the same\n",
    "            if colour_1 == colour_2:\n",
    "                continue\n",
    "            # Unless permutations has been set to `True`, ignore situations where...\n",
    "            # ...the same colours have already been mixed, just in a different order\n",
    "            elif not self.permutations and [colour_2, colour_1] in Colour_Mixtures:\n",
    "                continue\n",
    "            else:\n",
    "                # Add the two colours to the list of mixtures to prepare\n",
    "                Colour_Mixtures.append([colour_1, colour_2])\n",
    "\n",
    "    # Here, we'll print to OUT all of the mixtures which will be prepared\n",
    "    for c in Colour_Mixtures:\n",
    "        print(c)\n",
    "```"
   ]
  },
  {
   "cell_type": "markdown",
   "id": "08da2fbe",
   "metadata": {},
   "source": [
    "This code can then be added to our `run` method:"
   ]
  },
  {
   "cell_type": "code",
   "execution_count": 20,
   "id": "fecf03de",
   "metadata": {},
   "outputs": [],
   "source": [
    "class Template(OTProto.OTProto_Template):\n",
    "    def __init__(\n",
    "        self,\n",
    "        Source_Labware_Type,\n",
    "        Destination_Labware_Type,\n",
    "        Source_Colours,\n",
    "        Source_Colours_Aliquot_Volume,\n",
    "        Final_Volume,\n",
    "        Permutations = False,\n",
    "        **kwargs # This will make the superclass arguments available to our template as keyword arguments\n",
    "    ):\n",
    "        \n",
    "        super().__init__(**kwargs) # This passes the keyword arguments to the superclass\n",
    "        \n",
    "        #######################\n",
    "        # User Defined Values #\n",
    "        #######################\n",
    "        self.source_labware_type = Source_Labware_Type\n",
    "        self.destination_labware_type = Destination_Labware_Type\n",
    "        self.source_colours = Source_Colours\n",
    "        self.source_colour_aliquot_volumes = Source_Colours_Aliquot_Volume\n",
    "        self.final_volume = Final_Volume # uL\n",
    "        self.permutations = Permutations\n",
    "        \n",
    "    def run(self):\n",
    "        self.load_pipettes()\n",
    "        \n",
    "        # Set up an empty list in which the colour mixtures required will be added\n",
    "        Colour_Mixtures = []\n",
    "        \n",
    "        # Iterate through the list of source colours provided to create the list of mixtures.\n",
    "        for colour_1 in self.source_colours:\n",
    "            for colour_2 in self.source_colours:\n",
    "                # Ignore situations where colour_1 and colour_2 are the same\n",
    "                if colour_1 == colour_2:\n",
    "                    continue\n",
    "                # Unless permutations has been set to `True`, ignore situations where...\n",
    "                # ...the same colours have already been mixed, just in a different order\n",
    "                elif not self.permutations and [colour_2, colour_1] in Colour_Mixtures:\n",
    "                    continue\n",
    "                else:\n",
    "                    # Add the two colours to the list of mixtures to prepare\n",
    "                    Colour_Mixtures.append([colour_1, colour_2])\n",
    "        \n",
    "        # Here, we'll print to OUT all of the mixtures which will be prepared\n",
    "        for c in Colour_Mixtures:\n",
    "            print(c)"
   ]
  },
  {
   "cell_type": "markdown",
   "id": "7279b991",
   "metadata": {},
   "source": [
    "We can check the functionality of our code by calling the `run` method on the `Protocol` object"
   ]
  },
  {
   "cell_type": "code",
   "execution_count": 21,
   "id": "1cb81129",
   "metadata": {},
   "outputs": [
    {
     "name": "stderr",
     "output_type": "stream",
     "text": [
      "C:\\Users\\bradl\\.opentrons\\robot_settings.json not found. Loading defaults\n",
      "C:\\Users\\bradl\\.opentrons\\deck_calibration.json not found. Loading defaults\n"
     ]
    },
    {
     "name": "stdout",
     "output_type": "stream",
     "text": [
      "['Red', 'Blue']\n",
      "['Red', 'Yellow']\n",
      "['Blue', 'Red']\n",
      "['Blue', 'Yellow']\n",
      "['Yellow', 'Red']\n",
      "['Yellow', 'Blue']\n"
     ]
    }
   ],
   "source": [
    "# When Permutations is True\n",
    "Protocol_Name = \"Colour Mixing Example\"\n",
    "metadata = {\n",
    "    'protocolName': Protocol_Name,\n",
    "    'author': 'Bradley Brown',\n",
    "    'author-email': 'b.bradley2@newcastle.ac.uk',\n",
    "    'user': '',\n",
    "    'user-email': '',\n",
    "    'source': 'BiomationScripter Examples - BMS v0.2.0.dev',\n",
    "    'apiLevel': '2.11',\n",
    "    'robotName': 'RobOT2' # This is the name of the OT2 you plan to run the protocol on\n",
    "}\n",
    "Custom_Labware_Directory = \"../../../data/custom_labware\"\n",
    "protocol = OT2.get_protocol_api(metadata[\"apiLevel\"])\n",
    "protocol.home()\n",
    "Source_Labware_Type = \"opentrons_24_aluminumblock_nest_1.5ml_snapcap\"\n",
    "Destination_Labware_Type = \"biorad_96_wellplate_200ul_pcr\"\n",
    "Source_Colours = [\"Red\", \"Blue\", \"Yellow\"]\n",
    "Source_Colours_Aliquot_Volume = 1000\n",
    "Final_Volume = 100\n",
    "Permutations = True\n",
    "\n",
    "Protocol_Template = Template(\n",
    "    Source_Labware_Type = Source_Labware_Type,\n",
    "    Destination_Labware_Type = Destination_Labware_Type,\n",
    "    Source_Colours = Source_Colours,\n",
    "    Source_Colours_Aliquot_Volume = Source_Colours_Aliquot_Volume,\n",
    "    Final_Volume = Final_Volume,\n",
    "    Permutations = Permutations,\n",
    "    Protocol = protocol,\n",
    "    Name = Protocol_Name,\n",
    "    Metadata = metadata,\n",
    "    Custom_Labware_Dir = Custom_Labware_Directory\n",
    ")\n",
    "\n",
    "Protocol_Template.run()"
   ]
  },
  {
   "cell_type": "code",
   "execution_count": 22,
   "id": "5d5b15aa",
   "metadata": {},
   "outputs": [
    {
     "name": "stderr",
     "output_type": "stream",
     "text": [
      "C:\\Users\\bradl\\.opentrons\\robot_settings.json not found. Loading defaults\n",
      "C:\\Users\\bradl\\.opentrons\\deck_calibration.json not found. Loading defaults\n"
     ]
    },
    {
     "name": "stdout",
     "output_type": "stream",
     "text": [
      "['Red', 'Blue']\n",
      "['Red', 'Yellow']\n",
      "['Blue', 'Yellow']\n"
     ]
    }
   ],
   "source": [
    "# When Permutations is False\n",
    "Protocol_Name = \"Colour Mixing Example\"\n",
    "metadata = {\n",
    "    'protocolName': Protocol_Name,\n",
    "    'author': 'Bradley Brown',\n",
    "    'author-email': 'b.bradley2@newcastle.ac.uk',\n",
    "    'user': '',\n",
    "    'user-email': '',\n",
    "    'source': 'BiomationScripter Examples - BMS v0.2.0.dev',\n",
    "    'apiLevel': '2.11',\n",
    "    'robotName': 'RobOT2' # This is the name of the OT2 you plan to run the protocol on\n",
    "}\n",
    "Custom_Labware_Directory = \"../../../data/custom_labware\"\n",
    "protocol = OT2.get_protocol_api(metadata[\"apiLevel\"])\n",
    "protocol.home()\n",
    "Source_Labware_Type = \"opentrons_24_aluminumblock_nest_1.5ml_snapcap\"\n",
    "Destination_Labware_Type = \"biorad_96_wellplate_200ul_pcr\"\n",
    "Source_Colours = [\"Red\", \"Blue\", \"Yellow\"]\n",
    "Source_Colours_Aliquot_Volume = 1000\n",
    "Final_Volume = 100\n",
    "Permutations = False\n",
    "\n",
    "Protocol_Template = Template(\n",
    "    Source_Labware_Type = Source_Labware_Type,\n",
    "    Destination_Labware_Type = Destination_Labware_Type,\n",
    "    Source_Colours = Source_Colours,\n",
    "    Source_Colours_Aliquot_Volume = Source_Colours_Aliquot_Volume,\n",
    "    Final_Volume = Final_Volume,\n",
    "    Permutations = Permutations,\n",
    "    Protocol = protocol,\n",
    "    Name = Protocol_Name,\n",
    "    Metadata = metadata,\n",
    "    Custom_Labware_Dir = Custom_Labware_Directory\n",
    ")\n",
    "\n",
    "Protocol_Template.run()"
   ]
  },
  {
   "cell_type": "markdown",
   "id": "e08aa835",
   "metadata": {},
   "source": [
    "### Create Labware_Layout objects"
   ]
  },
  {
   "cell_type": "markdown",
   "id": "4456bae6",
   "metadata": {},
   "source": [
    "We can use the [`BiomationScripter.Labware_Layout` class](../../../BiomationScripter#class-labware_layout) to store information about the labware."
   ]
  },
  {
   "cell_type": "markdown",
   "id": "6ee345ec",
   "metadata": {},
   "source": [
    "<div class=\"admonition note\">\n",
    "    <p class=\"admonition-title\"><b>Note</b></p>\n",
    "    <p>\n",
    "        If you're not familiar with the Labware_Layout class, read the <a href = \"../../../BiomationScripter#class-labware_layout\">documentation</a>, or see it in use <a href = \"../../../example_code/BMS/BMS-Labware_Layout-Class\">here</a> and <a href = \"../../../protocol_examples/OTProto/Scripts/OTProto%20Script%20Tutorial%20-%20Colour%20Mixing/#definining-the-labware\">here</a>.\n",
    "    </p>\n",
    "</div>"
   ]
  },
  {
   "cell_type": "markdown",
   "id": "45490655",
   "metadata": {},
   "source": [
    "First, we'll define the destination labware.\n",
    "\n",
    "For the destination labware, we'll use the colour mixtures generated in the previous step to populate the destination labware with the intended content using the the code below:\n",
    "\n",
    "```python\n",
    "    ##########################\n",
    "    # Set up labware layouts #\n",
    "    ##########################\n",
    "\n",
    "    # Create the destination object\n",
    "    Destination_Labware_Layout = BMS.Labware_Layout(\n",
    "        Name = \"Destination Labware\",\n",
    "        Type = self.destination_labware_type\n",
    "    )\n",
    "\n",
    "    # Define the labware's format (i.e. number of rows and columns)\n",
    "    destination_rows, destination_columns = OTProto.get_labware_format(\n",
    "        labware_api_name = Destination_Labware_Layout.type,\n",
    "        custom_labware_dir = self.custom_labware_dir\n",
    "    )\n",
    "    Destination_Labware_Layout.define_format(destination_rows, destination_columns)\n",
    "    Destination_Labware_Layout.set_available_wells()\n",
    "\n",
    "    for colour_1, colour_2 in Colour_Mixtures:\n",
    "\n",
    "        # Get the next empty well\n",
    "        well = Destination_Labware_Layout.get_next_empty_well()\n",
    "\n",
    "        # Add the first colourant\n",
    "        Destination_Labware_Layout.add_content(\n",
    "            Well = well,\n",
    "            Reagent = colour_1,\n",
    "            Volume = self.final_volume / 2 # uL\n",
    "        )\n",
    "\n",
    "        # And then the second\n",
    "        Destination_Labware_Layout.add_content(\n",
    "            Well = well,\n",
    "            Reagent = colour_2,\n",
    "            Volume = self.final_volume / 2 # uL\n",
    "        )\n",
    "\n",
    "        # Can also label the well\n",
    "        Destination_Labware_Layout.add_well_label(\n",
    "            Well = well,\n",
    "            Label = \"Mixture: {}-{}\".format(colour_1, colour_2)\n",
    "        )\n",
    "\n",
    "    Destination_Labware_Layout.print()\n",
    "```\n"
   ]
  },
  {
   "cell_type": "markdown",
   "id": "edaa9e63",
   "metadata": {},
   "source": [
    "Next, we'll define the the source labware, and determine how many of each source colour aliquot is required."
   ]
  },
  {
   "cell_type": "markdown",
   "id": "bbbc9a81",
   "metadata": {},
   "source": [
    "<div class=\"admonition note\">\n",
    "    <p class=\"admonition-title\"><b>Note</b></p>\n",
    "    <p>\n",
    "        The functions used here are:\n",
    "        <ul>\n",
    "            <li><a href = \"../../../BiomationScripter/#function-aliquot_calculator\">BiomationScripter.Aliquot_Calculator</a></li>\n",
    "        </ul>\n",
    "</div>"
   ]
  },
  {
   "cell_type": "markdown",
   "id": "a73d2996",
   "metadata": {},
   "source": [
    "```python\n",
    "    # Create the source object\n",
    "    Source_Labware_Layout = BMS.Labware_Layout(\n",
    "        Name = \"Source Labware\",\n",
    "        Type = self.source_labware_type\n",
    "    )\n",
    "\n",
    "    # Define the labware's format (i.e. number of rows and columns)\n",
    "    source_rows, source_columns = OTProto.get_labware_format(\n",
    "        labware_api_name = Source_Labware_Layout.type,\n",
    "    )\n",
    "    Source_Labware_Layout.define_format(source_rows, source_columns)\n",
    "    Source_Labware_Layout.set_available_wells()\n",
    "\n",
    "    # For each colourant\n",
    "    for colourant in self.source_colours:\n",
    "\n",
    "        # Calculate the number of aliquots needed\n",
    "        aliquots_needed = BMS.Aliquot_Calculator(\n",
    "            Liquid = colourant,\n",
    "            Destination_Layouts = [Destination_Labware_Layout],\n",
    "            Aliquot_Volume = self.source_colour_aliquot_volumes,\n",
    "            Dead_Volume = 0\n",
    "        )\n",
    "\n",
    "        # Add that many aliquots to the source layout\n",
    "        for aliquot_n in range(0, aliquots_needed):\n",
    "            # Get the next empty well\n",
    "            well = Source_Labware_Layout.get_next_empty_well()\n",
    "\n",
    "            # Add content to the empty well\n",
    "            Source_Labware_Layout.add_content(\n",
    "                Well = well,\n",
    "                Reagent = colourant,\n",
    "                Volume = self.source_colour_aliquot_volumes # uL\n",
    "            )\n",
    "\n",
    "    Source_Labware_Layout.print()\n",
    "```"
   ]
  },
  {
   "cell_type": "markdown",
   "id": "90797fe6",
   "metadata": {},
   "source": [
    "Once again, this code gets added to the `run` method:"
   ]
  },
  {
   "cell_type": "code",
   "execution_count": 23,
   "id": "2d2a4c9a",
   "metadata": {},
   "outputs": [],
   "source": [
    "class Template(OTProto.OTProto_Template):\n",
    "    def __init__(\n",
    "        self,\n",
    "        Source_Labware_Type,\n",
    "        Destination_Labware_Type,\n",
    "        Source_Colours,\n",
    "        Source_Colours_Aliquot_Volume,\n",
    "        Final_Volume,\n",
    "        Permutations = False,\n",
    "        **kwargs # This will make the superclass arguments available to our template as keyword arguments\n",
    "    ):\n",
    "        \n",
    "        super().__init__(**kwargs) # This passes the keyword arguments to the superclass\n",
    "        \n",
    "        #######################\n",
    "        # User Defined Values #\n",
    "        #######################\n",
    "        self.source_labware_type = Source_Labware_Type\n",
    "        self.destination_labware_type = Destination_Labware_Type\n",
    "        self.source_colours = Source_Colours\n",
    "        self.source_colour_aliquot_volumes = Source_Colours_Aliquot_Volume\n",
    "        self.final_volume = Final_Volume # uL\n",
    "        self.permutations = Permutations\n",
    "        \n",
    "    def run(self):\n",
    "        self.load_pipettes()\n",
    "        \n",
    "        # Set up an empty list in which the colour mixtures required will be added\n",
    "        Colour_Mixtures = []\n",
    "        \n",
    "        # Iterate through the list of source colours provided to create the list of mixtures.\n",
    "        for colour_1 in self.source_colours:\n",
    "            for colour_2 in self.source_colours:\n",
    "                # Ignore situations where colour_1 and colour_2 are the same\n",
    "                if colour_1 == colour_2:\n",
    "                    continue\n",
    "                # Unless permutations has been set to `True`, ignore situations where...\n",
    "                # ...the same colours have already been mixed, just in a different order\n",
    "                elif not self.permutations and [colour_2, colour_1] in Colour_Mixtures:\n",
    "                    continue\n",
    "                else:\n",
    "                    # Add the two colours to the list of mixtures to prepare\n",
    "                    Colour_Mixtures.append([colour_1, colour_2])\n",
    "        \n",
    "        # Here, we'll print to OUT all of the mixtures which will be prepared\n",
    "        for c in Colour_Mixtures:\n",
    "            print(c)\n",
    "            \n",
    "            \n",
    "        ##########################\n",
    "        # Set up labware layouts #\n",
    "        ##########################\n",
    "\n",
    "        # Create the destination object\n",
    "        Destination_Labware_Layout = BMS.Labware_Layout(\n",
    "            Name = \"Destination Labware\",\n",
    "            Type = self.destination_labware_type\n",
    "        )\n",
    "\n",
    "        # Define the labware's format (i.e. number of rows and columns)\n",
    "        destination_rows, destination_columns = OTProto.get_labware_format(\n",
    "            labware_api_name = Destination_Labware_Layout.type,\n",
    "            custom_labware_dir = self.custom_labware_dir\n",
    "        )\n",
    "        Destination_Labware_Layout.define_format(destination_rows, destination_columns)\n",
    "        Destination_Labware_Layout.set_available_wells()\n",
    "\n",
    "        for colour_1, colour_2 in Colour_Mixtures:\n",
    "            \n",
    "            # Get the next empty well\n",
    "            well = Destination_Labware_Layout.get_next_empty_well()\n",
    "\n",
    "            # Add the first colourant\n",
    "            Destination_Labware_Layout.add_content(\n",
    "                Well = well,\n",
    "                Reagent = colour_1,\n",
    "                Volume = self.final_volume / 2 # uL\n",
    "            )\n",
    "\n",
    "            # And then the second\n",
    "            Destination_Labware_Layout.add_content(\n",
    "                Well = well,\n",
    "                Reagent = colour_2,\n",
    "                Volume = self.final_volume / 2 # uL\n",
    "            )\n",
    "\n",
    "            # Can also label the well\n",
    "            Destination_Labware_Layout.add_well_label(\n",
    "                Well = well,\n",
    "                Label = \"Mixture: {}-{}\".format(colour_1, colour_2)\n",
    "            )\n",
    "            \n",
    "        Destination_Labware_Layout.print()\n",
    "        \n",
    "        # Create the source object\n",
    "        Source_Labware_Layout = BMS.Labware_Layout(\n",
    "            Name = \"Source Labware\",\n",
    "            Type = self.source_labware_type\n",
    "        )\n",
    "        \n",
    "        # Define the labware's format (i.e. number of rows and columns)\n",
    "        source_rows, source_columns = OTProto.get_labware_format(\n",
    "            labware_api_name = Source_Labware_Layout.type,\n",
    "        )\n",
    "        Source_Labware_Layout.define_format(source_rows, source_columns)\n",
    "        Source_Labware_Layout.set_available_wells()\n",
    "        \n",
    "        # For each colourant\n",
    "        for colourant in self.source_colours:\n",
    "\n",
    "            # Calculate the number of aliquots needed\n",
    "            aliquots_needed = BMS.Aliquot_Calculator(\n",
    "                Liquid = colourant,\n",
    "                Destination_Layouts = [Destination_Labware_Layout],\n",
    "                Aliquot_Volume = self.source_colour_aliquot_volumes,\n",
    "                Dead_Volume = 0\n",
    "            )\n",
    "\n",
    "            # Add that many aliquots to the source layout\n",
    "            for aliquot_n in range(0, aliquots_needed):\n",
    "                # Get the next empty well\n",
    "                well = Source_Labware_Layout.get_next_empty_well()\n",
    "\n",
    "                # Add content to the empty well\n",
    "                Source_Labware_Layout.add_content(\n",
    "                    Well = well,\n",
    "                    Reagent = colourant,\n",
    "                    Volume = self.source_colour_aliquot_volumes # uL\n",
    "                )\n",
    "        \n",
    "        Source_Labware_Layout.print()"
   ]
  },
  {
   "cell_type": "markdown",
   "id": "cb1baeac",
   "metadata": {},
   "source": [
    "We can then check the state of the source and destination layouts by running the protocol template"
   ]
  },
  {
   "cell_type": "code",
   "execution_count": 24,
   "id": "b122d2f8",
   "metadata": {},
   "outputs": [
    {
     "name": "stderr",
     "output_type": "stream",
     "text": [
      "C:\\Users\\bradl\\.opentrons\\robot_settings.json not found. Loading defaults\n",
      "C:\\Users\\bradl\\.opentrons\\deck_calibration.json not found. Loading defaults\n"
     ]
    },
    {
     "name": "stdout",
     "output_type": "stream",
     "text": [
      "['Red', 'Blue']\n",
      "['Red', 'Yellow']\n",
      "['Blue', 'Yellow']\n",
      "\u001b[1mInformation for Destination Labware\u001b[0m\n",
      "Plate Type: biorad_96_wellplate_200ul_pcr\n",
      "Well\tVolume(uL)\tLiquid Class\tReagent\n",
      "A1\t50.0\t\tUnknown\t\tRed\n",
      "A1\t50.0\t\tUnknown\t\tBlue\n",
      "A2\t50.0\t\tUnknown\t\tRed\n",
      "A2\t50.0\t\tUnknown\t\tYellow\n",
      "A3\t50.0\t\tUnknown\t\tBlue\n",
      "A3\t50.0\t\tUnknown\t\tYellow\n",
      "\u001b[1mInformation for Source Labware\u001b[0m\n",
      "Plate Type: opentrons_24_aluminumblock_nest_1.5ml_snapcap\n",
      "Well\tVolume(uL)\tLiquid Class\tReagent\n",
      "A1\t1000.0\t\tUnknown\t\tRed\n",
      "A2\t1000.0\t\tUnknown\t\tBlue\n",
      "A3\t1000.0\t\tUnknown\t\tYellow\n"
     ]
    }
   ],
   "source": [
    "Protocol_Name = \"Colour Mixing Example\"\n",
    "metadata = {\n",
    "    'protocolName': Protocol_Name,\n",
    "    'author': 'Bradley Brown',\n",
    "    'author-email': 'b.bradley2@newcastle.ac.uk',\n",
    "    'user': '',\n",
    "    'user-email': '',\n",
    "    'source': 'BiomationScripter Examples - BMS v0.2.0.dev',\n",
    "    'apiLevel': '2.11',\n",
    "    'robotName': 'RobOT2' # This is the name of the OT2 you plan to run the protocol on\n",
    "}\n",
    "Custom_Labware_Directory = \"../../../data/custom_labware\"\n",
    "protocol = OT2.get_protocol_api(metadata[\"apiLevel\"])\n",
    "protocol.home()\n",
    "Source_Labware_Type = \"opentrons_24_aluminumblock_nest_1.5ml_snapcap\"\n",
    "Destination_Labware_Type = \"biorad_96_wellplate_200ul_pcr\"\n",
    "Source_Colours = [\"Red\", \"Blue\", \"Yellow\"]\n",
    "Source_Colours_Aliquot_Volume = 1000\n",
    "Final_Volume = 100\n",
    "Permutations = False\n",
    "\n",
    "Protocol_Template = Template(\n",
    "    Source_Labware_Type = Source_Labware_Type,\n",
    "    Destination_Labware_Type = Destination_Labware_Type,\n",
    "    Source_Colours = Source_Colours,\n",
    "    Source_Colours_Aliquot_Volume = Source_Colours_Aliquot_Volume,\n",
    "    Final_Volume = Final_Volume,\n",
    "    Permutations = Permutations,\n",
    "    Protocol = protocol,\n",
    "    Name = Protocol_Name,\n",
    "    Metadata = metadata,\n",
    "    Custom_Labware_Dir = Custom_Labware_Directory\n",
    ")\n",
    "\n",
    "Protocol_Template.run()"
   ]
  },
  {
   "cell_type": "markdown",
   "id": "081c8376",
   "metadata": {},
   "source": [
    "###  Load the labware"
   ]
  },
  {
   "cell_type": "markdown",
   "id": "fff1f903",
   "metadata": {},
   "source": [
    "The [`BiomationScripter.Labware_Layout` class](../../../BiomationScripter#class-labware_layout) was used above to keep track of the state of each labware in the protocol. For Opentrons protocols, an [`opentrons.protocol_api.labware.Labware` object](https://docs.opentrons.com/v2/new_protocol_api.html#opentrons.protocol_api.labware.Labware) is used by the API to represent the physical labware.\n",
    "\n",
    "We can use the [`OTProto.load_labware_from_layout` function](../../../OTProto/#function-load_labware_from_layout) to create the [`opentrons.protocol_api.labware.Labware` object](https://docs.opentrons.com/v2/new_protocol_api.html#opentrons.protocol_api.labware.Labware) from our [`Labware_Layout` objects](../../../BiomationScripter#class-labware_layout)"
   ]
  },
  {
   "cell_type": "markdown",
   "id": "2b242c13",
   "metadata": {},
   "source": [
    "<div class=\"admonition note\">\n",
    "    <p class=\"admonition-title\"><b>Note</b></p>\n",
    "    <p>\n",
    "        The functions used here are:\n",
    "        <ul>\n",
    "            <li><a href = \"../../../OTProto/#function-load_labware_from_layout\">OTProto.load_labware_from_layout</a></li>\n",
    "            <li><a href = \"../../../OTProto/#function-next_empty_slot\">OTProto.next_empty_slot</a></li>\n",
    "        </ul>\n",
    "    </p>\n",
    "</div>"
   ]
  },
  {
   "cell_type": "markdown",
   "id": "98ba72b4",
   "metadata": {},
   "source": [
    "```python\n",
    "    ################\n",
    "    # Load labware #\n",
    "    ################\n",
    "\n",
    "    Source_Labware = OTProto.load_labware_from_layout(\n",
    "        Protocol = protocol,\n",
    "        Labware_Layout = Source_Labware_Layout,\n",
    "        deck_position = OTProto.next_empty_slot(protocol),\n",
    "        custom_labware_dir = self.custom_labware_dir\n",
    "    )\n",
    "\n",
    "    Destination_Labware = OTProto.load_labware_from_layout(\n",
    "        Protocol = protocol,\n",
    "        Labware_Layout = Destination_Labware_Layout,\n",
    "        deck_position = OTProto.next_empty_slot(protocol),\n",
    "        custom_labware_dir = self.custom_labware_dir\n",
    "    )\n",
    "```"
   ]
  },
  {
   "cell_type": "markdown",
   "id": "bc5e2377",
   "metadata": {},
   "source": [
    "Once we've added the code to `run`, we can check its functionality"
   ]
  },
  {
   "cell_type": "code",
   "execution_count": 25,
   "id": "201a56a8",
   "metadata": {},
   "outputs": [],
   "source": [
    "class Template(OTProto.OTProto_Template):\n",
    "    def __init__(\n",
    "        self,\n",
    "        Source_Labware_Type,\n",
    "        Destination_Labware_Type,\n",
    "        Source_Colours,\n",
    "        Source_Colours_Aliquot_Volume,\n",
    "        Final_Volume,\n",
    "        Permutations = False,\n",
    "        **kwargs # This will make the superclass arguments available to our template as keyword arguments\n",
    "    ):\n",
    "        \n",
    "        super().__init__(**kwargs) # This passes the keyword arguments to the superclass\n",
    "        \n",
    "        #######################\n",
    "        # User Defined Values #\n",
    "        #######################\n",
    "        self.source_labware_type = Source_Labware_Type\n",
    "        self.destination_labware_type = Destination_Labware_Type\n",
    "        self.source_colours = Source_Colours\n",
    "        self.source_colour_aliquot_volumes = Source_Colours_Aliquot_Volume\n",
    "        self.final_volume = Final_Volume # uL\n",
    "        self.permutations = Permutations\n",
    "        \n",
    "    def run(self):\n",
    "        self.load_pipettes()\n",
    "        \n",
    "        # Set up an empty list in which the colour mixtures required will be added\n",
    "        Colour_Mixtures = []\n",
    "        \n",
    "        # Iterate through the list of source colours provided to create the list of mixtures.\n",
    "        for colour_1 in self.source_colours:\n",
    "            for colour_2 in self.source_colours:\n",
    "                # Ignore situations where colour_1 and colour_2 are the same\n",
    "                if colour_1 == colour_2:\n",
    "                    continue\n",
    "                # Unless permutations has been set to `True`, ignore situations where...\n",
    "                # ...the same colours have already been mixed, just in a different order\n",
    "                elif not self.permutations and [colour_2, colour_1] in Colour_Mixtures:\n",
    "                    continue\n",
    "                else:\n",
    "                    # Add the two colours to the list of mixtures to prepare\n",
    "                    Colour_Mixtures.append([colour_1, colour_2])\n",
    "        \n",
    "        # Here, we'll print to OUT all of the mixtures which will be prepared\n",
    "        for c in Colour_Mixtures:\n",
    "            print(c)\n",
    "            \n",
    "            \n",
    "        ##########################\n",
    "        # Set up labware layouts #\n",
    "        ##########################\n",
    "\n",
    "        # Create the destination object\n",
    "        Destination_Labware_Layout = BMS.Labware_Layout(\n",
    "            Name = \"Destination Labware\",\n",
    "            Type = self.destination_labware_type\n",
    "        )\n",
    "\n",
    "        # Define the labware's format (i.e. number of rows and columns)\n",
    "        destination_rows, destination_columns = OTProto.get_labware_format(\n",
    "            labware_api_name = Destination_Labware_Layout.type,\n",
    "            custom_labware_dir = self.custom_labware_dir\n",
    "        )\n",
    "        Destination_Labware_Layout.define_format(destination_rows, destination_columns)\n",
    "        Destination_Labware_Layout.set_available_wells()\n",
    "\n",
    "        for colour_1, colour_2 in Colour_Mixtures:\n",
    "            \n",
    "            # Get the next empty well\n",
    "            well = Destination_Labware_Layout.get_next_empty_well()\n",
    "\n",
    "            # Add the first colourant\n",
    "            Destination_Labware_Layout.add_content(\n",
    "                Well = well,\n",
    "                Reagent = colour_1,\n",
    "                Volume = self.final_volume / 2 # uL\n",
    "            )\n",
    "\n",
    "            # And then the second\n",
    "            Destination_Labware_Layout.add_content(\n",
    "                Well = well,\n",
    "                Reagent = colour_2,\n",
    "                Volume = self.final_volume / 2 # uL\n",
    "            )\n",
    "\n",
    "            # Can also label the well\n",
    "            Destination_Labware_Layout.add_well_label(\n",
    "                Well = well,\n",
    "                Label = \"Mixture: {}-{}\".format(colour_1, colour_2)\n",
    "            )\n",
    "            \n",
    "        Destination_Labware_Layout.print()\n",
    "        \n",
    "        # Create the source object\n",
    "        Source_Labware_Layout = BMS.Labware_Layout(\n",
    "            Name = \"Source Labware\",\n",
    "            Type = self.source_labware_type\n",
    "        )\n",
    "        \n",
    "        # Define the labware's format (i.e. number of rows and columns)\n",
    "        source_rows, source_columns = OTProto.get_labware_format(\n",
    "            labware_api_name = Source_Labware_Layout.type,\n",
    "        )\n",
    "        Source_Labware_Layout.define_format(source_rows, source_columns)\n",
    "        Source_Labware_Layout.set_available_wells()\n",
    "        \n",
    "        # For each colourant\n",
    "        for colourant in self.source_colours:\n",
    "\n",
    "            # Calculate the number of aliquots needed\n",
    "            aliquots_needed = BMS.Aliquot_Calculator(\n",
    "                Liquid = colourant,\n",
    "                Destination_Layouts = [Destination_Labware_Layout],\n",
    "                Aliquot_Volume = self.source_colour_aliquot_volumes,\n",
    "                Dead_Volume = 0\n",
    "            )\n",
    "\n",
    "            # Add that many aliquots to the source layout\n",
    "            for aliquot_n in range(0, aliquots_needed):\n",
    "                # Get the next empty well\n",
    "                well = Source_Labware_Layout.get_next_empty_well()\n",
    "\n",
    "                # Add content to the empty well\n",
    "                Source_Labware_Layout.add_content(\n",
    "                    Well = well,\n",
    "                    Reagent = colourant,\n",
    "                    Volume = self.source_colour_aliquot_volumes # uL\n",
    "                )\n",
    "        \n",
    "        Source_Labware_Layout.print()\n",
    "        \n",
    "        ################\n",
    "        # Load labware #\n",
    "        ################\n",
    "\n",
    "        Source_Labware = OTProto.load_labware_from_layout(\n",
    "            Protocol = protocol,\n",
    "            Labware_Layout = Source_Labware_Layout,\n",
    "            deck_position = OTProto.next_empty_slot(protocol),\n",
    "            custom_labware_dir = self.custom_labware_dir\n",
    "        )\n",
    "\n",
    "        Destination_Labware = OTProto.load_labware_from_layout(\n",
    "            Protocol = protocol,\n",
    "            Labware_Layout = Destination_Labware_Layout,\n",
    "            deck_position = OTProto.next_empty_slot(protocol),\n",
    "            custom_labware_dir = self.custom_labware_dir\n",
    "        )"
   ]
  },
  {
   "cell_type": "code",
   "execution_count": 26,
   "id": "2afaebde",
   "metadata": {},
   "outputs": [
    {
     "name": "stderr",
     "output_type": "stream",
     "text": [
      "C:\\Users\\bradl\\.opentrons\\robot_settings.json not found. Loading defaults\n",
      "C:\\Users\\bradl\\.opentrons\\deck_calibration.json not found. Loading defaults\n"
     ]
    }
   ],
   "source": [
    "Protocol_Name = \"Colour Mixing Example\"\n",
    "metadata = {\n",
    "    'protocolName': Protocol_Name,\n",
    "    'author': 'Bradley Brown',\n",
    "    'author-email': 'b.bradley2@newcastle.ac.uk',\n",
    "    'user': '',\n",
    "    'user-email': '',\n",
    "    'source': 'BiomationScripter Examples - BMS v0.2.0.dev',\n",
    "    'apiLevel': '2.11',\n",
    "    'robotName': 'RobOT2' # This is the name of the OT2 you plan to run the protocol on\n",
    "}\n",
    "Custom_Labware_Directory = \"../../../data/custom_labware\"\n",
    "protocol = OT2.get_protocol_api(metadata[\"apiLevel\"])\n",
    "protocol.home()\n",
    "Source_Labware_Type = \"opentrons_24_aluminumblock_nest_1.5ml_snapcap\"\n",
    "Destination_Labware_Type = \"biorad_96_wellplate_200ul_pcr\"\n",
    "Source_Colours = [\"Red\", \"Blue\", \"Yellow\"]\n",
    "Source_Colours_Aliquot_Volume = 1000\n",
    "Final_Volume = 100\n",
    "Permutations = False\n",
    "\n",
    "Protocol_Template = Template(\n",
    "    Source_Labware_Type = Source_Labware_Type,\n",
    "    Destination_Labware_Type = Destination_Labware_Type,\n",
    "    Source_Colours = Source_Colours,\n",
    "    Source_Colours_Aliquot_Volume = Source_Colours_Aliquot_Volume,\n",
    "    Final_Volume = Final_Volume,\n",
    "    Permutations = Permutations,\n",
    "    Protocol = protocol,\n",
    "    Name = Protocol_Name,\n",
    "    Metadata = metadata,\n",
    "    Custom_Labware_Dir = Custom_Labware_Directory\n",
    ")"
   ]
  },
  {
   "cell_type": "markdown",
   "id": "372d9a82",
   "metadata": {},
   "source": [
    "We can observe how the state of the Opentrons' deck changes when labware is loaded:"
   ]
  },
  {
   "cell_type": "code",
   "execution_count": 27,
   "id": "1d1ce5bf",
   "metadata": {},
   "outputs": [
    {
     "name": "stdout",
     "output_type": "stream",
     "text": [
      "1 None\n",
      "2 None\n",
      "3 None\n",
      "4 None\n",
      "5 None\n",
      "6 None\n",
      "7 None\n",
      "8 None\n",
      "9 None\n",
      "10 None\n",
      "11 None\n",
      "12 Opentrons Fixed Trash on 12\n"
     ]
    }
   ],
   "source": [
    "# Before loading\n",
    "\n",
    "for slot in Protocol_Template._protocol.deck:\n",
    "    print(slot, Protocol_Template._protocol.deck[slot])"
   ]
  },
  {
   "cell_type": "code",
   "execution_count": 28,
   "id": "48e400eb",
   "metadata": {},
   "outputs": [
    {
     "name": "stdout",
     "output_type": "stream",
     "text": [
      "['Red', 'Blue']\n",
      "['Red', 'Yellow']\n",
      "['Blue', 'Yellow']\n",
      "\u001b[1mInformation for Destination Labware\u001b[0m\n",
      "Plate Type: biorad_96_wellplate_200ul_pcr\n",
      "Well\tVolume(uL)\tLiquid Class\tReagent\n",
      "A1\t50.0\t\tUnknown\t\tRed\n",
      "A1\t50.0\t\tUnknown\t\tBlue\n",
      "A2\t50.0\t\tUnknown\t\tRed\n",
      "A2\t50.0\t\tUnknown\t\tYellow\n",
      "A3\t50.0\t\tUnknown\t\tBlue\n",
      "A3\t50.0\t\tUnknown\t\tYellow\n",
      "\u001b[1mInformation for Source Labware\u001b[0m\n",
      "Plate Type: opentrons_24_aluminumblock_nest_1.5ml_snapcap\n",
      "Well\tVolume(uL)\tLiquid Class\tReagent\n",
      "A1\t1000.0\t\tUnknown\t\tRed\n",
      "A2\t1000.0\t\tUnknown\t\tBlue\n",
      "A3\t1000.0\t\tUnknown\t\tYellow\n"
     ]
    }
   ],
   "source": [
    "Protocol_Template.run()"
   ]
  },
  {
   "cell_type": "code",
   "execution_count": 29,
   "id": "d85ad924",
   "metadata": {},
   "outputs": [
    {
     "name": "stdout",
     "output_type": "stream",
     "text": [
      "1 <opentrons.protocols.context.protocol_api.labware.LabwareImplementation object at 0x0000017809949370>\n",
      "2 <opentrons.protocols.context.protocol_api.labware.LabwareImplementation object at 0x00000178099474F0>\n",
      "3 None\n",
      "4 None\n",
      "5 None\n",
      "6 None\n",
      "7 None\n",
      "8 None\n",
      "9 None\n",
      "10 None\n",
      "11 None\n",
      "12 Opentrons Fixed Trash on 12\n"
     ]
    }
   ],
   "source": [
    "# After loading\n",
    "\n",
    "for slot in Protocol_Template._protocol.deck:\n",
    "    print(slot, Protocol_Template._protocol.deck[slot])"
   ]
  },
  {
   "cell_type": "markdown",
   "id": "15206cee",
   "metadata": {},
   "source": [
    "### Transfer Events"
   ]
  },
  {
   "cell_type": "markdown",
   "id": "4ecec702",
   "metadata": {},
   "source": [
    "The next step is to determine the transfer steps required in the protocol. For this example, we can create a list of transfer steps for each source colourant provided by the user.\n",
    "\n",
    "To generate the transfer lists, we'll use the [`BiomationScripter.Get_Transfers_Required` function](../../../OTProto/#function-get_transfers_required)."
   ]
  },
  {
   "cell_type": "markdown",
   "id": "3cf9350d",
   "metadata": {},
   "source": [
    "```python\n",
    "\n",
    "    ###################\n",
    "    # Transfer Events #\n",
    "    ###################\n",
    "\n",
    "    Transfers = {}\n",
    "\n",
    "    for colourant in self.source_colours:\n",
    "        Transfers[colourant] = BMS.Get_Transfers_Required(\n",
    "            Liquid = colourant,\n",
    "            Destination_Layouts = [Destination_Labware_Layout]\n",
    "        )\n",
    "```"
   ]
  },
  {
   "cell_type": "markdown",
   "id": "2fdbc14b",
   "metadata": {},
   "source": [
    "### Loading Pipettes Tips"
   ]
  },
  {
   "cell_type": "markdown",
   "id": "79907665",
   "metadata": {},
   "source": [
    "The final step before the liquid handling commands are generated is to determine how many pipette tips are required. This can be done using the [`calculate_and_add_tips` method](../../../OTProto_Templates/#superclass-otproto_template) and [`add_tip_boxes_to_pipettes` method](../../../OTProto_Templates/#superclass-otproto_template)"
   ]
  },
  {
   "cell_type": "markdown",
   "id": "558fe438",
   "metadata": {},
   "source": [
    "```python\n",
    "    #####################\n",
    "    # Load Pipette Tips #\n",
    "    #####################\n",
    "\n",
    "    for colourant in Transfers:\n",
    "        transfer_volumes = Transfers[colourant][0]\n",
    "\n",
    "        self.calculate_and_add_tips(\n",
    "            Transfer_Volumes = transfer_volumes,\n",
    "            New_Tip = True\n",
    "        )\n",
    "\n",
    "    self.add_tip_boxes_to_pipettes()\n",
    "```"
   ]
  },
  {
   "cell_type": "markdown",
   "id": "d6d046d9",
   "metadata": {},
   "source": [
    "We can also use the [`tip_racks_prompt` method](../../../OTProto_Templates/#superclass-otproto_template) to let users know at runtime how many tips and tip boxes are required:\n",
    "\n",
    "```python\n",
    "    self.tip_racks_prompt()\n",
    "```"
   ]
  },
  {
   "cell_type": "markdown",
   "id": "3fc7562c",
   "metadata": {},
   "source": [
    "Now let's add this code to the `run` method and check its functionality"
   ]
  },
  {
   "cell_type": "code",
   "execution_count": 30,
   "id": "825aef35",
   "metadata": {},
   "outputs": [],
   "source": [
    "class Template(OTProto.OTProto_Template):\n",
    "    def __init__(\n",
    "        self,\n",
    "        Source_Labware_Type,\n",
    "        Destination_Labware_Type,\n",
    "        Source_Colours,\n",
    "        Source_Colours_Aliquot_Volume,\n",
    "        Final_Volume,\n",
    "        Permutations = False,\n",
    "        **kwargs # This will make the superclass arguments available to our template as keyword arguments\n",
    "    ):\n",
    "        \n",
    "        super().__init__(**kwargs) # This passes the keyword arguments to the superclass\n",
    "        \n",
    "        #######################\n",
    "        # User Defined Values #\n",
    "        #######################\n",
    "        self.source_labware_type = Source_Labware_Type\n",
    "        self.destination_labware_type = Destination_Labware_Type\n",
    "        self.source_colours = Source_Colours\n",
    "        self.source_colour_aliquot_volumes = Source_Colours_Aliquot_Volume\n",
    "        self.final_volume = Final_Volume # uL\n",
    "        self.permutations = Permutations\n",
    "        \n",
    "    def run(self):\n",
    "        self.load_pipettes()\n",
    "        \n",
    "        # Set up an empty list in which the colour mixtures required will be added\n",
    "        Colour_Mixtures = []\n",
    "        \n",
    "        # Iterate through the list of source colours provided to create the list of mixtures.\n",
    "        for colour_1 in self.source_colours:\n",
    "            for colour_2 in self.source_colours:\n",
    "                # Ignore situations where colour_1 and colour_2 are the same\n",
    "                if colour_1 == colour_2:\n",
    "                    continue\n",
    "                # Unless permutations has been set to `True`, ignore situations where...\n",
    "                # ...the same colours have already been mixed, just in a different order\n",
    "                elif not self.permutations and [colour_2, colour_1] in Colour_Mixtures:\n",
    "                    continue\n",
    "                else:\n",
    "                    # Add the two colours to the list of mixtures to prepare\n",
    "                    Colour_Mixtures.append([colour_1, colour_2])\n",
    "        \n",
    "        # Here, we'll print to OUT all of the mixtures which will be prepared\n",
    "        for c in Colour_Mixtures:\n",
    "            print(c)\n",
    "            \n",
    "            \n",
    "        ##########################\n",
    "        # Set up labware layouts #\n",
    "        ##########################\n",
    "\n",
    "        # Create the destination object\n",
    "        Destination_Labware_Layout = BMS.Labware_Layout(\n",
    "            Name = \"Destination Labware\",\n",
    "            Type = self.destination_labware_type\n",
    "        )\n",
    "\n",
    "        # Define the labware's format (i.e. number of rows and columns)\n",
    "        destination_rows, destination_columns = OTProto.get_labware_format(\n",
    "            labware_api_name = Destination_Labware_Layout.type,\n",
    "            custom_labware_dir = self.custom_labware_dir\n",
    "        )\n",
    "        Destination_Labware_Layout.define_format(destination_rows, destination_columns)\n",
    "        Destination_Labware_Layout.set_available_wells()\n",
    "\n",
    "        for colour_1, colour_2 in Colour_Mixtures:\n",
    "            \n",
    "            # Get the next empty well\n",
    "            well = Destination_Labware_Layout.get_next_empty_well()\n",
    "\n",
    "            # Add the first colourant\n",
    "            Destination_Labware_Layout.add_content(\n",
    "                Well = well,\n",
    "                Reagent = colour_1,\n",
    "                Volume = self.final_volume / 2 # uL\n",
    "            )\n",
    "\n",
    "            # And then the second\n",
    "            Destination_Labware_Layout.add_content(\n",
    "                Well = well,\n",
    "                Reagent = colour_2,\n",
    "                Volume = self.final_volume / 2 # uL\n",
    "            )\n",
    "\n",
    "            # Can also label the well\n",
    "            Destination_Labware_Layout.add_well_label(\n",
    "                Well = well,\n",
    "                Label = \"Mixture: {}-{}\".format(colour_1, colour_2)\n",
    "            )\n",
    "            \n",
    "        Destination_Labware_Layout.print()\n",
    "        \n",
    "        # Create the source object\n",
    "        Source_Labware_Layout = BMS.Labware_Layout(\n",
    "            Name = \"Source Labware\",\n",
    "            Type = self.source_labware_type\n",
    "        )\n",
    "        \n",
    "        # Define the labware's format (i.e. number of rows and columns)\n",
    "        source_rows, source_columns = OTProto.get_labware_format(\n",
    "            labware_api_name = Source_Labware_Layout.type,\n",
    "        )\n",
    "        Source_Labware_Layout.define_format(source_rows, source_columns)\n",
    "        Source_Labware_Layout.set_available_wells()\n",
    "        \n",
    "        # For each colourant\n",
    "        for colourant in self.source_colours:\n",
    "\n",
    "            # Calculate the number of aliquots needed\n",
    "            aliquots_needed = BMS.Aliquot_Calculator(\n",
    "                Liquid = colourant,\n",
    "                Destination_Layouts = [Destination_Labware_Layout],\n",
    "                Aliquot_Volume = self.source_colour_aliquot_volumes,\n",
    "                Dead_Volume = 0\n",
    "            )\n",
    "\n",
    "            # Add that many aliquots to the source layout\n",
    "            for aliquot_n in range(0, aliquots_needed):\n",
    "                # Get the next empty well\n",
    "                well = Source_Labware_Layout.get_next_empty_well()\n",
    "\n",
    "                # Add content to the empty well\n",
    "                Source_Labware_Layout.add_content(\n",
    "                    Well = well,\n",
    "                    Reagent = colourant,\n",
    "                    Volume = self.source_colour_aliquot_volumes # uL\n",
    "                )\n",
    "        \n",
    "        Source_Labware_Layout.print()\n",
    "        \n",
    "        ################\n",
    "        # Load labware #\n",
    "        ################\n",
    "\n",
    "        Source_Labware = OTProto.load_labware_from_layout(\n",
    "            Protocol = protocol,\n",
    "            Labware_Layout = Source_Labware_Layout,\n",
    "            deck_position = OTProto.next_empty_slot(protocol),\n",
    "            custom_labware_dir = self.custom_labware_dir\n",
    "        )\n",
    "\n",
    "        Destination_Labware = OTProto.load_labware_from_layout(\n",
    "            Protocol = protocol,\n",
    "            Labware_Layout = Destination_Labware_Layout,\n",
    "            deck_position = OTProto.next_empty_slot(protocol),\n",
    "            custom_labware_dir = self.custom_labware_dir\n",
    "        )\n",
    "        \n",
    "        \n",
    "        ###################\n",
    "        # Transfer Events #\n",
    "        ###################\n",
    "        \n",
    "        Transfers = {}\n",
    "        \n",
    "        for colourant in self.source_colours:\n",
    "            Transfers[colourant] = BMS.Get_Transfers_Required(\n",
    "                Liquid = colourant,\n",
    "                Destination_Layouts = [Destination_Labware_Layout]\n",
    "            )\n",
    "            \n",
    "        #####################\n",
    "        # Load Pipette Tips #\n",
    "        #####################\n",
    "        \n",
    "        for colourant in Transfers:\n",
    "            transfer_volumes = Transfers[colourant][0]\n",
    "            \n",
    "            self.calculate_and_add_tips(\n",
    "                Transfer_Volumes = transfer_volumes,\n",
    "                New_Tip = True\n",
    "            )\n",
    "            \n",
    "        self.add_tip_boxes_to_pipettes()\n",
    "        \n",
    "        self.tip_racks_prompt()"
   ]
  },
  {
   "cell_type": "code",
   "execution_count": 31,
   "id": "5e79f960",
   "metadata": {},
   "outputs": [
    {
     "name": "stderr",
     "output_type": "stream",
     "text": [
      "C:\\Users\\bradl\\.opentrons\\robot_settings.json not found. Loading defaults\n",
      "C:\\Users\\bradl\\.opentrons\\deck_calibration.json not found. Loading defaults\n"
     ]
    },
    {
     "name": "stdout",
     "output_type": "stream",
     "text": [
      "['Red', 'Blue']\n",
      "['Red', 'Yellow']\n",
      "['Blue', 'Yellow']\n",
      "\u001b[1mInformation for Destination Labware\u001b[0m\n",
      "Plate Type: biorad_96_wellplate_200ul_pcr\n",
      "Well\tVolume(uL)\tLiquid Class\tReagent\n",
      "A1\t50.0\t\tUnknown\t\tRed\n",
      "A1\t50.0\t\tUnknown\t\tBlue\n",
      "A2\t50.0\t\tUnknown\t\tRed\n",
      "A2\t50.0\t\tUnknown\t\tYellow\n",
      "A3\t50.0\t\tUnknown\t\tBlue\n",
      "A3\t50.0\t\tUnknown\t\tYellow\n",
      "\u001b[1mInformation for Source Labware\u001b[0m\n",
      "Plate Type: opentrons_24_aluminumblock_nest_1.5ml_snapcap\n",
      "Well\tVolume(uL)\tLiquid Class\tReagent\n",
      "A1\t1000.0\t\tUnknown\t\tRed\n",
      "A2\t1000.0\t\tUnknown\t\tBlue\n",
      "A3\t1000.0\t\tUnknown\t\tYellow\n"
     ]
    }
   ],
   "source": [
    "Protocol_Name = \"Colour Mixing Example\"\n",
    "metadata = {\n",
    "    'protocolName': Protocol_Name,\n",
    "    'author': 'Bradley Brown',\n",
    "    'author-email': 'b.bradley2@newcastle.ac.uk',\n",
    "    'user': '',\n",
    "    'user-email': '',\n",
    "    'source': 'BiomationScripter Examples - BMS v0.2.0.dev',\n",
    "    'apiLevel': '2.11',\n",
    "    'robotName': 'RobOT2' # This is the name of the OT2 you plan to run the protocol on\n",
    "}\n",
    "Custom_Labware_Directory = \"../../../data/custom_labware\"\n",
    "protocol = OT2.get_protocol_api(metadata[\"apiLevel\"])\n",
    "protocol.home()\n",
    "Source_Labware_Type = \"opentrons_24_aluminumblock_nest_1.5ml_snapcap\"\n",
    "Destination_Labware_Type = \"biorad_96_wellplate_200ul_pcr\"\n",
    "Source_Colours = [\"Red\", \"Blue\", \"Yellow\"]\n",
    "Source_Colours_Aliquot_Volume = 1000\n",
    "Final_Volume = 100\n",
    "Permutations = False\n",
    "\n",
    "Protocol_Template = Template(\n",
    "    Source_Labware_Type = Source_Labware_Type,\n",
    "    Destination_Labware_Type = Destination_Labware_Type,\n",
    "    Source_Colours = Source_Colours,\n",
    "    Source_Colours_Aliquot_Volume = Source_Colours_Aliquot_Volume,\n",
    "    Final_Volume = Final_Volume,\n",
    "    Permutations = Permutations,\n",
    "    Protocol = protocol,\n",
    "    Name = Protocol_Name,\n",
    "    Metadata = metadata,\n",
    "    Custom_Labware_Dir = Custom_Labware_Directory\n",
    ")\n",
    "\n",
    "Protocol_Template.run()"
   ]
  },
  {
   "cell_type": "markdown",
   "id": "10a14ce3",
   "metadata": {},
   "source": [
    "The `.commands` attribute of [`opentrons.protocol_api.contexts.ProtocolContext`](https://docs.opentrons.com/v2/new_protocol_api.html#opentrons.protocol_api.contexts.ProtocolContext) can be used to check the current liquid handling commands:"
   ]
  },
  {
   "cell_type": "code",
   "execution_count": 32,
   "id": "b1d63061",
   "metadata": {},
   "outputs": [
    {
     "name": "stdout",
     "output_type": "stream",
     "text": [
      "Pausing robot operation: This protocol uses 0 20 uL tip boxes\n",
      "Pausing robot operation: This protocol uses 1 300 uL tip boxes\n"
     ]
    }
   ],
   "source": [
    "for line in Protocol_Template._protocol.commands():\n",
    "    print(line)"
   ]
  },
  {
   "cell_type": "markdown",
   "id": "eedb46e3",
   "metadata": {},
   "source": [
    "So far, the only commands are those which let the user know how many tip boxes are needed"
   ]
  },
  {
   "cell_type": "markdown",
   "id": "8f05edc4",
   "metadata": {},
   "source": [
    "### Liquid Handling"
   ]
  },
  {
   "cell_type": "markdown",
   "id": "5c6e77e5",
   "metadata": {},
   "source": [
    "For this protocol template, the [`OTProto.dispense_from_aliquots` function](../../../OTProto/#function-dispense_from_aliquots) can be used to create the Opentrons liquid handling commands, as we are simply dispensing the different colourants from source colour aliquots to wells of a destination labware:"
   ]
  },
  {
   "cell_type": "markdown",
   "id": "32f4d53e",
   "metadata": {},
   "source": [
    "<div class=\"admonition note\">\n",
    "    <p class=\"admonition-title\"><b>Note</b></p>\n",
    "    <p>\n",
    "        The <a href = \"../../../OTProto/#function-dispense_from_aliquots\">OTProto.dispense_from_aliquots function</a> takes <a href = \"https://docs.opentrons.com/v2/new_protocol_api.html#opentrons.protocol_api.labware.Well\">opentrons.protocol_api.labware.Well</a> objects as the source and destination locations. Here, the <a href = \"../../../OTProto/#function-get_locations\">OTProto.get_locations function</a> is used to generate these objects.\n",
    "    </p>\n",
    "</div>"
   ]
  },
  {
   "cell_type": "markdown",
   "id": "d1f17401",
   "metadata": {},
   "source": [
    "```python\n",
    "    ###################\n",
    "    # Liquid Handling #\n",
    "    ###################\n",
    "\n",
    "    for colourant in self.source_colours:\n",
    "        # Get the transfer volumes\n",
    "        transfer_volumes = Transfers[colourant][0]\n",
    "\n",
    "        # Get the destination locations\n",
    "        destination_locations = OTProto.get_locations(\n",
    "            Labware = Destination_Labware,\n",
    "            Wells = Transfers[colourant][1]\n",
    "        )\n",
    "\n",
    "        # Get the aliquot source locations\n",
    "        source_wells = Source_Labware_Layout.get_wells_containing_liquid(colourant)\n",
    "\n",
    "        source_locations = OTProto.get_locations(\n",
    "            Labware = Source_Labware,\n",
    "            Wells = source_wells\n",
    "        )\n",
    "\n",
    "        OTProto.dispense_from_aliquots(\n",
    "            Protocol = self._protocol,\n",
    "            Transfer_Volumes = transfer_volumes,\n",
    "            Aliquot_Source_Locations = source_locations,\n",
    "            Destinations = destination_locations,\n",
    "            Dead_Volume_Proportion = 1.0,\n",
    "            Aliquot_Volumes = self.source_colour_aliquot_volumes,\n",
    "            new_tip = True,\n",
    "            mix_after = (10, \"transfer_volume\")\n",
    "        )\n",
    "\n",
    "```"
   ]
  },
  {
   "cell_type": "code",
   "execution_count": 33,
   "id": "9a609a3b",
   "metadata": {},
   "outputs": [],
   "source": [
    "class Template(OTProto.OTProto_Template):\n",
    "    def __init__(\n",
    "        self,\n",
    "        Source_Labware_Type,\n",
    "        Destination_Labware_Type,\n",
    "        Source_Colours,\n",
    "        Source_Colours_Aliquot_Volume,\n",
    "        Final_Volume,\n",
    "        Permutations = False,\n",
    "        **kwargs # This will make the superclass arguments available to our template as keyword arguments\n",
    "    ):\n",
    "        \n",
    "        super().__init__(**kwargs) # This passes the keyword arguments to the superclass\n",
    "        \n",
    "        #######################\n",
    "        # User Defined Values #\n",
    "        #######################\n",
    "        self.source_labware_type = Source_Labware_Type\n",
    "        self.destination_labware_type = Destination_Labware_Type\n",
    "        self.source_colours = Source_Colours\n",
    "        self.source_colour_aliquot_volumes = Source_Colours_Aliquot_Volume\n",
    "        self.final_volume = Final_Volume # uL\n",
    "        self.permutations = Permutations\n",
    "        \n",
    "    def run(self):\n",
    "        self.load_pipettes()\n",
    "        \n",
    "        # Set up an empty list in which the colour mixtures required will be added\n",
    "        Colour_Mixtures = []\n",
    "        \n",
    "        # Iterate through the list of source colours provided to create the list of mixtures.\n",
    "        for colour_1 in self.source_colours:\n",
    "            for colour_2 in self.source_colours:\n",
    "                # Ignore situations where colour_1 and colour_2 are the same\n",
    "                if colour_1 == colour_2:\n",
    "                    continue\n",
    "                # Unless permutations has been set to `True`, ignore situations where...\n",
    "                # ...the same colours have already been mixed, just in a different order\n",
    "                elif not self.permutations and [colour_2, colour_1] in Colour_Mixtures:\n",
    "                    continue\n",
    "                else:\n",
    "                    # Add the two colours to the list of mixtures to prepare\n",
    "                    Colour_Mixtures.append([colour_1, colour_2])\n",
    "        \n",
    "        # Here, we'll print to OUT all of the mixtures which will be prepared\n",
    "        for c in Colour_Mixtures:\n",
    "            print(c)\n",
    "            \n",
    "            \n",
    "        ##########################\n",
    "        # Set up labware layouts #\n",
    "        ##########################\n",
    "\n",
    "        # Create the destination object\n",
    "        Destination_Labware_Layout = BMS.Labware_Layout(\n",
    "            Name = \"Destination Labware\",\n",
    "            Type = self.destination_labware_type\n",
    "        )\n",
    "\n",
    "        # Define the labware's format (i.e. number of rows and columns)\n",
    "        destination_rows, destination_columns = OTProto.get_labware_format(\n",
    "            labware_api_name = Destination_Labware_Layout.type,\n",
    "            custom_labware_dir = self.custom_labware_dir\n",
    "        )\n",
    "        Destination_Labware_Layout.define_format(destination_rows, destination_columns)\n",
    "        Destination_Labware_Layout.set_available_wells()\n",
    "\n",
    "        for colour_1, colour_2 in Colour_Mixtures:\n",
    "            \n",
    "            # Get the next empty well\n",
    "            well = Destination_Labware_Layout.get_next_empty_well()\n",
    "\n",
    "            # Add the first colourant\n",
    "            Destination_Labware_Layout.add_content(\n",
    "                Well = well,\n",
    "                Reagent = colour_1,\n",
    "                Volume = self.final_volume / 2 # uL\n",
    "            )\n",
    "\n",
    "            # And then the second\n",
    "            Destination_Labware_Layout.add_content(\n",
    "                Well = well,\n",
    "                Reagent = colour_2,\n",
    "                Volume = self.final_volume / 2 # uL\n",
    "            )\n",
    "\n",
    "            # Can also label the well\n",
    "            Destination_Labware_Layout.add_well_label(\n",
    "                Well = well,\n",
    "                Label = \"Mixture: {}-{}\".format(colour_1, colour_2)\n",
    "            )\n",
    "            \n",
    "        Destination_Labware_Layout.print()\n",
    "        \n",
    "        # Create the source object\n",
    "        Source_Labware_Layout = BMS.Labware_Layout(\n",
    "            Name = \"Source Labware\",\n",
    "            Type = self.source_labware_type\n",
    "        )\n",
    "        \n",
    "        # Define the labware's format (i.e. number of rows and columns)\n",
    "        source_rows, source_columns = OTProto.get_labware_format(\n",
    "            labware_api_name = Source_Labware_Layout.type,\n",
    "        )\n",
    "        Source_Labware_Layout.define_format(source_rows, source_columns)\n",
    "        Source_Labware_Layout.set_available_wells()\n",
    "        \n",
    "        # For each colourant\n",
    "        for colourant in self.source_colours:\n",
    "\n",
    "            # Calculate the number of aliquots needed\n",
    "            aliquots_needed = BMS.Aliquot_Calculator(\n",
    "                Liquid = colourant,\n",
    "                Destination_Layouts = [Destination_Labware_Layout],\n",
    "                Aliquot_Volume = self.source_colour_aliquot_volumes,\n",
    "                Dead_Volume = 0\n",
    "            )\n",
    "\n",
    "            # Add that many aliquots to the source layout\n",
    "            for aliquot_n in range(0, aliquots_needed):\n",
    "                # Get the next empty well\n",
    "                well = Source_Labware_Layout.get_next_empty_well()\n",
    "\n",
    "                # Add content to the empty well\n",
    "                Source_Labware_Layout.add_content(\n",
    "                    Well = well,\n",
    "                    Reagent = colourant,\n",
    "                    Volume = self.source_colour_aliquot_volumes # uL\n",
    "                )\n",
    "        \n",
    "        Source_Labware_Layout.print()\n",
    "        \n",
    "        ################\n",
    "        # Load labware #\n",
    "        ################\n",
    "\n",
    "        Source_Labware = OTProto.load_labware_from_layout(\n",
    "            Protocol = protocol,\n",
    "            Labware_Layout = Source_Labware_Layout,\n",
    "            deck_position = OTProto.next_empty_slot(protocol),\n",
    "            custom_labware_dir = self.custom_labware_dir\n",
    "        )\n",
    "\n",
    "        Destination_Labware = OTProto.load_labware_from_layout(\n",
    "            Protocol = protocol,\n",
    "            Labware_Layout = Destination_Labware_Layout,\n",
    "            deck_position = OTProto.next_empty_slot(protocol),\n",
    "            custom_labware_dir = self.custom_labware_dir\n",
    "        )\n",
    "        \n",
    "        \n",
    "        ###################\n",
    "        # Transfer Events #\n",
    "        ###################\n",
    "        \n",
    "        Transfers = {}\n",
    "        \n",
    "        for colourant in self.source_colours:\n",
    "            Transfers[colourant] = BMS.Get_Transfers_Required(\n",
    "                Liquid = colourant,\n",
    "                Destination_Layouts = [Destination_Labware_Layout]\n",
    "            )\n",
    "            \n",
    "        #####################\n",
    "        # Load Pipette Tips #\n",
    "        #####################\n",
    "        \n",
    "        for colourant in Transfers:\n",
    "            transfer_volumes = Transfers[colourant][0]\n",
    "            \n",
    "            self.calculate_and_add_tips(\n",
    "                Transfer_Volumes = transfer_volumes,\n",
    "                New_Tip = True\n",
    "            )\n",
    "            \n",
    "        self.add_tip_boxes_to_pipettes()\n",
    "        \n",
    "        self.tip_racks_prompt()\n",
    "        \n",
    "        ###################\n",
    "        # Liquid Handling #\n",
    "        ###################\n",
    "        \n",
    "        for colourant in self.source_colours:\n",
    "            # Get the transfer volumes\n",
    "            transfer_volumes = Transfers[colourant][0]\n",
    "            \n",
    "            # Get the destination locations\n",
    "            destination_locations = OTProto.get_locations(\n",
    "                Labware = Destination_Labware,\n",
    "                Wells = Transfers[colourant][1]\n",
    "            )\n",
    "            \n",
    "            # Get the aliquot source locations\n",
    "            source_wells = Source_Labware_Layout.get_wells_containing_liquid(colourant)\n",
    "            \n",
    "            source_locations = OTProto.get_locations(\n",
    "                Labware = Source_Labware,\n",
    "                Wells = source_wells\n",
    "            )\n",
    "            \n",
    "            OTProto.dispense_from_aliquots(\n",
    "                Protocol = self._protocol,\n",
    "                Transfer_Volumes = transfer_volumes,\n",
    "                Aliquot_Source_Locations = source_locations,\n",
    "                Destinations = destination_locations,\n",
    "                Dead_Volume_Proportion = 1.0,\n",
    "                Aliquot_Volumes = self.source_colour_aliquot_volumes,\n",
    "                new_tip = True,\n",
    "                mix_after = (10, \"transfer_volume\")\n",
    "            )"
   ]
  },
  {
   "cell_type": "markdown",
   "id": "0f7e238c",
   "metadata": {},
   "source": [
    "## Simulation"
   ]
  },
  {
   "cell_type": "markdown",
   "id": "c3027c26",
   "metadata": {},
   "source": [
    "Now we've coded the protocol template, we can check it works by simulating it."
   ]
  },
  {
   "cell_type": "code",
   "execution_count": 34,
   "id": "e9bdeeaf",
   "metadata": {},
   "outputs": [
    {
     "name": "stderr",
     "output_type": "stream",
     "text": [
      "C:\\Users\\bradl\\.opentrons\\robot_settings.json not found. Loading defaults\n",
      "C:\\Users\\bradl\\.opentrons\\deck_calibration.json not found. Loading defaults\n"
     ]
    },
    {
     "name": "stdout",
     "output_type": "stream",
     "text": [
      "['Red', 'Blue']\n",
      "['Red', 'Yellow']\n",
      "['Blue', 'Yellow']\n",
      "\u001b[1mInformation for Destination Labware\u001b[0m\n",
      "Plate Type: biorad_96_wellplate_200ul_pcr\n",
      "Well\tVolume(uL)\tLiquid Class\tReagent\n",
      "A1\t50.0\t\tUnknown\t\tRed\n",
      "A1\t50.0\t\tUnknown\t\tBlue\n",
      "A2\t50.0\t\tUnknown\t\tRed\n",
      "A2\t50.0\t\tUnknown\t\tYellow\n",
      "A3\t50.0\t\tUnknown\t\tBlue\n",
      "A3\t50.0\t\tUnknown\t\tYellow\n",
      "\u001b[1mInformation for Source Labware\u001b[0m\n",
      "Plate Type: opentrons_24_aluminumblock_nest_1.5ml_snapcap\n",
      "Well\tVolume(uL)\tLiquid Class\tReagent\n",
      "A1\t1000.0\t\tUnknown\t\tRed\n",
      "A2\t1000.0\t\tUnknown\t\tBlue\n",
      "A3\t1000.0\t\tUnknown\t\tYellow\n"
     ]
    }
   ],
   "source": [
    "Protocol_Name = \"Colour Mixing Example\"\n",
    "metadata = {\n",
    "    'protocolName': Protocol_Name,\n",
    "    'author': 'Bradley Brown',\n",
    "    'author-email': 'b.bradley2@newcastle.ac.uk',\n",
    "    'user': '',\n",
    "    'user-email': '',\n",
    "    'source': 'BiomationScripter Examples - BMS v0.2.0.dev',\n",
    "    'apiLevel': '2.11',\n",
    "    'robotName': 'RobOT2' # This is the name of the OT2 you plan to run the protocol on\n",
    "}\n",
    "Custom_Labware_Directory = \"../../../data/custom_labware\"\n",
    "protocol = OT2.get_protocol_api(metadata[\"apiLevel\"])\n",
    "protocol.home()\n",
    "Source_Labware_Type = \"opentrons_24_aluminumblock_nest_1.5ml_snapcap\"\n",
    "Destination_Labware_Type = \"biorad_96_wellplate_200ul_pcr\"\n",
    "Source_Colours = [\"Red\", \"Blue\", \"Yellow\"]\n",
    "Source_Colours_Aliquot_Volume = 1000\n",
    "Final_Volume = 100\n",
    "Permutations = False\n",
    "\n",
    "Protocol_Template = Template(\n",
    "    Source_Labware_Type = Source_Labware_Type,\n",
    "    Destination_Labware_Type = Destination_Labware_Type,\n",
    "    Source_Colours = Source_Colours,\n",
    "    Source_Colours_Aliquot_Volume = Source_Colours_Aliquot_Volume,\n",
    "    Final_Volume = Final_Volume,\n",
    "    Permutations = Permutations,\n",
    "    Protocol = protocol,\n",
    "    Name = Protocol_Name,\n",
    "    Metadata = metadata,\n",
    "    Custom_Labware_Dir = Custom_Labware_Directory\n",
    ")\n",
    "\n",
    "Protocol_Template.run()"
   ]
  },
  {
   "cell_type": "markdown",
   "id": "bab5e38e",
   "metadata": {},
   "source": [
    "Once again, the `.commands` attribute of [`opentrons.protocol_api.contexts.ProtocolContext`](https://docs.opentrons.com/v2/new_protocol_api.html#opentrons.protocol_api.contexts.ProtocolContext) can be used to check the liquid handling commands:"
   ]
  },
  {
   "cell_type": "code",
   "execution_count": 35,
   "id": "b2daf650",
   "metadata": {},
   "outputs": [
    {
     "name": "stdout",
     "output_type": "stream",
     "text": [
      "Pausing robot operation: This protocol uses 0 20 uL tip boxes\n",
      "Pausing robot operation: This protocol uses 1 300 uL tip boxes\n",
      "Picking up tip from A1 of Opentrons 96 Tip Rack 300 µL on 3\n",
      "Moving to A1 of Source Labware on 1\n",
      "Aspirating 50.0 uL from A1 of Source Labware on 1 at 92.86 uL/sec\n",
      "Moving to A1 of Destination Labware on 2\n",
      "Dispensing 50.0 uL into A1 of Destination Labware on 2 at 92.86 uL/sec\n",
      "Mixing 10 times with a volume of 50.0 ul\n",
      "Aspirating 50.0 uL from A1 of Destination Labware on 2 at 92.86 uL/sec\n",
      "Dispensing 50.0 uL into A1 of Destination Labware on 2 at 92.86 uL/sec\n",
      "Aspirating 50.0 uL from A1 of Destination Labware on 2 at 92.86 uL/sec\n",
      "Dispensing 50.0 uL into A1 of Destination Labware on 2 at 92.86 uL/sec\n",
      "Aspirating 50.0 uL from A1 of Destination Labware on 2 at 92.86 uL/sec\n",
      "Dispensing 50.0 uL into A1 of Destination Labware on 2 at 92.86 uL/sec\n",
      "Aspirating 50.0 uL from A1 of Destination Labware on 2 at 92.86 uL/sec\n",
      "Dispensing 50.0 uL into A1 of Destination Labware on 2 at 92.86 uL/sec\n",
      "Aspirating 50.0 uL from A1 of Destination Labware on 2 at 92.86 uL/sec\n",
      "Dispensing 50.0 uL into A1 of Destination Labware on 2 at 92.86 uL/sec\n",
      "Aspirating 50.0 uL from A1 of Destination Labware on 2 at 92.86 uL/sec\n",
      "Dispensing 50.0 uL into A1 of Destination Labware on 2 at 92.86 uL/sec\n",
      "Aspirating 50.0 uL from A1 of Destination Labware on 2 at 92.86 uL/sec\n",
      "Dispensing 50.0 uL into A1 of Destination Labware on 2 at 92.86 uL/sec\n",
      "Aspirating 50.0 uL from A1 of Destination Labware on 2 at 92.86 uL/sec\n",
      "Dispensing 50.0 uL into A1 of Destination Labware on 2 at 92.86 uL/sec\n",
      "Aspirating 50.0 uL from A1 of Destination Labware on 2 at 92.86 uL/sec\n",
      "Dispensing 50.0 uL into A1 of Destination Labware on 2 at 92.86 uL/sec\n",
      "Aspirating 50.0 uL from A1 of Destination Labware on 2 at 92.86 uL/sec\n",
      "Dispensing 50.0 uL into A1 of Destination Labware on 2 at 92.86 uL/sec\n",
      "Dropping tip into A1 of Opentrons Fixed Trash on 12\n",
      "Picking up tip from B1 of Opentrons 96 Tip Rack 300 µL on 3\n",
      "Moving to A1 of Source Labware on 1\n",
      "Aspirating 50.0 uL from A1 of Source Labware on 1 at 92.86 uL/sec\n",
      "Moving to A2 of Destination Labware on 2\n",
      "Dispensing 50.0 uL into A2 of Destination Labware on 2 at 92.86 uL/sec\n",
      "Mixing 10 times with a volume of 50.0 ul\n",
      "Aspirating 50.0 uL from A2 of Destination Labware on 2 at 92.86 uL/sec\n",
      "Dispensing 50.0 uL into A2 of Destination Labware on 2 at 92.86 uL/sec\n",
      "Aspirating 50.0 uL from A2 of Destination Labware on 2 at 92.86 uL/sec\n",
      "Dispensing 50.0 uL into A2 of Destination Labware on 2 at 92.86 uL/sec\n",
      "Aspirating 50.0 uL from A2 of Destination Labware on 2 at 92.86 uL/sec\n",
      "Dispensing 50.0 uL into A2 of Destination Labware on 2 at 92.86 uL/sec\n",
      "Aspirating 50.0 uL from A2 of Destination Labware on 2 at 92.86 uL/sec\n",
      "Dispensing 50.0 uL into A2 of Destination Labware on 2 at 92.86 uL/sec\n",
      "Aspirating 50.0 uL from A2 of Destination Labware on 2 at 92.86 uL/sec\n",
      "Dispensing 50.0 uL into A2 of Destination Labware on 2 at 92.86 uL/sec\n",
      "Aspirating 50.0 uL from A2 of Destination Labware on 2 at 92.86 uL/sec\n",
      "Dispensing 50.0 uL into A2 of Destination Labware on 2 at 92.86 uL/sec\n",
      "Aspirating 50.0 uL from A2 of Destination Labware on 2 at 92.86 uL/sec\n",
      "Dispensing 50.0 uL into A2 of Destination Labware on 2 at 92.86 uL/sec\n",
      "Aspirating 50.0 uL from A2 of Destination Labware on 2 at 92.86 uL/sec\n",
      "Dispensing 50.0 uL into A2 of Destination Labware on 2 at 92.86 uL/sec\n",
      "Aspirating 50.0 uL from A2 of Destination Labware on 2 at 92.86 uL/sec\n",
      "Dispensing 50.0 uL into A2 of Destination Labware on 2 at 92.86 uL/sec\n",
      "Aspirating 50.0 uL from A2 of Destination Labware on 2 at 92.86 uL/sec\n",
      "Dispensing 50.0 uL into A2 of Destination Labware on 2 at 92.86 uL/sec\n",
      "Dropping tip into A1 of Opentrons Fixed Trash on 12\n",
      "Picking up tip from C1 of Opentrons 96 Tip Rack 300 µL on 3\n",
      "Moving to A2 of Source Labware on 1\n",
      "Aspirating 50.0 uL from A2 of Source Labware on 1 at 92.86 uL/sec\n",
      "Moving to A1 of Destination Labware on 2\n",
      "Dispensing 50.0 uL into A1 of Destination Labware on 2 at 92.86 uL/sec\n",
      "Mixing 10 times with a volume of 50.0 ul\n",
      "Aspirating 50.0 uL from A1 of Destination Labware on 2 at 92.86 uL/sec\n",
      "Dispensing 50.0 uL into A1 of Destination Labware on 2 at 92.86 uL/sec\n",
      "Aspirating 50.0 uL from A1 of Destination Labware on 2 at 92.86 uL/sec\n",
      "Dispensing 50.0 uL into A1 of Destination Labware on 2 at 92.86 uL/sec\n",
      "Aspirating 50.0 uL from A1 of Destination Labware on 2 at 92.86 uL/sec\n",
      "Dispensing 50.0 uL into A1 of Destination Labware on 2 at 92.86 uL/sec\n",
      "Aspirating 50.0 uL from A1 of Destination Labware on 2 at 92.86 uL/sec\n",
      "Dispensing 50.0 uL into A1 of Destination Labware on 2 at 92.86 uL/sec\n",
      "Aspirating 50.0 uL from A1 of Destination Labware on 2 at 92.86 uL/sec\n",
      "Dispensing 50.0 uL into A1 of Destination Labware on 2 at 92.86 uL/sec\n",
      "Aspirating 50.0 uL from A1 of Destination Labware on 2 at 92.86 uL/sec\n",
      "Dispensing 50.0 uL into A1 of Destination Labware on 2 at 92.86 uL/sec\n",
      "Aspirating 50.0 uL from A1 of Destination Labware on 2 at 92.86 uL/sec\n",
      "Dispensing 50.0 uL into A1 of Destination Labware on 2 at 92.86 uL/sec\n",
      "Aspirating 50.0 uL from A1 of Destination Labware on 2 at 92.86 uL/sec\n",
      "Dispensing 50.0 uL into A1 of Destination Labware on 2 at 92.86 uL/sec\n",
      "Aspirating 50.0 uL from A1 of Destination Labware on 2 at 92.86 uL/sec\n",
      "Dispensing 50.0 uL into A1 of Destination Labware on 2 at 92.86 uL/sec\n",
      "Aspirating 50.0 uL from A1 of Destination Labware on 2 at 92.86 uL/sec\n",
      "Dispensing 50.0 uL into A1 of Destination Labware on 2 at 92.86 uL/sec\n",
      "Dropping tip into A1 of Opentrons Fixed Trash on 12\n",
      "Picking up tip from D1 of Opentrons 96 Tip Rack 300 µL on 3\n",
      "Moving to A2 of Source Labware on 1\n",
      "Aspirating 50.0 uL from A2 of Source Labware on 1 at 92.86 uL/sec\n",
      "Moving to A3 of Destination Labware on 2\n",
      "Dispensing 50.0 uL into A3 of Destination Labware on 2 at 92.86 uL/sec\n",
      "Mixing 10 times with a volume of 50.0 ul\n",
      "Aspirating 50.0 uL from A3 of Destination Labware on 2 at 92.86 uL/sec\n",
      "Dispensing 50.0 uL into A3 of Destination Labware on 2 at 92.86 uL/sec\n",
      "Aspirating 50.0 uL from A3 of Destination Labware on 2 at 92.86 uL/sec\n",
      "Dispensing 50.0 uL into A3 of Destination Labware on 2 at 92.86 uL/sec\n",
      "Aspirating 50.0 uL from A3 of Destination Labware on 2 at 92.86 uL/sec\n",
      "Dispensing 50.0 uL into A3 of Destination Labware on 2 at 92.86 uL/sec\n",
      "Aspirating 50.0 uL from A3 of Destination Labware on 2 at 92.86 uL/sec\n",
      "Dispensing 50.0 uL into A3 of Destination Labware on 2 at 92.86 uL/sec\n",
      "Aspirating 50.0 uL from A3 of Destination Labware on 2 at 92.86 uL/sec\n",
      "Dispensing 50.0 uL into A3 of Destination Labware on 2 at 92.86 uL/sec\n",
      "Aspirating 50.0 uL from A3 of Destination Labware on 2 at 92.86 uL/sec\n",
      "Dispensing 50.0 uL into A3 of Destination Labware on 2 at 92.86 uL/sec\n",
      "Aspirating 50.0 uL from A3 of Destination Labware on 2 at 92.86 uL/sec\n",
      "Dispensing 50.0 uL into A3 of Destination Labware on 2 at 92.86 uL/sec\n",
      "Aspirating 50.0 uL from A3 of Destination Labware on 2 at 92.86 uL/sec\n",
      "Dispensing 50.0 uL into A3 of Destination Labware on 2 at 92.86 uL/sec\n",
      "Aspirating 50.0 uL from A3 of Destination Labware on 2 at 92.86 uL/sec\n",
      "Dispensing 50.0 uL into A3 of Destination Labware on 2 at 92.86 uL/sec\n",
      "Aspirating 50.0 uL from A3 of Destination Labware on 2 at 92.86 uL/sec\n",
      "Dispensing 50.0 uL into A3 of Destination Labware on 2 at 92.86 uL/sec\n",
      "Dropping tip into A1 of Opentrons Fixed Trash on 12\n",
      "Picking up tip from E1 of Opentrons 96 Tip Rack 300 µL on 3\n",
      "Moving to A3 of Source Labware on 1\n",
      "Aspirating 50.0 uL from A3 of Source Labware on 1 at 92.86 uL/sec\n",
      "Moving to A2 of Destination Labware on 2\n",
      "Dispensing 50.0 uL into A2 of Destination Labware on 2 at 92.86 uL/sec\n",
      "Mixing 10 times with a volume of 50.0 ul\n",
      "Aspirating 50.0 uL from A2 of Destination Labware on 2 at 92.86 uL/sec\n",
      "Dispensing 50.0 uL into A2 of Destination Labware on 2 at 92.86 uL/sec\n",
      "Aspirating 50.0 uL from A2 of Destination Labware on 2 at 92.86 uL/sec\n",
      "Dispensing 50.0 uL into A2 of Destination Labware on 2 at 92.86 uL/sec\n",
      "Aspirating 50.0 uL from A2 of Destination Labware on 2 at 92.86 uL/sec\n",
      "Dispensing 50.0 uL into A2 of Destination Labware on 2 at 92.86 uL/sec\n",
      "Aspirating 50.0 uL from A2 of Destination Labware on 2 at 92.86 uL/sec\n",
      "Dispensing 50.0 uL into A2 of Destination Labware on 2 at 92.86 uL/sec\n",
      "Aspirating 50.0 uL from A2 of Destination Labware on 2 at 92.86 uL/sec\n",
      "Dispensing 50.0 uL into A2 of Destination Labware on 2 at 92.86 uL/sec\n",
      "Aspirating 50.0 uL from A2 of Destination Labware on 2 at 92.86 uL/sec\n",
      "Dispensing 50.0 uL into A2 of Destination Labware on 2 at 92.86 uL/sec\n",
      "Aspirating 50.0 uL from A2 of Destination Labware on 2 at 92.86 uL/sec\n",
      "Dispensing 50.0 uL into A2 of Destination Labware on 2 at 92.86 uL/sec\n",
      "Aspirating 50.0 uL from A2 of Destination Labware on 2 at 92.86 uL/sec\n",
      "Dispensing 50.0 uL into A2 of Destination Labware on 2 at 92.86 uL/sec\n",
      "Aspirating 50.0 uL from A2 of Destination Labware on 2 at 92.86 uL/sec\n",
      "Dispensing 50.0 uL into A2 of Destination Labware on 2 at 92.86 uL/sec\n",
      "Aspirating 50.0 uL from A2 of Destination Labware on 2 at 92.86 uL/sec\n",
      "Dispensing 50.0 uL into A2 of Destination Labware on 2 at 92.86 uL/sec\n",
      "Dropping tip into A1 of Opentrons Fixed Trash on 12\n",
      "Picking up tip from F1 of Opentrons 96 Tip Rack 300 µL on 3\n",
      "Moving to A3 of Source Labware on 1\n",
      "Aspirating 50.0 uL from A3 of Source Labware on 1 at 92.86 uL/sec\n",
      "Moving to A3 of Destination Labware on 2\n",
      "Dispensing 50.0 uL into A3 of Destination Labware on 2 at 92.86 uL/sec\n",
      "Mixing 10 times with a volume of 50.0 ul\n",
      "Aspirating 50.0 uL from A3 of Destination Labware on 2 at 92.86 uL/sec\n",
      "Dispensing 50.0 uL into A3 of Destination Labware on 2 at 92.86 uL/sec\n",
      "Aspirating 50.0 uL from A3 of Destination Labware on 2 at 92.86 uL/sec\n",
      "Dispensing 50.0 uL into A3 of Destination Labware on 2 at 92.86 uL/sec\n",
      "Aspirating 50.0 uL from A3 of Destination Labware on 2 at 92.86 uL/sec\n",
      "Dispensing 50.0 uL into A3 of Destination Labware on 2 at 92.86 uL/sec\n",
      "Aspirating 50.0 uL from A3 of Destination Labware on 2 at 92.86 uL/sec\n",
      "Dispensing 50.0 uL into A3 of Destination Labware on 2 at 92.86 uL/sec\n",
      "Aspirating 50.0 uL from A3 of Destination Labware on 2 at 92.86 uL/sec\n",
      "Dispensing 50.0 uL into A3 of Destination Labware on 2 at 92.86 uL/sec\n",
      "Aspirating 50.0 uL from A3 of Destination Labware on 2 at 92.86 uL/sec\n",
      "Dispensing 50.0 uL into A3 of Destination Labware on 2 at 92.86 uL/sec\n",
      "Aspirating 50.0 uL from A3 of Destination Labware on 2 at 92.86 uL/sec\n",
      "Dispensing 50.0 uL into A3 of Destination Labware on 2 at 92.86 uL/sec\n",
      "Aspirating 50.0 uL from A3 of Destination Labware on 2 at 92.86 uL/sec\n",
      "Dispensing 50.0 uL into A3 of Destination Labware on 2 at 92.86 uL/sec\n",
      "Aspirating 50.0 uL from A3 of Destination Labware on 2 at 92.86 uL/sec\n",
      "Dispensing 50.0 uL into A3 of Destination Labware on 2 at 92.86 uL/sec\n",
      "Aspirating 50.0 uL from A3 of Destination Labware on 2 at 92.86 uL/sec\n",
      "Dispensing 50.0 uL into A3 of Destination Labware on 2 at 92.86 uL/sec\n",
      "Dropping tip into A1 of Opentrons Fixed Trash on 12\n"
     ]
    }
   ],
   "source": [
    "for line in Protocol_Template._protocol.commands():\n",
    "    print(line)"
   ]
  },
  {
   "cell_type": "markdown",
   "id": "d73b58b5",
   "metadata": {},
   "source": [
    "## Adding the Template to BiomationScripter"
   ]
  },
  {
   "cell_type": "markdown",
   "id": "499625b7",
   "metadata": {},
   "source": [
    "Custom made templates can be added to BiomationScripter. They must be contained within their own file named `<PROTOCOL>.py` (in this case `Colour_Mixing.py`) and placed within the `BiomationScripter/OTProto/Templates/` directory."
   ]
  },
  {
   "cell_type": "markdown",
   "id": "1cd670ab",
   "metadata": {},
   "source": [
    "Once the template has been tested, it can be uploaded to BiomationScripter for use by others. To do this, [open a pull request on GitHub](https://github.com/intbio-ncl/BiomationScripterLib). Make sure you've also added to the [documentation](https://github.com/intbio-ncl/BiomationScripterLib/blob/main/docs/OTProto_Templates.md)."
   ]
  }
 ],
 "metadata": {
  "kernelspec": {
   "display_name": "Python 3 (ipykernel)",
   "language": "python",
   "name": "python3"
  },
  "language_info": {
   "codemirror_mode": {
    "name": "ipython",
    "version": 3
   },
   "file_extension": ".py",
   "mimetype": "text/x-python",
   "name": "python",
   "nbconvert_exporter": "python",
   "pygments_lexer": "ipython3",
   "version": "3.9.7"
  }
 },
 "nbformat": 4,
 "nbformat_minor": 5
}
