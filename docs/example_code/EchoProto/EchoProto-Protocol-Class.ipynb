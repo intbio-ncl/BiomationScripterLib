{
 "cells": [
  {
   "cell_type": "markdown",
   "id": "5aaaaa13",
   "metadata": {},
   "source": [
    "# `BMS.EchoProto.Protocol` Class"
   ]
  },
  {
   "cell_type": "markdown",
   "id": "5d8c6dd7",
   "metadata": {},
   "source": [
    "The `BMS.EchoProto.Protocol` class is used to capture all information relating to a single Echo protocol. The information captured by the `Protocol` object is used to generate the CSV Picklist files which are used to run the Echo."
   ]
  },
  {
   "cell_type": "markdown",
   "id": "20cc1181",
   "metadata": {},
   "source": [
    "## Creating an `EchoProto.Protocol`"
   ]
  },
  {
   "cell_type": "markdown",
   "id": "30ff5baa",
   "metadata": {},
   "source": [
    "First, the BMS generic tools are imported as BMS, and the EchoProto tools are imported as EchoProto"
   ]
  },
  {
   "cell_type": "code",
   "execution_count": 1,
   "id": "a0806975",
   "metadata": {},
   "outputs": [],
   "source": [
    "import BiomationScripter as BMS\n",
    "from BiomationScripter import EchoProto"
   ]
  },
  {
   "cell_type": "markdown",
   "id": "9769ac74",
   "metadata": {},
   "source": [
    "Next, a title for the Echo protocol is defined"
   ]
  },
  {
   "cell_type": "code",
   "execution_count": 2,
   "id": "5d372c1a",
   "metadata": {},
   "outputs": [],
   "source": [
    "Protocol_Title = \"Example Protocol\""
   ]
  },
  {
   "cell_type": "markdown",
   "id": "e18e3bd4",
   "metadata": {},
   "source": [
    "The `EchoProto.Protocol` object is created as shown below"
   ]
  },
  {
   "cell_type": "code",
   "execution_count": 3,
   "id": "e22cf484",
   "metadata": {},
   "outputs": [
    {
     "name": "stdout",
     "output_type": "stream",
     "text": [
      "<BiomationScripter.EchoProto.Protocol object at 0x00000284B6C81190>\n"
     ]
    }
   ],
   "source": [
    "Protocol = EchoProto.Protocol(\n",
    "    Title = Protocol_Title\n",
    ")\n",
    "print(Protocol)"
   ]
  },
  {
   "cell_type": "markdown",
   "id": "90b90335",
   "metadata": {},
   "source": [
    "## Adding Source Plates"
   ]
  },
  {
   "cell_type": "markdown",
   "id": "29218fb4",
   "metadata": {},
   "source": [
    "Source plates are plates which contain reagents or other liquids which will be transferred to the destination plate(s). Source plates are defined using the [`BMS.Labware_Layout`](../../BiomationScripter.md#class-labware_layout) class. These source plates can be newly created, or imported from [standard layout files](../../Standard_Layout_File.md) using the [`BMS.Import_Labware_Layout`](../../BiomationScripter.md#function-import_labware_layout) function.\n",
    "\n",
    "Here, a DNA source plate is created."
   ]
  },
  {
   "cell_type": "code",
   "execution_count": 4,
   "id": "bdfcd734",
   "metadata": {},
   "outputs": [],
   "source": [
    "Coloured_Water_Source_Layout = BMS.Labware_Layout(\n",
    "    Name = \"DNA_Source_Plate\",\n",
    "    Type = \"384PP\"\n",
    ")\n",
    "\n",
    "Coloured_Water_Source_Layout.add_content(\n",
    "    Well = \"A1\",\n",
    "    Reagent = \"Red\",\n",
    "    Volume = 40,\n",
    "    Liquid_Class = \"AQ_BP\"\n",
    ")\n",
    "\n",
    "Coloured_Water_Source_Layout.add_content(\n",
    "    Well = \"A2\",\n",
    "    Reagent = \"Blue\",\n",
    "    Volume = 40,\n",
    "    Liquid_Class = \"AQ_BP\"\n",
    ")"
   ]
  },
  {
   "cell_type": "markdown",
   "id": "74ca175c",
   "metadata": {},
   "source": [
    "When being used as a source plate for Echo protocols, the `BMS.Labware_Layout` MUST have a compatible source type defined. Compatible source types can be retrieved using `EchoProto.Source_Plate_Types.keys()`."
   ]
  },
  {
   "cell_type": "code",
   "execution_count": 5,
   "id": "f041b00d",
   "metadata": {},
   "outputs": [
    {
     "data": {
      "text/plain": [
       "dict_keys(['384PP', '384LDV', '6RES'])"
      ]
     },
     "execution_count": 5,
     "metadata": {},
     "output_type": "execute_result"
    }
   ],
   "source": [
    "EchoProto.Source_Plate_Types.keys()"
   ]
  },
  {
   "cell_type": "markdown",
   "id": "d24d5bcd",
   "metadata": {},
   "source": [
    "The source plate type used here is a 384PP plate"
   ]
  },
  {
   "cell_type": "code",
   "execution_count": 6,
   "id": "901aa0b0",
   "metadata": {},
   "outputs": [
    {
     "data": {
      "text/plain": [
       "'384PP'"
      ]
     },
     "execution_count": 6,
     "metadata": {},
     "output_type": "execute_result"
    }
   ],
   "source": [
    "Coloured_Water_Source_Layout.type"
   ]
  },
  {
   "cell_type": "markdown",
   "id": "e7663868",
   "metadata": {},
   "source": [
    "Additionally, each reagent or other liquid in the source plate should have a liquid class specified. The liquid class is used by the Echo to determine the calibration to use for transfer events."
   ]
  },
  {
   "cell_type": "code",
   "execution_count": 7,
   "id": "394205de",
   "metadata": {},
   "outputs": [
    {
     "name": "stdout",
     "output_type": "stream",
     "text": [
      "Information for DNA_Source_Plate\n",
      "Plate Type: 384PP\n",
      "Well\tVolume(uL)\tLiquid Class\tReagent\n",
      "A1\t40.0\t\tAQ_BP\t\tRed\n",
      "A2\t40.0\t\tAQ_BP\t\tBlue\n"
     ]
    },
    {
     "data": {
      "text/plain": [
       "'A1\\t40.0\\t\\tAQ_BP\\t\\tRed\\nA2\\t40.0\\t\\tAQ_BP\\t\\tBlue\\n'"
      ]
     },
     "execution_count": 7,
     "metadata": {},
     "output_type": "execute_result"
    }
   ],
   "source": [
    "Coloured_Water_Source_Layout.print()"
   ]
  },
  {
   "cell_type": "markdown",
   "id": "d8cf94c5",
   "metadata": {},
   "source": [
    "A source plate can be added to an `EchoProto.Protocol` object using the `add_source_plate` method."
   ]
  },
  {
   "cell_type": "code",
   "execution_count": 8,
   "id": "df4821ff",
   "metadata": {},
   "outputs": [],
   "source": [
    "Protocol.add_source_plate(Coloured_Water_Source_Layout)"
   ]
  },
  {
   "cell_type": "markdown",
   "id": "99f5d143",
   "metadata": {},
   "source": [
    "Source plates can be retrieved using the `get_source_plates` method"
   ]
  },
  {
   "cell_type": "code",
   "execution_count": 9,
   "id": "cb370deb",
   "metadata": {},
   "outputs": [
    {
     "data": {
      "text/plain": [
       "[<BiomationScripter.Labware_Layout at 0x284b6c813a0>]"
      ]
     },
     "execution_count": 9,
     "metadata": {},
     "output_type": "execute_result"
    }
   ],
   "source": [
    "Protocol.get_source_plates()"
   ]
  },
  {
   "cell_type": "markdown",
   "id": "5bbd2323",
   "metadata": {},
   "source": [
    "## Adding Destination Plates"
   ]
  },
  {
   "cell_type": "markdown",
   "id": "f9437dd5",
   "metadata": {},
   "source": [
    "Destination plates define not only the type of plate to be used, but also the intended final contents after the protocol has been ran. Below, a destination plate is set up. Note that here, liquid classes are not required. This is because `EchoProto` uses the source plates to determine which liquid class to use for each liquid."
   ]
  },
  {
   "cell_type": "code",
   "execution_count": 10,
   "id": "647e827a",
   "metadata": {},
   "outputs": [],
   "source": [
    "Destination_Plate_Layout = BMS.Labware_Layout(\n",
    "    Name = \"Destination Plate\",\n",
    "    Type = \"Optical Amp Plate\"\n",
    ")\n",
    "Destination_Plate_Layout.define_format(\n",
    "    Rows = 16,\n",
    "    Columns = 24\n",
    ")"
   ]
  },
  {
   "cell_type": "code",
   "execution_count": 11,
   "id": "5cb832dd",
   "metadata": {},
   "outputs": [
    {
     "name": "stdout",
     "output_type": "stream",
     "text": [
      "Information for Destination Plate\n",
      "Plate Type: Optical Amp Plate\n",
      "Well\tVolume(uL)\tLiquid Class\tReagent\n",
      "B2\t1.0\t\tUnknown\t\tBlue\n",
      "B2\t1.0\t\tUnknown\t\tYellow\n",
      "B3\t1.0\t\tUnknown\t\tBlue\n",
      "B3\t1.0\t\tUnknown\t\tRed\n",
      "B4\t1.0\t\tUnknown\t\tYellow\n",
      "B4\t1.0\t\tUnknown\t\tRed\n"
     ]
    },
    {
     "data": {
      "text/plain": [
       "'B2\\t1.0\\t\\tUnknown\\t\\tBlue\\nB2\\t1.0\\t\\tUnknown\\t\\tYellow\\nB3\\t1.0\\t\\tUnknown\\t\\tBlue\\nB3\\t1.0\\t\\tUnknown\\t\\tRed\\nB4\\t1.0\\t\\tUnknown\\t\\tYellow\\nB4\\t1.0\\t\\tUnknown\\t\\tRed\\n'"
      ]
     },
     "execution_count": 11,
     "metadata": {},
     "output_type": "execute_result"
    }
   ],
   "source": [
    "Destination_Plate_Layout.add_content(\n",
    "    Well = \"B2\",\n",
    "    Reagent = \"Blue\",\n",
    "    Volume = 1\n",
    ")\n",
    "\n",
    "Destination_Plate_Layout.add_content(\n",
    "    Well = \"B2\",\n",
    "    Reagent = \"Yellow\",\n",
    "    Volume = 1\n",
    ")\n",
    "\n",
    "Destination_Plate_Layout.add_content(\n",
    "    Well = \"B3\",\n",
    "    Reagent = \"Blue\",\n",
    "    Volume = 1\n",
    ")\n",
    "\n",
    "Destination_Plate_Layout.add_content(\n",
    "    Well = \"B3\",\n",
    "    Reagent = \"Red\",\n",
    "    Volume = 1\n",
    ")\n",
    "\n",
    "Destination_Plate_Layout.add_content(\n",
    "    Well = \"B4\",\n",
    "    Reagent = \"Yellow\",\n",
    "    Volume = 1\n",
    ")\n",
    "\n",
    "Destination_Plate_Layout.add_content(\n",
    "    Well = \"B4\",\n",
    "    Reagent = \"Red\",\n",
    "    Volume = 1\n",
    ")\n",
    "\n",
    "Destination_Plate_Layout.print()"
   ]
  },
  {
   "cell_type": "markdown",
   "id": "560ce4ab",
   "metadata": {},
   "source": [
    "The destination plate can be added using the `add_destination_plate` method, and retrieved using the `get_destination_plates` method, as shown below"
   ]
  },
  {
   "cell_type": "code",
   "execution_count": 12,
   "id": "5580542a",
   "metadata": {},
   "outputs": [
    {
     "data": {
      "text/plain": [
       "[<BiomationScripter.Labware_Layout at 0x284b6c8c4f0>]"
      ]
     },
     "execution_count": 12,
     "metadata": {},
     "output_type": "execute_result"
    }
   ],
   "source": [
    "Protocol.add_destination_plate(Destination_Plate_Layout)\n",
    "Protocol.get_destination_plates()"
   ]
  },
  {
   "cell_type": "markdown",
   "id": "5120c0de",
   "metadata": {},
   "source": [
    "## Making Echo Picklists from an `EchoProto.Protocol` Object"
   ]
  },
  {
   "cell_type": "markdown",
   "id": "77f55534",
   "metadata": {},
   "source": [
    "The [`EchoProto.Generate_Actions`]() and [`EchoProto.Write_Picklists`]() functions are used to create Picklists which can be imported to the Echo software and used to run the protocol defined here."
   ]
  },
  {
   "cell_type": "markdown",
   "id": "f0a7be60",
   "metadata": {},
   "source": [
    "`EchoProto.Generate_Actions` is the first function to be used. This function will firstly check that all reagents/liquids specified in the destination plate(s) are present in a source plate. If there are any missing, an error is raised."
   ]
  },
  {
   "cell_type": "code",
   "execution_count": 13,
   "id": "e1ec3785",
   "metadata": {},
   "outputs": [
    {
     "ename": "OutOFSourceMaterial",
     "evalue": "Cannot find the following reagents in a source plate: {'Yellow'}",
     "output_type": "error",
     "traceback": [
      "\u001b[1;31m---------------------------------------------------------------------------\u001b[0m",
      "\u001b[1;31mOutOFSourceMaterial\u001b[0m                       Traceback (most recent call last)",
      "\u001b[1;32m~\\AppData\\Local\\Temp/ipykernel_78444/2540961699.py\u001b[0m in \u001b[0;36m<module>\u001b[1;34m\u001b[0m\n\u001b[1;32m----> 1\u001b[1;33m \u001b[0mEchoProto\u001b[0m\u001b[1;33m.\u001b[0m\u001b[0mGenerate_Actions\u001b[0m\u001b[1;33m(\u001b[0m\u001b[0mProtocol\u001b[0m\u001b[1;33m)\u001b[0m\u001b[1;33m\u001b[0m\u001b[1;33m\u001b[0m\u001b[0m\n\u001b[0m",
      "\u001b[1;32m~\\anaconda3\\lib\\site-packages\\BiomationScripter\\EchoProto\\__init__.py\u001b[0m in \u001b[0;36mGenerate_Actions\u001b[1;34m(Protocol)\u001b[0m\n\u001b[0;32m    135\u001b[0m \u001b[1;33m\u001b[0m\u001b[0m\n\u001b[0;32m    136\u001b[0m     \u001b[1;32mif\u001b[0m \u001b[0mlen\u001b[0m\u001b[1;33m(\u001b[0m\u001b[0mMissing_Reagents\u001b[0m\u001b[1;33m)\u001b[0m \u001b[1;33m>\u001b[0m \u001b[1;36m0\u001b[0m\u001b[1;33m:\u001b[0m\u001b[1;33m\u001b[0m\u001b[1;33m\u001b[0m\u001b[0m\n\u001b[1;32m--> 137\u001b[1;33m         \u001b[1;32mraise\u001b[0m \u001b[0m_BMS\u001b[0m\u001b[1;33m.\u001b[0m\u001b[0mOutOFSourceMaterial\u001b[0m\u001b[1;33m(\u001b[0m\u001b[1;34m\"Cannot find the following reagents in a source plate: {}\"\u001b[0m\u001b[1;33m.\u001b[0m\u001b[0mformat\u001b[0m\u001b[1;33m(\u001b[0m\u001b[0mMissing_Reagents\u001b[0m\u001b[1;33m)\u001b[0m\u001b[1;33m)\u001b[0m\u001b[1;33m\u001b[0m\u001b[1;33m\u001b[0m\u001b[0m\n\u001b[0m\u001b[0;32m    138\u001b[0m \u001b[1;33m\u001b[0m\u001b[0m\n\u001b[0;32m    139\u001b[0m     \u001b[1;31m# Check if there is enough volume for each of the required reagents present in the source plates\u001b[0m\u001b[1;33m\u001b[0m\u001b[1;33m\u001b[0m\u001b[0m\n",
      "\u001b[1;31mOutOFSourceMaterial\u001b[0m: Cannot find the following reagents in a source plate: {'Yellow'}"
     ]
    }
   ],
   "source": [
    "EchoProto.Generate_Actions(Protocol)"
   ]
  },
  {
   "cell_type": "markdown",
   "id": "d17e2364",
   "metadata": {},
   "source": [
    "As can be seen above, the \"Yellow\" liquid is missing. This can be added to the source plate as below"
   ]
  },
  {
   "cell_type": "code",
   "execution_count": 14,
   "id": "1aa6f7c1",
   "metadata": {},
   "outputs": [],
   "source": [
    "Coloured_Water_Source_Layout.add_content(\n",
    "    Well = \"A3\",\n",
    "    Reagent = \"Yellow\",\n",
    "    Volume = 10,\n",
    "    Liquid_Class = \"AQ_BP\"\n",
    ")"
   ]
  },
  {
   "cell_type": "markdown",
   "id": "215c0308",
   "metadata": {},
   "source": [
    "After checking that all required reagents are present, `Generate_Actions` will then check that enough of all source material is present. This also takes into account the dead volume for the different source plate types."
   ]
  },
  {
   "cell_type": "code",
   "execution_count": 15,
   "id": "e3df6d9e",
   "metadata": {},
   "outputs": [
    {
     "name": "stdout",
     "output_type": "stream",
     "text": [
      "Well A3 of plate DNA_Source_Plate containing Yellow is 5.0 uL below the dead volume.\n"
     ]
    },
    {
     "ename": "OutOFSourceMaterial",
     "evalue": "\nNot enough volume of Yellow. 2.0 uL more is required. Last well checked was A3 of DNA_Source_Plate. This well is also 5.0 uL below the dead volume.\n\n\nName,Well,Plate,Volume Needed\nYellow,A3,DNA_Source_Plate,7.0\n",
     "output_type": "error",
     "traceback": [
      "\u001b[1;31m---------------------------------------------------------------------------\u001b[0m",
      "\u001b[1;31mOutOFSourceMaterial\u001b[0m                       Traceback (most recent call last)",
      "\u001b[1;32m~\\AppData\\Local\\Temp/ipykernel_78444/2540961699.py\u001b[0m in \u001b[0;36m<module>\u001b[1;34m\u001b[0m\n\u001b[1;32m----> 1\u001b[1;33m \u001b[0mEchoProto\u001b[0m\u001b[1;33m.\u001b[0m\u001b[0mGenerate_Actions\u001b[0m\u001b[1;33m(\u001b[0m\u001b[0mProtocol\u001b[0m\u001b[1;33m)\u001b[0m\u001b[1;33m\u001b[0m\u001b[1;33m\u001b[0m\u001b[0m\n\u001b[0m",
      "\u001b[1;32m~\\anaconda3\\lib\\site-packages\\BiomationScripter\\EchoProto\\__init__.py\u001b[0m in \u001b[0;36mGenerate_Actions\u001b[1;34m(Protocol)\u001b[0m\n\u001b[0;32m    193\u001b[0m             \u001b[0merror_text\u001b[0m \u001b[1;33m+=\u001b[0m \u001b[1;34m\"Not enough volume of {}. {} uL more is required. Last well checked was {} of {}{}\\n\"\u001b[0m\u001b[1;33m.\u001b[0m\u001b[0mformat\u001b[0m\u001b[1;33m(\u001b[0m\u001b[0me\u001b[0m\u001b[1;33m[\u001b[0m\u001b[1;36m0\u001b[0m\u001b[1;33m]\u001b[0m\u001b[1;33m,\u001b[0m \u001b[0me\u001b[0m\u001b[1;33m[\u001b[0m\u001b[1;36m1\u001b[0m\u001b[1;33m]\u001b[0m\u001b[1;33m,\u001b[0m \u001b[0me\u001b[0m\u001b[1;33m[\u001b[0m\u001b[1;36m2\u001b[0m\u001b[1;33m]\u001b[0m\u001b[1;33m,\u001b[0m \u001b[0me\u001b[0m\u001b[1;33m[\u001b[0m\u001b[1;36m3\u001b[0m\u001b[1;33m]\u001b[0m\u001b[1;33m,\u001b[0m \u001b[0mbelow_dead_volume_text\u001b[0m\u001b[1;33m)\u001b[0m\u001b[1;33m\u001b[0m\u001b[1;33m\u001b[0m\u001b[0m\n\u001b[0;32m    194\u001b[0m             \u001b[0merror_csv_text\u001b[0m \u001b[1;33m+=\u001b[0m \u001b[1;34m\"{},{},{},{}\\n\"\u001b[0m\u001b[1;33m.\u001b[0m\u001b[0mformat\u001b[0m\u001b[1;33m(\u001b[0m\u001b[0me\u001b[0m\u001b[1;33m[\u001b[0m\u001b[1;36m0\u001b[0m\u001b[1;33m]\u001b[0m\u001b[1;33m,\u001b[0m \u001b[0me\u001b[0m\u001b[1;33m[\u001b[0m\u001b[1;36m2\u001b[0m\u001b[1;33m]\u001b[0m\u001b[1;33m,\u001b[0m \u001b[0me\u001b[0m\u001b[1;33m[\u001b[0m\u001b[1;36m3\u001b[0m\u001b[1;33m]\u001b[0m\u001b[1;33m,\u001b[0m \u001b[0mextra_volume_to_add\u001b[0m\u001b[1;33m)\u001b[0m\u001b[1;33m\u001b[0m\u001b[1;33m\u001b[0m\u001b[0m\n\u001b[1;32m--> 195\u001b[1;33m         \u001b[1;32mraise\u001b[0m \u001b[0m_BMS\u001b[0m\u001b[1;33m.\u001b[0m\u001b[0mOutOFSourceMaterial\u001b[0m\u001b[1;33m(\u001b[0m\u001b[0merror_text\u001b[0m \u001b[1;33m+\u001b[0m \u001b[0merror_csv_text\u001b[0m\u001b[1;33m)\u001b[0m\u001b[1;33m\u001b[0m\u001b[1;33m\u001b[0m\u001b[0m\n\u001b[0m\u001b[0;32m    196\u001b[0m \u001b[1;33m\u001b[0m\u001b[0m\n\u001b[0;32m    197\u001b[0m     \u001b[1;31m###########################\u001b[0m\u001b[1;33m\u001b[0m\u001b[1;33m\u001b[0m\u001b[0m\n",
      "\u001b[1;31mOutOFSourceMaterial\u001b[0m: \nNot enough volume of Yellow. 2.0 uL more is required. Last well checked was A3 of DNA_Source_Plate. This well is also 5.0 uL below the dead volume.\n\n\nName,Well,Plate,Volume Needed\nYellow,A3,DNA_Source_Plate,7.0\n"
     ]
    }
   ],
   "source": [
    "EchoProto.Generate_Actions(Protocol)"
   ]
  },
  {
   "cell_type": "markdown",
   "id": "92af3f18",
   "metadata": {},
   "source": [
    "As can be seen above, the \"Yellow\" liquid does not have enough volume to complete the protocol. The error message indicates that 7 uL more is required. This volume is determined by calclating how much more liquid is required to ensure the reagent is above the dead volume (in this case, 5 uL), and the adding the amount of liquid required by the protocol (in this case, an extra 2 uL). This extra volume is added below"
   ]
  },
  {
   "cell_type": "code",
   "execution_count": 16,
   "id": "b0e3a4d2",
   "metadata": {},
   "outputs": [],
   "source": [
    "Current_Yellow_Volume = Coloured_Water_Source_Layout.get_volume_of_liquid_in_well(\"Yellow\", \"A3\")\n",
    "\n",
    "Coloured_Water_Source_Layout.update_volume_in_well(\n",
    "    Well = \"A3\",\n",
    "    Reagent = \"Yellow\",\n",
    "    Volume = Current_Yellow_Volume + 7\n",
    ")"
   ]
  },
  {
   "cell_type": "markdown",
   "id": "7301eaee",
   "metadata": {},
   "source": [
    "Once all source material has been validated, the `Generate_Actions` function will determine the required liquid transfer events required to complete the protocol. The liquid transfer events are captured by `TransferList` objects, where each `TransferList` defines transfer events from one source plate. These are stored in the `EchoProto.Protocol` object using the `transfer_lists` attribute"
   ]
  },
  {
   "cell_type": "code",
   "execution_count": 17,
   "id": "9cdb13fc",
   "metadata": {},
   "outputs": [
    {
     "name": "stdout",
     "output_type": "stream",
     "text": [
      "[[<BiomationScripter.EchoProto.TransferList object at 0x00000284B6C996A0>]]\n"
     ]
    }
   ],
   "source": [
    "EchoProto.Generate_Actions(Protocol)\n",
    "print(Protocol.transfer_lists)"
   ]
  },
  {
   "cell_type": "markdown",
   "id": "fc093add",
   "metadata": {},
   "source": [
    "Following the creation of the Transfer Lists, the `Write_Picklists` function can be used to convert the `EchoProto.Protocol` object to a set of CSV picklist files. The `Write_Picklists` function takes three arguments. The first is the `Protocol` object to converted. The second is the location where the picklists should be saved. The third, `merge`, determined whether a picklist should be created for each source plate, or each source plate type. By default, `merge` is set to `False` and a separate picklist is created for every source plate, if there is more than one."
   ]
  },
  {
   "cell_type": "code",
   "execution_count": 18,
   "id": "b3fca2f5",
   "metadata": {},
   "outputs": [
    {
     "name": "stdout",
     "output_type": "stream",
     "text": [
      "[[<BiomationScripter.EchoProto.TransferList object at 0x00000284B6C996A0>]]\n",
      "/Example Protocol-384PP-(DNA_Source_Plate).csv\n"
     ]
    }
   ],
   "source": [
    "EchoProto.Write_Picklists(\n",
    "    Protocol = Protocol,\n",
    "    Save_Location = \"\",\n",
    "    Merge = False\n",
    ")"
   ]
  },
  {
   "cell_type": "markdown",
   "id": "9763aa49",
   "metadata": {},
   "source": [
    "The generated picklist can be seen [here](Example%20Protocol-384PP-(DNA_Source_Plate).csv)"
   ]
  },
  {
   "cell_type": "code",
   "execution_count": null,
   "id": "c73ca023",
   "metadata": {},
   "outputs": [],
   "source": []
  }
 ],
 "metadata": {
  "kernelspec": {
   "display_name": "Python 3 (ipykernel)",
   "language": "python",
   "name": "python3"
  },
  "language_info": {
   "codemirror_mode": {
    "name": "ipython",
    "version": 3
   },
   "file_extension": ".py",
   "mimetype": "text/x-python",
   "name": "python",
   "nbconvert_exporter": "python",
   "pygments_lexer": "ipython3",
   "version": "3.9.7"
  }
 },
 "nbformat": 4,
 "nbformat_minor": 5
}
