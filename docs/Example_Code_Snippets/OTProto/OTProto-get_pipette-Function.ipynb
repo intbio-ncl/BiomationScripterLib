{
 "cells": [
  {
   "cell_type": "markdown",
   "metadata": {},
   "source": [
    "# `BMS.OTProto.get_pipette` Example"
   ]
  },
  {
   "cell_type": "markdown",
   "metadata": {},
   "source": [
    "This function can be used to check if a pipette type is currently loaded. If the pipette is loaded, then the [`opentrons.protocol_api.contexts.InstrumentContext`](https://docs.opentrons.com/v2/new_protocol_api.html#opentrons.protocol_api.contexts.InstrumentContext) object is returned. If the pipette is not loaded, then `None` is returned.\n",
    "\n",
    "The [`opentrons.protocol_api.contexts.InstrumentContext`](https://docs.opentrons.com/v2/new_protocol_api.html#opentrons.protocol_api.contexts.InstrumentContext) object can be used with native Opentrons methods to transfer liquid etc.. It is also used to assign tipboxes and starting tip positions."
   ]
  },
  {
   "cell_type": "code",
   "execution_count": 1,
   "metadata": {},
   "outputs": [],
   "source": [
    "from BiomationScripter import OTProto\n",
    "# This code is used to create an opentrons protocol object required for this function\n",
    "\n",
    "from opentrons import simulate as OT2 # This line simulates the protocol\n",
    "# Get the correct api version\n",
    "protocol = OT2.get_protocol_api('2.11')\n",
    "# Home the pipetting head\n",
    "protocol.home()"
   ]
  },
  {
   "cell_type": "markdown",
   "metadata": {},
   "source": [
    "`OTProto.get_pipette()` takes two arguments.\n",
    "\n",
    "The first argument is the top-level [`opentrons.protocol_api.contexts.ProtocolContext`](https://docs.opentrons.com/v2/new_protocol_api.html#opentrons.protocol_api.contexts.ProtocolContext) object. This is either passed to the Opentrons' `run()` function:\n",
    "```python\n",
    "def run(protocol):\n",
    "    # Code Here\n",
    "```\n",
    "\n",
    "Or it is loaded during simulation by\n",
    "```python\n",
    "protocol = OT2.get_protocol_api('2.11')\n",
    "```\n",
    "\n",
    "For OTProto templates, it is stored using the `self._protocol` attribute."
   ]
  },
  {
   "cell_type": "markdown",
   "metadata": {},
   "source": [
    "The second argument is the type of pipette which should be checked and returned. Currently, `get_pipette` supports getting single channel pipettes using the keyword `\"p20\"`, `\"p300\"`, and `\"p1000\"`."
   ]
  },
  {
   "cell_type": "code",
   "execution_count": 2,
   "metadata": {},
   "outputs": [
    {
     "name": "stdout",
     "output_type": "stream",
     "text": [
      "None\n"
     ]
    }
   ],
   "source": [
    "# When no pipette has been loaded, `None` is returned\n",
    "p20 = OTProto.get_pipette(\n",
    "            Protocol = protocol,\n",
    "            Pipette = \"p20\"\n",
    ")\n",
    "print(p20)"
   ]
  },
  {
   "cell_type": "markdown",
   "metadata": {},
   "source": [
    "Pipettes can be loaded using the native opentrons [`opentrons.protocol_api.contexts.ProtocolContext.load_instrument`](https://docs.opentrons.com/v2/new_protocol_api.html#opentrons.protocol_api.contexts.ProtocolContext.load_instrument) function, or the BiomationScripter [`OTProto.load_pipettes_and_tips`]() function, which calculate the number of tip boxes required and load them, and assign the starting tip at the same time. [OTProto templates]() also have several methods which can load pipettes.\n",
    "\n",
    "Here, the native Opentrons function is used:"
   ]
  },
  {
   "cell_type": "code",
   "execution_count": 3,
   "metadata": {},
   "outputs": [],
   "source": [
    "pipette = protocol.load_instrument(\"p20_single_gen2\", \"left\")"
   ]
  },
  {
   "cell_type": "code",
   "execution_count": 4,
   "metadata": {},
   "outputs": [
    {
     "name": "stdout",
     "output_type": "stream",
     "text": [
      "P20 Single-Channel GEN2 on left mount\n"
     ]
    }
   ],
   "source": [
    "p20 = OTProto.get_pipette(\n",
    "            Protocol = protocol,\n",
    "            Pipette = \"p20\"\n",
    ")\n",
    "print(p20)"
   ]
  }
 ],
 "metadata": {
  "kernelspec": {
   "display_name": "Python 3",
   "language": "python",
   "name": "python3"
  },
  "language_info": {
   "codemirror_mode": {
    "name": "ipython",
    "version": 3
   },
   "file_extension": ".py",
   "mimetype": "text/x-python",
   "name": "python",
   "nbconvert_exporter": "python",
   "pygments_lexer": "ipython3",
   "version": "3.7.3"
  }
 },
 "nbformat": 4,
 "nbformat_minor": 2
}
