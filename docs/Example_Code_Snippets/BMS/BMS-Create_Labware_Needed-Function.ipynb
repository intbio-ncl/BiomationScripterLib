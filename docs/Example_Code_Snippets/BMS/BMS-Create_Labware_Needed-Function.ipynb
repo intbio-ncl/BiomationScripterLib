{
 "cells": [
  {
   "cell_type": "markdown",
   "id": "b48292f1",
   "metadata": {},
   "source": [
    "# `BMS.Create_Labware_Needed()` Function"
   ]
  },
  {
   "cell_type": "markdown",
   "id": "9d216807",
   "metadata": {},
   "source": [
    "This function can be used to calculate how many of a certain labware is needed based on the number of wells required, and create them as [`BMS.Labware_Layout`](../../BiomationScripter.md#class-labware_layout) objects. This can be useful when writing automation protocols where the number of wells required varies based on user inputs."
   ]
  },
  {
   "cell_type": "markdown",
   "id": "9f96c8d8",
   "metadata": {},
   "source": [
    "## Usage"
   ]
  },
  {
   "cell_type": "markdown",
   "id": "6f0e9f94",
   "metadata": {},
   "source": [
    "First, the BMS generic tools module is imported as BMS"
   ]
  },
  {
   "cell_type": "code",
   "execution_count": 1,
   "id": "6bdb6729",
   "metadata": {},
   "outputs": [],
   "source": [
    "import BiomationScripter as BMS"
   ]
  },
  {
   "cell_type": "markdown",
   "id": "4ee3a599",
   "metadata": {},
   "source": [
    "In this example, the `BMS.Create_Labware_Needed` function will be used to caclulate the number of 96 well PCR plates required based on the number of PCR reactions to be prepared. These plates will then be generated as [`BMS.Labware_Layout`](../../BiomationScripter.md#class-labware_layout) objects."
   ]
  },
  {
   "cell_type": "markdown",
   "id": "d73353f6",
   "metadata": {},
   "source": [
    "First, the number of PCR reactions is defined"
   ]
  },
  {
   "cell_type": "code",
   "execution_count": 2,
   "id": "016585c4",
   "metadata": {},
   "outputs": [],
   "source": [
    "Number_Of_PCR_Reactions = 234"
   ]
  },
  {
   "cell_type": "markdown",
   "id": "95375247",
   "metadata": {},
   "source": [
    "Next, the PCR plate should be defined using the [`BMS.Labware_Layout`](../../BiomationScripter.md#class-labware_layout) class"
   ]
  },
  {
   "cell_type": "code",
   "execution_count": 3,
   "id": "918fc48a",
   "metadata": {},
   "outputs": [
    {
     "name": "stdout",
     "output_type": "stream",
     "text": [
      "<BiomationScripter.Labware_Layout object at 0x00000261FB02B3D0>\n"
     ]
    }
   ],
   "source": [
    "PCR_Plate = BMS.Labware_Layout(\n",
    "    Name = \"PCR Plate\",\n",
    "    Type = \"96 Well Plate\"\n",
    ")\n",
    "\n",
    "PCR_Plate.define_format(\n",
    "    Rows = 8,\n",
    "    Columns = 12\n",
    ")\n",
    "print(PCR_Plate)"
   ]
  },
  {
   "cell_type": "markdown",
   "id": "eeb9b71a",
   "metadata": {},
   "source": [
    "Finally, the number of wells available in the PCR plate should be defined. By default, this is set to `\"All\"`, which specifies that all wells in the `Labware_Layout` are available for use."
   ]
  },
  {
   "cell_type": "code",
   "execution_count": 4,
   "id": "86409b4b",
   "metadata": {},
   "outputs": [],
   "source": [
    "Wells_Available = \"All\"\n",
    "# This could also be an int, which is useful when the `Labware_Layout` has no format defined\n",
    "# Wells_Available = 96"
   ]
  },
  {
   "cell_type": "markdown",
   "id": "20d23c80",
   "metadata": {},
   "source": [
    "Finally, the `BMS.Create_Labware_Needed` function can be used to calculate the number of PCR plates required, and return them as [`BMS.Labware_Layout`](../../BiomationScripter.md#class-labware_layout) objects."
   ]
  },
  {
   "cell_type": "code",
   "execution_count": 5,
   "id": "9e390e63",
   "metadata": {},
   "outputs": [],
   "source": [
    "PCR_Plate_Layouts = BMS.Create_Labware_Needed(\n",
    "    Labware_Format = PCR_Plate,\n",
    "    N_Wells_Needed = Number_Of_PCR_Reactions,\n",
    "    N_Wells_Available = Wells_Available\n",
    ")"
   ]
  },
  {
   "cell_type": "markdown",
   "id": "c8d3e131",
   "metadata": {},
   "source": [
    "As can be seen below, three `Labware_Layout` objects were created and returned."
   ]
  },
  {
   "cell_type": "code",
   "execution_count": 6,
   "id": "a3430abc",
   "metadata": {},
   "outputs": [
    {
     "name": "stdout",
     "output_type": "stream",
     "text": [
      "[<BiomationScripter.Labware_Layout object at 0x00000261FB02B3D0>, <BiomationScripter.Labware_Layout object at 0x00000261FCE79E20>, <BiomationScripter.Labware_Layout object at 0x00000261FCE792B0>]\n"
     ]
    }
   ],
   "source": [
    "print(PCR_Plate_Layouts)"
   ]
  },
  {
   "cell_type": "markdown",
   "id": "4670e40f",
   "metadata": {},
   "source": [
    "It is possible to define whether or not the `Labware_Layout` used as the template (specified using the `Labware_Format` argument) is included in the list of `Labware_Layout` objects returned. By default, it is. Below it is shown how to specify that the template layout should not be returned"
   ]
  },
  {
   "cell_type": "code",
   "execution_count": 7,
   "id": "4ad316b2",
   "metadata": {},
   "outputs": [
    {
     "name": "stdout",
     "output_type": "stream",
     "text": [
      "[<BiomationScripter.Labware_Layout object at 0x00000261FCE79A30>, <BiomationScripter.Labware_Layout object at 0x00000261FCE79790>]\n"
     ]
    }
   ],
   "source": [
    "PCR_Plate_Layouts = BMS.Create_Labware_Needed(\n",
    "    Labware_Format = PCR_Plate,\n",
    "    N_Wells_Needed = Number_Of_PCR_Reactions,\n",
    "    N_Wells_Available = Wells_Available,\n",
    "    Return_Original_Layout = False\n",
    ")\n",
    "print(PCR_Plate_Layouts)"
   ]
  },
  {
   "cell_type": "markdown",
   "id": "e9debe5e",
   "metadata": {},
   "source": [
    "Changing the number of wells required changes the number of `Labware_Layout` objects returned"
   ]
  },
  {
   "cell_type": "code",
   "execution_count": 8,
   "id": "e2571515",
   "metadata": {},
   "outputs": [
    {
     "name": "stdout",
     "output_type": "stream",
     "text": [
      "[<BiomationScripter.Labware_Layout object at 0x00000261FB02B3D0>]\n"
     ]
    }
   ],
   "source": [
    "Number_Of_PCR_Reactions = 20\n",
    "PCR_Plate_Layouts = BMS.Create_Labware_Needed(\n",
    "    Labware_Format = PCR_Plate,\n",
    "    N_Wells_Needed = Number_Of_PCR_Reactions,\n",
    "    N_Wells_Available = Wells_Available,\n",
    "    Return_Original_Layout = True\n",
    ")\n",
    "print(PCR_Plate_Layouts)"
   ]
  },
  {
   "cell_type": "markdown",
   "id": "2d2441b5",
   "metadata": {},
   "source": [
    "In the case above, the original `Labware_Layout` object is simply returned"
   ]
  },
  {
   "cell_type": "code",
   "execution_count": 9,
   "id": "3b0793df",
   "metadata": {},
   "outputs": [
    {
     "data": {
      "text/plain": [
       "True"
      ]
     },
     "execution_count": 9,
     "metadata": {},
     "output_type": "execute_result"
    }
   ],
   "source": [
    "PCR_Plate_Layouts[0] == PCR_Plate"
   ]
  }
 ],
 "metadata": {
  "kernelspec": {
   "display_name": "Python 3 (ipykernel)",
   "language": "python",
   "name": "python3"
  },
  "language_info": {
   "codemirror_mode": {
    "name": "ipython",
    "version": 3
   },
   "file_extension": ".py",
   "mimetype": "text/x-python",
   "name": "python",
   "nbconvert_exporter": "python",
   "pygments_lexer": "ipython3",
   "version": "3.9.7"
  }
 },
 "nbformat": 4,
 "nbformat_minor": 5
}
