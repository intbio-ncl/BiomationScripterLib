{
 "cells": [
  {
   "cell_type": "markdown",
   "id": "114e414c",
   "metadata": {},
   "source": [
    "# `BMS.serial_dilution_volumes()` Function"
   ]
  },
  {
   "cell_type": "markdown",
   "id": "35c1e52b",
   "metadata": {},
   "source": [
    "This function can be helpful when writing protocols with a serial dilution step. By defining the serial dilution steps and the final volume for each dilution, the `BMS.serial_dilution_volumes` function can calculate the volume of sample and solution required at each step."
   ]
  },
  {
   "cell_type": "markdown",
   "id": "e603281f",
   "metadata": {},
   "source": [
    "# Usage"
   ]
  },
  {
   "cell_type": "markdown",
   "id": "1a8e392b",
   "metadata": {},
   "source": [
    "First, the BMS generic tools module is imported as BMS"
   ]
  },
  {
   "cell_type": "code",
   "execution_count": 1,
   "id": "515a74b6",
   "metadata": {},
   "outputs": [],
   "source": [
    "import BiomationScripter as BMS"
   ]
  },
  {
   "cell_type": "markdown",
   "id": "cb0d3cdd",
   "metadata": {},
   "source": [
    "Next, the dilution factors for the serial dilution should be specified. The example below shows a 1 in 2 serial dilution with 5 steps, plus an undiluted step"
   ]
  },
  {
   "cell_type": "code",
   "execution_count": 2,
   "id": "65c43547",
   "metadata": {},
   "outputs": [],
   "source": [
    "Dilution_Factors = [1, 2, 4, 8, 16, 32]"
   ]
  },
  {
   "cell_type": "markdown",
   "id": "a6e42576",
   "metadata": {},
   "source": [
    "Next, the final volume for each dilution should be specified in microlitres"
   ]
  },
  {
   "cell_type": "code",
   "execution_count": 3,
   "id": "06f996bc",
   "metadata": {},
   "outputs": [],
   "source": [
    "Final_Volume = 100"
   ]
  },
  {
   "cell_type": "markdown",
   "id": "a530cdfc",
   "metadata": {},
   "source": [
    "Finally, the `BMS.serial_dilution_volumes` function can be used to calculate and return the volumes of sample and solution required"
   ]
  },
  {
   "cell_type": "code",
   "execution_count": 4,
   "id": "0c73f95f",
   "metadata": {},
   "outputs": [
    {
     "name": "stdout",
     "output_type": "stream",
     "text": [
      "[100.0, 50.0, 50.0, 50.0, 50.0, 50.0]\n",
      "[0.0, 50.0, 50.0, 50.0, 50.0, 50.0]\n"
     ]
    }
   ],
   "source": [
    "Sample_Volumes, Solution_Volumes = BMS.serial_dilution_volumes(\n",
    "    dilution_factors = Dilution_Factors,\n",
    "    total_volume= Final_Volume\n",
    ")\n",
    "print(Sample_Volumes)\n",
    "print(Solution_Volumes)"
   ]
  },
  {
   "cell_type": "markdown",
   "id": "a9ef1828",
   "metadata": {},
   "source": [
    "The order of the volumes in each list above are determined by the order of the dilution factors used as the input"
   ]
  },
  {
   "cell_type": "markdown",
   "id": "98918d4f",
   "metadata": {},
   "source": [
    "It is also possible to define irregular serial dilutions"
   ]
  },
  {
   "cell_type": "code",
   "execution_count": 5,
   "id": "1fde8a0d",
   "metadata": {},
   "outputs": [],
   "source": [
    "Dilution_Factors = [1, 2, 10, 50, 75, 100, 200]\n",
    "Final_Volume = 100"
   ]
  },
  {
   "cell_type": "code",
   "execution_count": 6,
   "id": "503d4a0b",
   "metadata": {},
   "outputs": [
    {
     "name": "stdout",
     "output_type": "stream",
     "text": [
      "[100.0, 50.0, 20.0, 20.0, 66.66666666666666, 75.0, 50.0]\n",
      "[0.0, 50.0, 80.0, 80.0, 33.33333333333334, 25.0, 50.0]\n"
     ]
    }
   ],
   "source": [
    "Sample_Volumes, Solution_Volumes = BMS.serial_dilution_volumes(\n",
    "    dilution_factors = Dilution_Factors,\n",
    "    total_volume= Final_Volume\n",
    ")\n",
    "print(Sample_Volumes)\n",
    "print(Solution_Volumes)"
   ]
  }
 ],
 "metadata": {
  "kernelspec": {
   "display_name": "Python 3 (ipykernel)",
   "language": "python",
   "name": "python3"
  },
  "language_info": {
   "codemirror_mode": {
    "name": "ipython",
    "version": 3
   },
   "file_extension": ".py",
   "mimetype": "text/x-python",
   "name": "python",
   "nbconvert_exporter": "python",
   "pygments_lexer": "ipython3",
   "version": "3.9.7"
  }
 },
 "nbformat": 4,
 "nbformat_minor": 5
}
