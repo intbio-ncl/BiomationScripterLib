{
 "cells": [
  {
   "cell_type": "markdown",
   "id": "f6449898",
   "metadata": {},
   "source": [
    "# `EchoProto_Template` Superclass"
   ]
  },
  {
   "cell_type": "markdown",
   "id": "84fb2de4",
   "metadata": {},
   "source": [
    "The `EchoProto_Template` class is a superclass intended to be used in the development of `EchoProto` templates. In BiomationScripter, Templates can be used to help code protocols which will be used often, but with different inputs or variables. For example, the Echo is commonly used to set up PCR reactions. The general steps for most PCR reactions are the same: add template DNA, a forward and reverse primer, polymerase and other reagents/buffers, and water. However, PCR protocols will differ in aspects such as the exact DNA templates, primers, polymerase and buffers used, and the final reaction volumes. In this case, an EchoProto Template can be set up for PCR reactions, where the main steps are encoded within the Template, but the exact transfer events vary based on user inputs.\n",
    "\n",
    "Below is an example of how the `EchoProto_Template` superclass can be used to write an EchoProto Template."
   ]
  },
  {
   "cell_type": "markdown",
   "id": "f2698abf",
   "metadata": {},
   "source": [
    "# Example Walkthrough"
   ]
  },
  {
   "cell_type": "markdown",
   "id": "5d53d7fb",
   "metadata": {},
   "source": [
    "In this example, an EchoProto Template for mixing coloured solutions is created. This exact requirements for this Template are listed below:\n",
    "* The Template will take a list of coloured solutions\n",
    "* In a destination plate, 2-colour mixtures will be prepared\n",
    "* The user should be able to define the final volume of each mixture\n",
    "* The user should be able to define the ratios in which the colours are mixed\n",
    "* The user should be able to define if the mixtures are permuations or combinations"
   ]
  },
  {
   "cell_type": "markdown",
   "id": "07b8c0b5",
   "metadata": {},
   "source": [
    "To begin, the `BMS` generic tools and `EchoProto` tools are imported"
   ]
  },
  {
   "cell_type": "code",
   "execution_count": 1,
   "id": "5d983a72",
   "metadata": {},
   "outputs": [],
   "source": [
    "import BiomationScripter as BMS\n",
    "from BiomationScripter import EchoProto"
   ]
  },
  {
   "cell_type": "markdown",
   "id": "d81791d2",
   "metadata": {},
   "source": [
    "Next, the initial `Colour_Mixing` Template can be defined. Templates are defined as a Python `class`, which extends the `EchoProto_Template` superclass:"
   ]
  },
  {
   "cell_type": "code",
   "execution_count": 2,
   "id": "17a90136",
   "metadata": {},
   "outputs": [],
   "source": [
    "class Colour_Mixing(EchoProto.EchoProto_Template):\n",
    "    def __init__(self):\n",
    "        pass # This is used to say \"do nothing\". It will be removed in the next step once we want our Template to do something.\n"
   ]
  },
  {
   "cell_type": "code",
   "execution_count": 3,
   "id": "967721a7",
   "metadata": {},
   "outputs": [
    {
     "name": "stdout",
     "output_type": "stream",
     "text": [
      "<__main__.Colour_Mixing object at 0x00000247FEB2D2B0>\n"
     ]
    }
   ],
   "source": [
    "Protocol = Colour_Mixing() # This creates the protocol using our Template class. At the moment, our Template does nothing.\n",
    "print(Protocol)"
   ]
  },
  {
   "cell_type": "markdown",
   "id": "c2478588",
   "metadata": {},
   "source": [
    "The `EchoProto_Template` superclass takes six arguments: `Name`, `Source_Plates`, `Destination_Plate_Layout`, `Picklist_Save_Directory`, `Metadata`, and `Merge`\n",
    "\n",
    "The `Name` argument is the name of the protocol and has no default value.\n",
    "\n",
    "The `Source_Plates` argument is a list of [`BMS.Labware_Layout`](../../BiomationScripter.md#class-labware_layout) objects which hold the required source material. It has no default value.\n",
    "\n",
    "The `Destination_Plate_Layout` argument is a [`BMS.Labware_Layout`](../../BiomationScripter.md#class-labware_layout) object. This is used to define the type and fomrat of the destination plate, and should have no content defined. There is no default value.\n",
    "\n",
    "The `Picklist_Save_Directory` argument defines where the Echo picklists will be saved. By default, the picklists will be saved in the current directory (`\".\"`).\n",
    "\n",
    "The `Metadata` argument takes the metadata dictionary discussed [here](). By default, `Metadata = None`. For simplicity, we'll ignore this argument for now.\n",
    "\n",
    "The `Merge` argument is a `bool`. When `self.merge` is `True`, a picklist will be created for each source plate TYPE. When it is `False`, a picklist will be created for EVERY source plate.\n",
    "\n",
    "As a best practice, these arguments are included in the Template being written as keyword arguments. The code to include these arguments and pass them to the superclass is shown below."
   ]
  },
  {
   "cell_type": "code",
   "execution_count": 4,
   "id": "6ec4d94f",
   "metadata": {},
   "outputs": [],
   "source": [
    "class Colour_Mixing(EchoProto.EchoProto_Template):\n",
    "    def __init__(\n",
    "        self,\n",
    "        **kwargs # This will make the superclass arguments available to `Colour_Mixing` as keyword arguments\n",
    "    ):\n",
    "        super().__init__(**kwargs) # This passes the keyword arguments to the superclass\n"
   ]
  },
  {
   "cell_type": "markdown",
   "id": "f90ea858",
   "metadata": {},
   "source": [
    "The `Name`, `Source_Plates`, `Destination_Plate_Layout`, and `Picklist_Save_Directory` arguments we just defined are available as attributes, which are defined by the superclass.\n",
    "\n",
    "For more information on creating/importing [`BMS.Labware_Layout`](../../BiomationScripter.md#class-labware_layout) objects, see [here](../../BiomationScripter.md#class-labware_layout) and [here](../../BiomationScripter.md#function-import_labware_layout)."
   ]
  },
  {
   "cell_type": "code",
   "execution_count": 5,
   "id": "3bbaced9",
   "metadata": {},
   "outputs": [],
   "source": [
    "Colour_Source_Plates = [BMS.Import_Labware_Layout(\"Coloured_Solutions\", path = \"../../../Resources/For docs/Labware_Layout_Files/\")]\n",
    "Mixture_Plate_Layout = BMS.Labware_Layout(\"Mixture Plate\", \"384 OptiAmp Plate\")\n",
    "Mixture_Plate_Layout.define_format(16,24)"
   ]
  },
  {
   "cell_type": "code",
   "execution_count": 6,
   "id": "a118eb91",
   "metadata": {},
   "outputs": [
    {
     "name": "stdout",
     "output_type": "stream",
     "text": [
      "<__main__.Colour_Mixing object at 0x00000247FEB2DBB0>\n",
      "name: Walkthrough Example - Colour Mixing\n",
      "source plates: [<BiomationScripter.Labware_Layout object at 0x00000247FEB2D100>]\n",
      "destination plates: [<BiomationScripter.Labware_Layout object at 0x0000024781136E20>]\n",
      "save directory: ./Resources/\n"
     ]
    }
   ],
   "source": [
    "Protocol = Colour_Mixing(\n",
    "    Name = \"Walkthrough Example - Colour Mixing\",\n",
    "    Source_Plates = Colour_Source_Plates,\n",
    "    Destination_Plate_Layout = Mixture_Plate_Layout,\n",
    "    Picklist_Save_Directory = \"./Resources/\"\n",
    ")\n",
    "print(Protocol)\n",
    "\n",
    "print(\"name:\", Protocol.name)\n",
    "print(\"source plates:\", Protocol.source_plate_layouts)\n",
    "print(\"destination plates:\", Protocol.destination_plate_layouts)\n",
    "print(\"save directory:\", Protocol.save_dir)"
   ]
  },
  {
   "cell_type": "markdown",
   "id": "b60ea8bf",
   "metadata": {},
   "source": [
    "The superclass also sets up three other attributes, which are common to all Echo Templates. These are shown below."
   ]
  },
  {
   "cell_type": "markdown",
   "id": "273653da",
   "metadata": {},
   "source": [
    "`_protocol` stores an [`EchoProto.Protocol`](../../EchoProto.md#class-protocol) object, which captures all information about the Echo protocol, and is used to generate the picklists"
   ]
  },
  {
   "cell_type": "code",
   "execution_count": 7,
   "id": "2eb29c72",
   "metadata": {},
   "outputs": [
    {
     "name": "stdout",
     "output_type": "stream",
     "text": [
      "<BiomationScripter.EchoProto.Protocol object at 0x0000024781757C70>\n"
     ]
    }
   ],
   "source": [
    "print(Protocol._protocol)"
   ]
  },
  {
   "cell_type": "markdown",
   "id": "bb58959e",
   "metadata": {},
   "source": [
    "`source_plate_layouts` and `destination_plate_layouts` are instantiated as empty lists, which will eventually hold [`BMS.Labware_Layout`](../../BiomationScripter.md#class-labware_layout) objects."
   ]
  },
  {
   "cell_type": "code",
   "execution_count": 8,
   "id": "d6988111",
   "metadata": {},
   "outputs": [
    {
     "name": "stdout",
     "output_type": "stream",
     "text": [
      "[<BiomationScripter.Labware_Layout object at 0x00000247FEB2D100>]\n",
      "[<BiomationScripter.Labware_Layout object at 0x0000024781136E20>]\n"
     ]
    }
   ],
   "source": [
    "print(Protocol.source_plate_layouts)\n",
    "print(Protocol.destination_plate_layouts)"
   ]
  },
  {
   "cell_type": "markdown",
   "id": "77761179",
   "metadata": {},
   "source": [
    "For our `Colour_Mixing` Echo Template, based on the requirements defined above, we need four extra arguments. These are:\n",
    "* `Source_Colours`: a list of strings defining the names of the colour source solutions\n",
    "* `Final_Volume`: the final volume, in microlitres, of the coloured mixtures\n",
    "* `Mixing_Ratios`: a list of strings which define the ratio of source colours which make up the final mixtures, e.g. [\"1:1\", \"2:1\", \"1:2\"]\n",
    "* `Permutations`: a boolean (True/False) defining whether the full permutations of colours should be mixed. We'll give this a default value of `False`\n",
    "\n",
    "These arguments are added to our Template class below. We'll also add some attributes to store the values of these arguments."
   ]
  },
  {
   "cell_type": "code",
   "execution_count": 9,
   "id": "1fcde583",
   "metadata": {},
   "outputs": [],
   "source": [
    "class Colour_Mixing(EchoProto.EchoProto_Template):\n",
    "    def __init__(\n",
    "        self,\n",
    "        Source_Colours,\n",
    "        Final_Volume,\n",
    "        Mixing_Ratios,\n",
    "        Permutations = False,\n",
    "        **kwargs # This will make the superclass arguments available to `Colour_Mixing` as keyword arguments\n",
    "    ):\n",
    "        super().__init__(**kwargs) # This passes the keyword arguments to the superclass\n",
    "        \n",
    "        #######################\n",
    "        # User Defined Values #\n",
    "        #######################\n",
    "        self.source_colours = Source_Colours\n",
    "        self.final_volume = Final_Volume # uL\n",
    "        self.mixing_ratios = Mixing_Ratios\n",
    "        self.permutations = Permutations\n"
   ]
  },
  {
   "cell_type": "code",
   "execution_count": 10,
   "id": "3283313c",
   "metadata": {},
   "outputs": [],
   "source": [
    "Colour_Source_Plates = [BMS.Import_Labware_Layout(\"Coloured_Solutions\", path = \"../../../Resources/For docs/Labware_Layout_Files/\")]\n",
    "Mixture_Plate_Layout = BMS.Labware_Layout(\"Mixture Plate\", \"384 OptiAmp Plate\")\n",
    "Mixture_Plate_Layout.define_format(16,24)"
   ]
  },
  {
   "cell_type": "code",
   "execution_count": 11,
   "id": "b4421e31",
   "metadata": {},
   "outputs": [
    {
     "name": "stdout",
     "output_type": "stream",
     "text": [
      "<__main__.Colour_Mixing object at 0x0000024781743C10>\n",
      "name: Walkthrough Example - Colour Mixing\n",
      "source plates: [<BiomationScripter.Labware_Layout object at 0x0000024781743D90>]\n",
      "destination plates: [<BiomationScripter.Labware_Layout object at 0x0000024781735D30>]\n",
      "save directory: ./Resources/\n",
      "source colours: ['Red', 'Blue', 'Yellow']\n",
      "final volume: 2\n",
      "ratios: ['1:1', '1:9', '9:1']\n",
      "permutations?: False\n"
     ]
    }
   ],
   "source": [
    "Protocol = Colour_Mixing(\n",
    "    Name = \"Walkthrough Example - Colour Mixing\",\n",
    "    Source_Plates = Colour_Source_Plates,\n",
    "    Destination_Plate_Layout = Mixture_Plate_Layout,\n",
    "    Picklist_Save_Directory = \"./Resources/\",\n",
    "    Source_Colours = [\"Red\", \"Blue\", \"Yellow\"],\n",
    "    Final_Volume = 2,\n",
    "    Mixing_Ratios = [\"1:1\", \"1:9\", \"9:1\"],\n",
    "    Permutations = False\n",
    ")\n",
    "print(Protocol)\n",
    "print(\"name:\", Protocol.name)\n",
    "print(\"source plates:\", Protocol.source_plate_layouts)\n",
    "print(\"destination plates:\", Protocol.destination_plate_layouts)\n",
    "print(\"save directory:\", Protocol.save_dir)\n",
    "print(\"source colours:\", Protocol.source_colours)\n",
    "print(\"final volume:\", Protocol.final_volume)\n",
    "print(\"ratios:\", Protocol.mixing_ratios)\n",
    "print(\"permutations?:\", Protocol.permutations)"
   ]
  },
  {
   "cell_type": "markdown",
   "id": "eabc2d10",
   "metadata": {},
   "source": [
    "We now have the basis of our Template class, but it still doesn't really do anything. The next step is to add code which will set up the destination plate based on the basic functionality and user inputs.\n",
    "\n",
    "For EchoProto Templates, this code is contained within a `run` method. This is method is added to our class below."
   ]
  },
  {
   "cell_type": "code",
   "execution_count": 12,
   "id": "5b2a9df5",
   "metadata": {},
   "outputs": [],
   "source": [
    "class Colour_Mixing(EchoProto.EchoProto_Template):\n",
    "    def __init__(\n",
    "        self,\n",
    "        Source_Colours,\n",
    "        Final_Volume,\n",
    "        Mixing_Ratios,\n",
    "        Permutations = False,\n",
    "        **kwargs # This will make the superclass arguments available to `Colour_Mixing` as keyword arguments\n",
    "    ):\n",
    "        super().__init__(**kwargs) # This passes the keyword arguments to the superclass\n",
    "        \n",
    "        #######################\n",
    "        # User Defined Values #\n",
    "        #######################\n",
    "        self.source_colours = Source_Colours\n",
    "        self.final_volume = Final_Volume # uL\n",
    "        self.mixing_ratios = Mixing_Ratios,\n",
    "        self.permutations = Permutations\n",
    "\n",
    "    def run(self):\n",
    "        pass"
   ]
  },
  {
   "cell_type": "markdown",
   "id": "02c48735",
   "metadata": {},
   "source": [
    "We can now add our code into the `run` method. For the first step, we'll get a list of the different mixtures required, based on the user inputs"
   ]
  },
  {
   "cell_type": "code",
   "execution_count": 13,
   "id": "a8876179",
   "metadata": {},
   "outputs": [],
   "source": [
    "class Colour_Mixing(EchoProto.EchoProto_Template):\n",
    "    def __init__(\n",
    "        self,\n",
    "        Source_Colours,\n",
    "        Final_Volume,\n",
    "        Mixing_Ratios,\n",
    "        Permutations = False,\n",
    "        **kwargs # This will make the superclass arguments available to `Colour_Mixing` as keyword arguments\n",
    "    ):\n",
    "        super().__init__(**kwargs) # This passes the keyword arguments to the superclass\n",
    "        \n",
    "        #######################\n",
    "        # User Defined Values #\n",
    "        #######################\n",
    "        self.source_colours = Source_Colours\n",
    "        self.final_volume = Final_Volume # uL\n",
    "        self.mixing_ratios = Mixing_Ratios\n",
    "        self.permutations = Permutations\n",
    "\n",
    "    def run(self):\n",
    "        \n",
    "        # Set up an empty list in which the colour mixtures required will be added\n",
    "        Colour_Mixtures = []\n",
    "        \n",
    "        # Iterate through the list of source colours provided to create the list of mixtures.\n",
    "        for colour_1 in self.source_colours:\n",
    "            for colour_2 in self.source_colours:\n",
    "                # Ignore situations where colour_1 and colour_2 are the same\n",
    "                if colour_1 == colour_2:\n",
    "                    continue\n",
    "                # Unless permutations has been set to `True`, ignore situations where...\n",
    "                # ...the same colours have already been mixed, just in a different order\n",
    "                elif not self.permutations and [colour_2, colour_1] in Colour_Mixtures:\n",
    "                    continue\n",
    "                else:\n",
    "                    # Add the two colours to the list of mixtures to prepare\n",
    "                    Colour_Mixtures.append([colour_1, colour_2])\n",
    "        \n",
    "        # Here, we'll print to OUT all of the mixtures which will be prepared\n",
    "        for c in Colour_Mixtures:\n",
    "            print(c)"
   ]
  },
  {
   "cell_type": "markdown",
   "id": "2ea98b65",
   "metadata": {},
   "source": [
    "We can check the functionality of our code by calling the `run` method on the `Protocol` object"
   ]
  },
  {
   "cell_type": "code",
   "execution_count": 14,
   "id": "b8139dbf",
   "metadata": {},
   "outputs": [],
   "source": [
    "Colour_Source_Plates = [BMS.Import_Labware_Layout(\"Coloured_Solutions\", path = \"../../../Resources/For docs/Labware_Layout_Files/\")]\n",
    "Mixture_Plate_Layout = BMS.Labware_Layout(\"Mixture Plate\", \"384 OptiAmp Plate\")\n",
    "Mixture_Plate_Layout.define_format(16,24)"
   ]
  },
  {
   "cell_type": "code",
   "execution_count": 15,
   "id": "3e931e37",
   "metadata": {},
   "outputs": [
    {
     "name": "stdout",
     "output_type": "stream",
     "text": [
      "['Red', 'Blue']\n",
      "['Red', 'Yellow']\n",
      "['Blue', 'Yellow']\n"
     ]
    }
   ],
   "source": [
    "# When `Permutations` is False\n",
    "Protocol = Colour_Mixing(\n",
    "    Name = \"Walkthrough Example - Colour Mixing\",\n",
    "    Source_Plates = Colour_Source_Plates,\n",
    "    Destination_Plate_Layout = Mixture_Plate_Layout,\n",
    "    Picklist_Save_Directory = \"./Resources/\",\n",
    "    Source_Colours = [\"Red\", \"Blue\", \"Yellow\"],\n",
    "    Final_Volume = 2,\n",
    "    Mixing_Ratios = [\"1:1\", \"1:10\", \"10:1\"],\n",
    "    Permutations = False\n",
    ")\n",
    "\n",
    "Protocol.run()"
   ]
  },
  {
   "cell_type": "code",
   "execution_count": 16,
   "id": "92454cd0",
   "metadata": {},
   "outputs": [],
   "source": [
    "Colour_Source_Plates = [BMS.Import_Labware_Layout(\"Coloured_Solutions\", path = \"../../../Resources/For docs/Labware_Layout_Files/\")]\n",
    "Mixture_Plate_Layout = BMS.Labware_Layout(\"Mixture Plate\", \"384 OptiAmp Plate\")\n",
    "Mixture_Plate_Layout.define_format(16,24)"
   ]
  },
  {
   "cell_type": "code",
   "execution_count": 17,
   "id": "a808f3ea",
   "metadata": {},
   "outputs": [
    {
     "name": "stdout",
     "output_type": "stream",
     "text": [
      "['Red', 'Blue']\n",
      "['Red', 'Yellow']\n",
      "['Blue', 'Red']\n",
      "['Blue', 'Yellow']\n",
      "['Yellow', 'Red']\n",
      "['Yellow', 'Blue']\n"
     ]
    }
   ],
   "source": [
    "# When `Permutations` is True\n",
    "Protocol = Colour_Mixing(\n",
    "    Name = \"Walkthrough Example - Colour Mixing\",\n",
    "    Source_Plates = Colour_Source_Plates,\n",
    "    Destination_Plate_Layout = Mixture_Plate_Layout,\n",
    "    Picklist_Save_Directory = \"./Resources/\",\n",
    "    Source_Colours = [\"Red\", \"Blue\", \"Yellow\"],\n",
    "    Final_Volume = 2,\n",
    "    Mixing_Ratios = [\"1:1\", \"1:9\", \"9:1\"],\n",
    "    Permutations = True\n",
    ")\n",
    "\n",
    "Protocol.run()"
   ]
  },
  {
   "cell_type": "markdown",
   "id": "35e67676",
   "metadata": {},
   "source": [
    "Next, we'll add in code to set up the destination plate. If you're not sure how [`BMS.Labware_Layout`](../../BiomationScripter.md#class-labware_layout) objects work, check the documentation."
   ]
  },
  {
   "cell_type": "code",
   "execution_count": 18,
   "id": "046e9ee9",
   "metadata": {},
   "outputs": [],
   "source": [
    "class Colour_Mixing(EchoProto.EchoProto_Template):\n",
    "    def __init__(\n",
    "        self,\n",
    "        Source_Colours,\n",
    "        Final_Volume,\n",
    "        Mixing_Ratios,\n",
    "        Permutations = False,\n",
    "        **kwargs # This will make the superclass arguments available to `Colour_Mixing` as keyword arguments\n",
    "    ):\n",
    "        super().__init__(**kwargs) # This passes the keyword arguments to the superclass\n",
    "        \n",
    "        #######################\n",
    "        # User Defined Values #\n",
    "        #######################\n",
    "        self.source_colours = Source_Colours\n",
    "        self.final_volume = Final_Volume # uL\n",
    "        self.mixing_ratios = Mixing_Ratios\n",
    "        self.permutations = Permutations\n",
    "\n",
    "    def run(self):\n",
    "        \n",
    "        # Set up an empty list in which the colour mixtures required will be added\n",
    "        Colour_Mixtures = []\n",
    "        \n",
    "        # Iterate through the list of source colours provided to create the list of mixtures.\n",
    "        for colour_1 in self.source_colours:\n",
    "            for colour_2 in self.source_colours:\n",
    "                # Ignore situations where colour_1 and colour_2 are the same\n",
    "                if colour_1 == colour_2:\n",
    "                    continue\n",
    "                # Unless permutations has been set to `True`, ignore situations where...\n",
    "                # ...the same colours have already been mixed, just in a different order\n",
    "                elif not self.permutations and [colour_2, colour_1] in Colour_Mixtures:\n",
    "                    continue\n",
    "                else:\n",
    "                    # Add the two colours to the list of mixtures to prepare\n",
    "                    Colour_Mixtures.append([colour_1, colour_2])\n",
    "        \n",
    "        # Here, we'll print to OUT all of the mixtures which will be prepared\n",
    "        for c in Colour_Mixtures:\n",
    "            print(c)\n",
    "            \n",
    "        # Determine how may different mixtures will be prepared\n",
    "        Number_Of_Mixtures = len(Colour_Mixtures) * len(self.mixing_ratios)\n",
    "        \n",
    "        # Use BMS.Create_Labware_Needed to ensure enough destination plates are available\n",
    "        Extra_Destination_Plates_Required = BMS.Create_Labware_Needed(\n",
    "            Labware_Format = self.destination_plate_layouts[0],\n",
    "            N_Wells_Needed = Number_Of_Mixtures,\n",
    "            N_Wells_Available = \"All\",\n",
    "            Return_Original_Layout = False\n",
    "        )\n",
    "        \n",
    "        # If any extra plates were created, add them using the `add_destination_layout` method defined by the superclass\n",
    "        for plate_layout in Extra_Destination_Plates_Required:\n",
    "            self.add_destination_layout(plate_layout)\n",
    "        \n",
    "        # Add content to the destination plate(s)\n",
    "        \n",
    "        # A counter is used to iterate through the destination plates (if more than one)\n",
    "        Destination_Plate_Index = 0\n",
    "        \n",
    "        for mixture in Colour_Mixtures:\n",
    "            # Get the current destination plate\n",
    "            Destination_Plate = self.destination_plate_layouts[Destination_Plate_Index]\n",
    "            \n",
    "            # Get the colours\n",
    "            colour_1 = mixture[0]\n",
    "            colour_2 = mixture[1]\n",
    "            \n",
    "            # For every ratio defined by the user\n",
    "            for ratio in self.mixing_ratios:\n",
    "                # Get the ratio for each colour\n",
    "                colour_1_ratio = float(ratio.split(\":\")[0])\n",
    "                colour_2_ratio = float(ratio.split(\":\")[1])\n",
    "                \n",
    "                # Get the volumes to add for each colour\n",
    "                colour_1_volume = (colour_1_ratio/(colour_1_ratio + colour_2_ratio)) * self.final_volume\n",
    "                colour_2_volume = (colour_2_ratio/(colour_1_ratio + colour_2_ratio)) * self.final_volume\n",
    "                \n",
    "                # Get the next empty well in the destination plate\n",
    "                well = Destination_Plate.get_next_empty_well()\n",
    "                # If there are no empty wells left, iterate to the next plate and try again\n",
    "                if not well:\n",
    "                    Destination_Plate_Index += 1\n",
    "                    Destination_Plate = self.destination_plate_layouts[Destination_Plate_Index]\n",
    "                    well = Destination_Plate.get_next_empty_well()\n",
    "                \n",
    "                # Add content to the plate\n",
    "                Destination_Plate.add_content(\n",
    "                    Well = well,\n",
    "                    Reagent = colour_1,\n",
    "                    Volume = colour_1_volume                    \n",
    "                )\n",
    "                Destination_Plate.add_content(\n",
    "                    Well = well,\n",
    "                    Reagent = colour_2,\n",
    "                    Volume = colour_2_volume                    \n",
    "                )"
   ]
  },
  {
   "cell_type": "code",
   "execution_count": 19,
   "id": "dc9b3d3b",
   "metadata": {},
   "outputs": [],
   "source": [
    "Colour_Source_Plates = [BMS.Import_Labware_Layout(\"Coloured_Solutions\", path = \"../../../Resources/For docs/Labware_Layout_Files/\")]\n",
    "Mixture_Plate_Layout = BMS.Labware_Layout(\"Mixture Plate\", \"384 OptiAmp Plate\")\n",
    "Mixture_Plate_Layout.define_format(16,24)"
   ]
  },
  {
   "cell_type": "code",
   "execution_count": 20,
   "id": "86d0f465",
   "metadata": {},
   "outputs": [
    {
     "name": "stdout",
     "output_type": "stream",
     "text": [
      "['Red', 'Blue']\n",
      "['Red', 'Yellow']\n",
      "['Blue', 'Yellow']\n"
     ]
    }
   ],
   "source": [
    "Protocol = Colour_Mixing(\n",
    "    Name = \"Walkthrough Example - Colour Mixing\",\n",
    "    Source_Plates = Colour_Source_Plates,\n",
    "    Destination_Plate_Layout = Mixture_Plate_Layout,\n",
    "    Picklist_Save_Directory = \"./Resources/\",\n",
    "    Source_Colours = [\"Red\", \"Blue\", \"Yellow\"],\n",
    "    Final_Volume = 2,\n",
    "    Mixing_Ratios = [\"1:1\", \"1:9\", \"9:1\"],\n",
    "    Permutations = False\n",
    ")\n",
    "Protocol.run()"
   ]
  },
  {
   "cell_type": "markdown",
   "id": "5431f99e",
   "metadata": {},
   "source": [
    "We can check the destination plate(s) to see what has been added to them"
   ]
  },
  {
   "cell_type": "code",
   "execution_count": 21,
   "id": "dbab0e2b",
   "metadata": {},
   "outputs": [
    {
     "name": "stdout",
     "output_type": "stream",
     "text": [
      "Information for Mixture Plate\n",
      "Plate Type: 384 OptiAmp Plate\n",
      "Well\tVolume(uL)\tLiquid Class\tReagent\n",
      "A1\t1.0\t\tUnknown\t\tRed\n",
      "A1\t1.0\t\tUnknown\t\tBlue\n",
      "A2\t0.2\t\tUnknown\t\tRed\n",
      "A2\t1.8\t\tUnknown\t\tBlue\n",
      "A3\t1.8\t\tUnknown\t\tRed\n",
      "A3\t0.2\t\tUnknown\t\tBlue\n",
      "A4\t1.0\t\tUnknown\t\tRed\n",
      "A4\t1.0\t\tUnknown\t\tYellow\n",
      "A5\t0.2\t\tUnknown\t\tRed\n",
      "A5\t1.8\t\tUnknown\t\tYellow\n",
      "A6\t1.8\t\tUnknown\t\tRed\n",
      "A6\t0.2\t\tUnknown\t\tYellow\n",
      "A7\t1.0\t\tUnknown\t\tBlue\n",
      "A7\t1.0\t\tUnknown\t\tYellow\n",
      "A8\t0.2\t\tUnknown\t\tBlue\n",
      "A8\t1.8\t\tUnknown\t\tYellow\n",
      "A9\t1.8\t\tUnknown\t\tBlue\n",
      "A9\t0.2\t\tUnknown\t\tYellow\n"
     ]
    }
   ],
   "source": [
    "for destination_plate_layout in Protocol.destination_plate_layouts:\n",
    "    destination_plate_layout.print()"
   ]
  },
  {
   "cell_type": "markdown",
   "id": "a0fabd96",
   "metadata": {},
   "source": [
    "The final step in making our template class is to generate the picklist files. Luckily, the `EchoProto_Template` superclass has a method which handles everything for us: the `create_picklists` method."
   ]
  },
  {
   "cell_type": "code",
   "execution_count": 22,
   "id": "b5ba7c8a",
   "metadata": {},
   "outputs": [],
   "source": [
    "class Colour_Mixing(EchoProto.EchoProto_Template):\n",
    "    def __init__(\n",
    "        self,\n",
    "        Source_Colours,\n",
    "        Final_Volume,\n",
    "        Mixing_Ratios,\n",
    "        Permutations = False,\n",
    "        Merge = True,\n",
    "        **kwargs # This will make the superclass arguments available to `Colour_Mixing` as keyword arguments\n",
    "    ):\n",
    "        super().__init__(**kwargs) # This passes the keyword arguments to the superclass\n",
    "        \n",
    "        #######################\n",
    "        # User Defined Values #\n",
    "        #######################\n",
    "        self.source_colours = Source_Colours\n",
    "        self.final_volume = Final_Volume # uL\n",
    "        self.mixing_ratios = Mixing_Ratios\n",
    "        self.permutations = Permutations\n",
    "        self.merge = Merge\n",
    "\n",
    "    def run(self):\n",
    "        \n",
    "        # Set up an empty list in which the colour mixtures required will be added\n",
    "        Colour_Mixtures = []\n",
    "        \n",
    "        # Iterate through the list of source colours provided to create the list of mixtures.\n",
    "        for colour_1 in self.source_colours:\n",
    "            for colour_2 in self.source_colours:\n",
    "                # Ignore situations where colour_1 and colour_2 are the same\n",
    "                if colour_1 == colour_2:\n",
    "                    continue\n",
    "                # Unless permutations has been set to `True`, ignore situations where...\n",
    "                # ...the same colours have already been mixed, just in a different order\n",
    "                elif not self.permutations and [colour_2, colour_1] in Colour_Mixtures:\n",
    "                    continue\n",
    "                else:\n",
    "                    # Add the two colours to the list of mixtures to prepare\n",
    "                    Colour_Mixtures.append([colour_1, colour_2])\n",
    "        \n",
    "        # Here, we'll print to OUT all of the mixtures which will be prepared\n",
    "        for c in Colour_Mixtures:\n",
    "            print(c)\n",
    "            \n",
    "        # Determine how may different mixtures will be prepared\n",
    "        Number_Of_Mixtures = len(Colour_Mixtures) * len(self.mixing_ratios)\n",
    "        \n",
    "        # Use BMS.Create_Labware_Needed to ensure enough destination plates are available\n",
    "        Extra_Destination_Plates_Required = BMS.Create_Labware_Needed(\n",
    "            Labware_Format = self.destination_plate_layouts[0],\n",
    "            N_Wells_Needed = Number_Of_Mixtures,\n",
    "            N_Wells_Available = \"All\",\n",
    "            Return_Original_Layout = False\n",
    "        )\n",
    "        \n",
    "        # If any extra plates were created, add them using the `add_destination_layout` method defined by the superclass\n",
    "        for plate_layout in Extra_Destination_Plates_Required:\n",
    "            self.add_destination_layout(plate_layout)\n",
    "        \n",
    "        # Add content to the destination plate(s)\n",
    "        \n",
    "        # A counter is used to iterate through the destination plates (if more than one)\n",
    "        Destination_Plate_Index = 0\n",
    "        \n",
    "        for mixture in Colour_Mixtures:\n",
    "            # Get the current destination plate\n",
    "            Destination_Plate = self.destination_plate_layouts[Destination_Plate_Index]\n",
    "            \n",
    "            # Get the colours\n",
    "            colour_1 = mixture[0]\n",
    "            colour_2 = mixture[1]\n",
    "            \n",
    "            # For every ratio defined by the user\n",
    "            for ratio in self.mixing_ratios:\n",
    "                # Get the ratio for each colour\n",
    "                colour_1_ratio = float(ratio.split(\":\")[0])\n",
    "                colour_2_ratio = float(ratio.split(\":\")[1])\n",
    "                \n",
    "                # Get the volumes to add for each colour\n",
    "                colour_1_volume = (colour_1_ratio/(colour_1_ratio + colour_2_ratio)) * self.final_volume\n",
    "                colour_2_volume = (colour_2_ratio/(colour_1_ratio + colour_2_ratio)) * self.final_volume\n",
    "                \n",
    "                # Get the next empty well in the destination plate\n",
    "                well = Destination_Plate.get_next_empty_well()\n",
    "                # If there are no empty wells left, iterate to the next plate and try again\n",
    "                if not well:\n",
    "                    Destination_Plate_Index += 1\n",
    "                    Destination_Plate = self.destination_plate_layouts[Destination_Plate_Index]\n",
    "                    well = Destination_Plate.get_next_empty_well()\n",
    "                \n",
    "                # Add content to the plate\n",
    "                Destination_Plate.add_content(\n",
    "                    Well = well,\n",
    "                    Reagent = colour_1,\n",
    "                    Volume = colour_1_volume                    \n",
    "                )\n",
    "                Destination_Plate.add_content(\n",
    "                    Well = well,\n",
    "                    Reagent = colour_2,\n",
    "                    Volume = colour_2_volume                    \n",
    "                )\n",
    "                \n",
    "        self.create_picklists()"
   ]
  },
  {
   "cell_type": "code",
   "execution_count": 23,
   "id": "32f3eeb9",
   "metadata": {},
   "outputs": [],
   "source": [
    "Colour_Source_Plates = [BMS.Import_Labware_Layout(\"Coloured_Solutions\", path = \"../../../Resources/For docs/Labware_Layout_Files/\")]\n",
    "Mixture_Plate_Layout = BMS.Labware_Layout(\"Mixture Plate\", \"384 OptiAmp Plate\")\n",
    "Mixture_Plate_Layout.define_format(16,24)"
   ]
  },
  {
   "cell_type": "code",
   "execution_count": 24,
   "id": "66fc9f59",
   "metadata": {},
   "outputs": [
    {
     "name": "stdout",
     "output_type": "stream",
     "text": [
      "['Red', 'Blue']\n",
      "['Red', 'Yellow']\n",
      "['Blue', 'Yellow']\n",
      "../../../Resources/For docs/Picklists/Walkthrough Example - Colour Mixing-384PP-(Coloured Solutions).csv\n"
     ]
    }
   ],
   "source": [
    "Protocol = Colour_Mixing(\n",
    "    Name = \"Walkthrough Example - Colour Mixing\",\n",
    "    Source_Plates = Colour_Source_Plates,\n",
    "    Destination_Plate_Layout = Mixture_Plate_Layout,\n",
    "    Picklist_Save_Directory = \"../../../Resources/For docs/Picklists\",\n",
    "    Source_Colours = [\"Red\", \"Blue\", \"Yellow\"],\n",
    "    Final_Volume = 2,\n",
    "    Mixing_Ratios = [\"1:1\", \"1:9\", \"9:1\"],\n",
    "    Permutations = False,\n",
    "    Merge = True\n",
    ")\n",
    "Protocol.run()"
   ]
  },
  {
   "cell_type": "markdown",
   "id": "c7688011",
   "metadata": {},
   "source": [
    "Custom made templates can be manually added to the \"BiomationScripter/BiomationScripter/EchoProto/Templates.py\" file. The only changes which need to be made are to change references to `BMS` to `_BMS`, and references to `EchoProto` to `_EchoProto`.\n",
    "\n",
    "The Template created here has already been added, so can be accessed by importing the `Templates` module from `EchoProto`"
   ]
  },
  {
   "cell_type": "code",
   "execution_count": 25,
   "id": "6906d883",
   "metadata": {},
   "outputs": [],
   "source": [
    "import BiomationScripter.EchoProto.Templates as Templates"
   ]
  },
  {
   "cell_type": "code",
   "execution_count": 26,
   "id": "ea43eeab",
   "metadata": {},
   "outputs": [],
   "source": [
    "Colour_Source_Plates = [BMS.Import_Labware_Layout(\"Coloured_Solutions\", path = \"../../../Resources/For docs/Labware_Layout_Files/\")]\n",
    "Mixture_Plate_Layout = BMS.Labware_Layout(\"Mixture Plate\", \"384 OptiAmp Plate\")\n",
    "Mixture_Plate_Layout.define_format(16,24)"
   ]
  },
  {
   "cell_type": "code",
   "execution_count": 27,
   "id": "89e242fd",
   "metadata": {},
   "outputs": [
    {
     "name": "stdout",
     "output_type": "stream",
     "text": [
      "['Red', 'Blue']\n",
      "['Red', 'Yellow']\n",
      "['Blue', 'Yellow']\n",
      "../../../Resources/For docs/Picklists/Walkthrough Example - Colour Mixing-384PP-(Coloured Solutions).csv\n"
     ]
    }
   ],
   "source": [
    "Protocol = Templates.Colour_Mixing(\n",
    "    Name = \"Walkthrough Example - Colour Mixing\",\n",
    "    Source_Plates = Colour_Source_Plates,\n",
    "    Destination_Plate_Layout = Mixture_Plate_Layout,\n",
    "    Picklist_Save_Directory = \"../../../Resources/For docs/Picklists\",\n",
    "    Source_Colours = [\"Red\", \"Blue\", \"Yellow\"],\n",
    "    Final_Volume = 2,\n",
    "    Mixing_Ratios = [\"1:1\", \"1:9\", \"9:1\"],\n",
    "    Permutations = False,\n",
    "    Merge = True\n",
    ")\n",
    "Protocol.run()"
   ]
  },
  {
   "cell_type": "markdown",
   "id": "08d4dbc2",
   "metadata": {},
   "source": [
    "## Preview Created Picklist"
   ]
  },
  {
   "cell_type": "code",
   "execution_count": 29,
   "id": "d9d392d4",
   "metadata": {},
   "outputs": [
    {
     "name": "stdout",
     "output_type": "stream",
     "text": [
      "UID,Source Plate Name,Source Plate Type,Source Well,Destination Plate Name,Destination Plate Type,Destination Well,Transfer Volume,Reagent\n",
      "0,Coloured Solutions,384PP_AQ_BP,A1,Mixture Plate,384 OptiAmp Plate,A1,1000,Red\n",
      "1,Coloured Solutions,384PP_AQ_BP,A1,Mixture Plate,384 OptiAmp Plate,A2,200,Red\n",
      "2,Coloured Solutions,384PP_AQ_BP,A1,Mixture Plate,384 OptiAmp Plate,A3,1800,Red\n",
      "3,Coloured Solutions,384PP_AQ_BP,A1,Mixture Plate,384 OptiAmp Plate,A4,1000,Red\n",
      "4,Coloured Solutions,384PP_AQ_BP,A1,Mixture Plate,384 OptiAmp Plate,A5,200,Red\n",
      "5,Coloured Solutions,384PP_AQ_BP,A1,Mixture Plate,384 OptiAmp Plate,A6,1800,Red\n",
      "6,Coloured Solutions,384PP_AQ_BP,A2,Mixture Plate,384 OptiAmp Plate,A1,1000,Blue\n",
      "7,Coloured Solutions,384PP_AQ_BP,A2,Mixture Plate,384 OptiAmp Plate,A2,1800,Blue\n",
      "8,Coloured Solutions,384PP_AQ_BP,A2,Mixture Plate,384 OptiAmp Plate,A3,200,Blue\n",
      "9,Coloured Solutions,384PP_AQ_BP,A2,Mixture Plate,384 OptiAmp Plate,A7,1000,Blue\n",
      "10,Coloured Solutions,384PP_AQ_BP,A2,Mixture Plate,384 OptiAmp Plate,A8,200,Blue\n",
      "11,Coloured Solutions,384PP_AQ_BP,A2,Mixture Plate,384 OptiAmp Plate,A9,1800,Blue\n",
      "12,Coloured Solutions,384PP_AQ_BP,A3,Mixture Plate,384 OptiAmp Plate,A4,1000,Yellow\n",
      "13,Coloured Solutions,384PP_AQ_BP,A3,Mixture Plate,384 OptiAmp Plate,A5,1800,Yellow\n",
      "14,Coloured Solutions,384PP_AQ_BP,A3,Mixture Plate,384 OptiAmp Plate,A6,200,Yellow\n",
      "15,Coloured Solutions,384PP_AQ_BP,A3,Mixture Plate,384 OptiAmp Plate,A7,1000,Yellow\n",
      "16,Coloured Solutions,384PP_AQ_BP,A3,Mixture Plate,384 OptiAmp Plate,A8,1800,Yellow\n",
      "17,Coloured Solutions,384PP_AQ_BP,A3,Mixture Plate,384 OptiAmp Plate,A9,200,Yellow\n",
      "\n"
     ]
    }
   ],
   "source": [
    "picklist = open(\"../../../Resources/For docs/Picklists/Walkthrough Example - Colour Mixing-384PP-(Coloured Solutions).csv\", \"r\")\n",
    "print(picklist.read())\n",
    "\n",
    "picklist.close()"
   ]
  },
  {
   "cell_type": "code",
   "execution_count": null,
   "id": "e22dfb99",
   "metadata": {},
   "outputs": [],
   "source": []
  }
 ],
 "metadata": {
  "kernelspec": {
   "display_name": "Python 3 (ipykernel)",
   "language": "python",
   "name": "python3"
  },
  "language_info": {
   "codemirror_mode": {
    "name": "ipython",
    "version": 3
   },
   "file_extension": ".py",
   "mimetype": "text/x-python",
   "name": "python",
   "nbconvert_exporter": "python",
   "pygments_lexer": "ipython3",
   "version": "3.9.7"
  }
 },
 "nbformat": 4,
 "nbformat_minor": 5
}
