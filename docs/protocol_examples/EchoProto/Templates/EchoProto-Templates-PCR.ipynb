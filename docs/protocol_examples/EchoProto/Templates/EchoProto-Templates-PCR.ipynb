{
 "cells": [
  {
   "cell_type": "markdown",
   "id": "e8d65013",
   "metadata": {},
   "source": [
    "# Using EchoProto Templates - `PCR` Example"
   ]
  },
  {
   "cell_type": "markdown",
   "id": "9c902919",
   "metadata": {},
   "source": [
    "BiomationScripter Templates can be used to help quickly and easily generate automation protocols for common experiments or procedures. Shown here is an example of how the `EchoProto.Templates.PCR` Template can be used to generate an automation protocol to prepare PCR reactions using the Echo.\n",
    "\n",
    "See the [documentation](https://biomationscripterlib.readthedocs.io/en/latest/EchoProto_Templates/#template-pcr) for a full details about the `PCR` Template"
   ]
  },
  {
   "cell_type": "markdown",
   "id": "5d7476e1",
   "metadata": {},
   "source": [
    "## Setting up"
   ]
  },
  {
   "cell_type": "markdown",
   "id": "d13d4c3f",
   "metadata": {},
   "source": [
    "The first step is to import the `EchoProto.Templates` module, along with the `BMS` module so that we have access to any generic tools that may be required."
   ]
  },
  {
   "cell_type": "code",
   "execution_count": 1,
   "id": "9a6476d6",
   "metadata": {},
   "outputs": [],
   "source": [
    "import BiomationScripter as BMS\n",
    "from BiomationScripter.EchoProto.Templates import PCR"
   ]
  },
  {
   "cell_type": "markdown",
   "id": "2091822a",
   "metadata": {},
   "source": [
    "Next, we need to define the general parameters and inputs required for any Echo Template (see [here](https://biomationscripterlib.readthedocs.io/en/latest/EchoProto_Templates/#superclass-echoproto_template)).\n",
    "\n",
    "For the source plates, we'll import some layouts which have already been defined. For more information on creating/importing [`BMS.Labware_Layout`](https://biomationscripterlib.readthedocs.io/en/latest/BiomationScripter/#class-labware_layout) objects, see [here](https://biomationscripterlib.readthedocs.io/en/latest/BiomationScripter/#class-labware_layout) and [here](https://biomationscripterlib.readthedocs.io/en/latest/BiomationScripter/#function-import_labware_layout)."
   ]
  },
  {
   "cell_type": "code",
   "execution_count": 2,
   "id": "96481766",
   "metadata": {},
   "outputs": [],
   "source": [
    "Protocol_Name = \"Unmerged Example PCR With MM\"\n",
    "\n",
    "metadata = {\n",
    "    \"Author\": \"First Last\",\n",
    "    \"Author Email\": \"author@email.com\",\n",
    "    \"User\": \"Your Name\",\n",
    "    \"User Email\": \"user@email.com\",\n",
    "    \"Source\": \"BiomationScripter v0.2.0.dev\",\n",
    "    \"Robot\": \"Echo525\"\n",
    "}\n",
    "\n",
    "Merge_Picklists = False # This merges source plates with the same TYPE into one picklist\n",
    "\n",
    "Picklist_Save_Directory = \"../../../../data/\"\n",
    "\n",
    "Source_Plate_Directory = \"../../../../data/\"\n",
    "Source_Plates = [\n",
    "    BMS.Import_Labware_Layout(\"Example DNA Stocks\", path = Source_Plate_Directory),\n",
    "    BMS.Import_Labware_Layout(\"Example Primer Stocks\", path = Source_Plate_Directory),\n",
    "    BMS.Import_Labware_Layout(\"Example Plasmid Stocks\", path = Source_Plate_Directory),\n",
    "    BMS.Import_Labware_Layout(\"Water and Buffer Plate\", path = Source_Plate_Directory),\n",
    "    BMS.Import_Labware_Layout(\"Reagents\", path = Source_Plate_Directory),\n",
    "]\n",
    "\n",
    "PCR_Plate_Layout = BMS.Labware_Layout(\"PCR Plate\", \"384 OptiAmp Plate\")\n",
    "PCR_Plate_Layout.define_format(16,24)\n",
    "PCR_Plate_Layout.set_available_wells()"
   ]
  },
  {
   "cell_type": "markdown",
   "id": "cc1649f6",
   "metadata": {},
   "source": [
    "The full list of arguments, with descriptors, can be found [here](https://biomationscripterlib.readthedocs.io/en/latest/EchoProto_Templates/#template-pcr)."
   ]
  },
  {
   "cell_type": "code",
   "execution_count": 3,
   "id": "aa9511d6",
   "metadata": {},
   "outputs": [],
   "source": [
    "Polymerase = \"Q5 Polymerase\"\n",
    "Polymerase_Buffer = None\n",
    "Buffer_Stock_Conc = None # x\n",
    "Master_Mix = \"Q5 Master Mix\"\n",
    "Master_Mix_Stock_Conc = 2 # x\n",
    "DNA_Amounts = [0.1, 0.5, 1] # uL\n",
    "\n",
    "Volume = 5\n",
    "Repeats = 1"
   ]
  },
  {
   "cell_type": "markdown",
   "id": "3b9b85e1",
   "metadata": {},
   "source": [
    "The next step is to define the PCR reactions. This is done in the format `(<TEMPLATE>, <PRIMER1>, <PRIMER2>)`"
   ]
  },
  {
   "cell_type": "code",
   "execution_count": 4,
   "id": "4138a79b",
   "metadata": {
    "scrolled": true
   },
   "outputs": [],
   "source": [
    "Reactions = [\n",
    "    (\"J23100\", \"VF2\", \"VR\"),\n",
    "    (\"J23119\", \"VF2\", \"VR\"),\n",
    "    (\"J23101\", \"VF2\", \"VR\"),\n",
    "    (\"J23102\", \"VF2\", \"VR\"),\n",
    "    (\"J23103\", \"VF2\", \"VR\"),\n",
    "    (\"J23104\", \"VF2\", \"VR\"),\n",
    "    (\"J23105\", \"VF2\", \"VR\"),\n",
    "    (\"J23106\", \"VF2\", \"VR\"),\n",
    "    (\"J23107\", \"VF2\", \"VR\"),\n",
    "    (\"J23108\", \"VF2\", \"VR\"),\n",
    "    (\"J23109\", \"VF2\", \"VR\"),\n",
    "    (\"J23110\", \"VF2\", \"VR\"),\n",
    "    (\"J23111\", \"VF2\", \"VR\"),\n",
    "    (\"J23112\", \"VF2\", \"VR\"),\n",
    "    (\"J23113\", \"VF2\", \"VR\"),\n",
    "    (\"J23114\", \"VF2\", \"VR\"),\n",
    "    (\"J23115\", \"VF2\", \"VR\"),\n",
    "    (\"J23116\", \"VF2\", \"VR\"),\n",
    "    (\"J23117\", \"VF2\", \"VR\"),\n",
    "    (\"J23118\", \"VF2\", \"VR\"),\n",
    "    (\"pOdd1\", \"VF2\", \"VR\"),\n",
    "]"
   ]
  },
  {
   "cell_type": "markdown",
   "id": "7230b878",
   "metadata": {},
   "source": [
    "The final step is to create the Template, and call the `run` method on it"
   ]
  },
  {
   "cell_type": "code",
   "execution_count": 5,
   "id": "b69c1f84",
   "metadata": {
    "scrolled": false
   },
   "outputs": [
    {
     "name": "stdout",
     "output_type": "stream",
     "text": [
      "..\\..\\..\\..\\Resources\\data\\Unmerged Example PCR With MM-384PP-(Example DNA Stocks).csv\n",
      "..\\..\\..\\..\\Resources\\data\\Unmerged Example PCR With MM-384PP-(Example Primer Stocks).csv\n",
      "..\\..\\..\\..\\Resources\\data\\Unmerged Example PCR With MM-384PP-(Example Plasmid Stocks).csv\n",
      "..\\..\\..\\..\\Resources\\data\\Unmerged Example PCR With MM-6RES-(Water and Buffer Plate).csv\n",
      "..\\..\\..\\..\\Resources\\data\\Unmerged Example PCR With MM-384LDV-(Reagents).csv\n"
     ]
    }
   ],
   "source": [
    "# This code block shouldn't need to be modified\n",
    "PCR_Protocol = PCR.Template(\n",
    "    Name = Protocol_Name,\n",
    "    Picklist_Save_Directory = Picklist_Save_Directory,\n",
    "    Metadata = metadata,\n",
    "    Volume= Volume,\n",
    "    Reactions = Reactions,\n",
    "    Polymerase = Polymerase,\n",
    "    Polymerase_Buffer = Polymerase_Buffer,\n",
    "    Polymerase_Buffer_Stock_Conc = Buffer_Stock_Conc,\n",
    "    Master_Mix = Master_Mix,\n",
    "    Master_Mix_Stock_Conc = Master_Mix_Stock_Conc,\n",
    "    Repeats = Repeats,\n",
    "    DNA_Amounts = DNA_Amounts,\n",
    "    Source_Plates = Source_Plates,\n",
    "    Destination_Plate_Layout = PCR_Plate_Layout,\n",
    "    Merge = Merge_Picklists\n",
    ")\n",
    "PCR_Protocol.run()"
   ]
  }
 ],
 "metadata": {
  "kernelspec": {
   "display_name": "Python 3 (ipykernel)",
   "language": "python",
   "name": "python3"
  },
  "language_info": {
   "codemirror_mode": {
    "name": "ipython",
    "version": 3
   },
   "file_extension": ".py",
   "mimetype": "text/x-python",
   "name": "python",
   "nbconvert_exporter": "python",
   "pygments_lexer": "ipython3",
   "version": "3.9.7"
  }
 },
 "nbformat": 4,
 "nbformat_minor": 5
}
