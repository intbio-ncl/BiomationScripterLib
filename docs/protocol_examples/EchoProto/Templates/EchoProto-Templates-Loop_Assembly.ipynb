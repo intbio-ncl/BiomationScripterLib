{
 "cells": [
  {
   "cell_type": "markdown",
   "id": "e8d65013",
   "metadata": {},
   "source": [
    "# Using EchoProto Templates - `Loop_Assembly` Example"
   ]
  },
  {
   "cell_type": "markdown",
   "id": "9c902919",
   "metadata": {},
   "source": [
    "BiomationScripter Templates can be used to help quickly and easily generate automation protocols for common experiments or procedures. Shown here is an example of how the `EchoProto.Templates.Loop_Assembly` Template can be used to generate an automation protocol to prepare Loop assembly reactions using the Echo.\n",
    "\n",
    "See the [documentation](../../../../EchoProto_Templates/#template-loop_assembly) for a full details about the `Loop_Assembly` Template"
   ]
  },
  {
   "cell_type": "markdown",
   "id": "5d7476e1",
   "metadata": {},
   "source": [
    "## Setting up"
   ]
  },
  {
   "cell_type": "markdown",
   "id": "d13d4c3f",
   "metadata": {},
   "source": [
    "The first step is to import the `EchoProto.Templates` module, along with the `BMS` module so that we have access to any generic tools that may be required."
   ]
  },
  {
   "cell_type": "code",
   "execution_count": 1,
   "id": "9a6476d6",
   "metadata": {},
   "outputs": [],
   "source": [
    "import BiomationScripter as BMS\n",
    "from BiomationScripter.EchoProto.Templates import Loop_Assembly"
   ]
  },
  {
   "cell_type": "markdown",
   "id": "2091822a",
   "metadata": {},
   "source": [
    "Next, we need to define the general parameters and inputs required for any Echo Template (see [here](../../../../EchoProto_Templates/#superclass-echoproto_template)).\n",
    "\n",
    "For the source plates, we'll import some layouts which have already been defined. For more information on creating/importing [`BMS.Labware_Layout`](../../../../BiomationScripter#class-labware_layout) objects, see [here](../../../../BiomationScripter/#class-labware_layout) and [here](../../../../BiomationScripter/#function-import_labware_layout)."
   ]
  },
  {
   "cell_type": "code",
   "execution_count": 2,
   "id": "96481766",
   "metadata": {},
   "outputs": [],
   "source": [
    "Protocol_Name = \"Merged Example Loop Assembly\"\n",
    "\n",
    "Metadata = {\n",
    "    \"Author\": \"First Last\",\n",
    "    \"Author Email\": \"author@email.com\",\n",
    "    \"User\": \"Your Name\",\n",
    "    \"User Email\": \"user@email.com\",\n",
    "    \"Source\": \"BiomationScripter v0.2.0.dev\",\n",
    "    \"Robot\": \"Echo525\"\n",
    "}\n",
    "\n",
    "Merge_Picklists = True # This merges source plates with the same TYPE into one picklist\n",
    "\n",
    "Picklist_Save_Directory = \"../../../../data/\"\n",
    "\n",
    "Source_Plate_Directory = \"../../../../data/\"\n",
    "Source_Plates = [\n",
    "    BMS.Import_Labware_Layout(\"Example DNA Stocks\", path = Source_Plate_Directory),\n",
    "    BMS.Import_Labware_Layout(\"Example Plasmid Stocks\", path = Source_Plate_Directory),\n",
    "    BMS.Import_Labware_Layout(\"Water and Buffer Plate\", path = Source_Plate_Directory),\n",
    "    BMS.Import_Labware_Layout(\"Reagents\", path = Source_Plate_Directory),\n",
    "]\n",
    "\n",
    "Assembly_Plate_Layout = BMS.Labware_Layout(\"Assembly Plate\", \"384 OptiAmp Plate\")\n",
    "Assembly_Plate_Layout.define_format(16,24)\n",
    "Assembly_Plate_Layout.set_available_wells()"
   ]
  },
  {
   "cell_type": "markdown",
   "id": "cc1649f6",
   "metadata": {},
   "source": [
    "The full list of arguments, with descriptors, can be found [here](../../../../EchoProto_Templates/#template-loop_assembly)."
   ]
  },
  {
   "cell_type": "code",
   "execution_count": 3,
   "id": "aa9511d6",
   "metadata": {},
   "outputs": [],
   "source": [
    "Final_Volume = 5 # uL\n",
    "Backbone_to_Part_Ratios = [\"1:1\", \"1:3\", \"2:1\"]\n",
    "Repeats = 1\n",
    "Enzyme = \"BsaI\" # For level 1 assemblies\n",
    "Buffer = \"T4 Ligase Buffer\""
   ]
  },
  {
   "cell_type": "markdown",
   "id": "3b9b85e1",
   "metadata": {},
   "source": [
    "The next step is to define the DNA assemblies, using the [BiomationScripter.Assembly](../../../../BiomationScripter/#class-assembly) class."
   ]
  },
  {
   "cell_type": "code",
   "execution_count": 4,
   "id": "4138a79b",
   "metadata": {
    "scrolled": true
   },
   "outputs": [
    {
     "name": "stdout",
     "output_type": "stream",
     "text": [
      "J23100-B0034-GFP ['J23100', 'B0034', 'GFP', 'B0015']\n",
      "J23100-B0030-GFP ['J23100', 'B0030', 'GFP', 'B0015']\n",
      "J23100-B0031-GFP ['J23100', 'B0031', 'GFP', 'B0015']\n",
      "J23100-B0032-GFP ['J23100', 'B0032', 'GFP', 'B0015']\n",
      "J23119-B0034-GFP ['J23119', 'B0034', 'GFP', 'B0015']\n",
      "J23119-B0030-GFP ['J23119', 'B0030', 'GFP', 'B0015']\n",
      "J23119-B0031-GFP ['J23119', 'B0031', 'GFP', 'B0015']\n",
      "J23119-B0032-GFP ['J23119', 'B0032', 'GFP', 'B0015']\n",
      "J23101-B0034-GFP ['J23101', 'B0034', 'GFP', 'B0015']\n",
      "J23101-B0030-GFP ['J23101', 'B0030', 'GFP', 'B0015']\n",
      "J23101-B0031-GFP ['J23101', 'B0031', 'GFP', 'B0015']\n",
      "J23101-B0032-GFP ['J23101', 'B0032', 'GFP', 'B0015']\n",
      "J23102-B0034-GFP ['J23102', 'B0034', 'GFP', 'B0015']\n",
      "J23102-B0030-GFP ['J23102', 'B0030', 'GFP', 'B0015']\n",
      "J23102-B0031-GFP ['J23102', 'B0031', 'GFP', 'B0015']\n",
      "J23102-B0032-GFP ['J23102', 'B0032', 'GFP', 'B0015']\n",
      "J23103-B0034-GFP ['J23103', 'B0034', 'GFP', 'B0015']\n",
      "J23103-B0030-GFP ['J23103', 'B0030', 'GFP', 'B0015']\n",
      "J23103-B0031-GFP ['J23103', 'B0031', 'GFP', 'B0015']\n",
      "J23103-B0032-GFP ['J23103', 'B0032', 'GFP', 'B0015']\n",
      "J23104-B0034-GFP ['J23104', 'B0034', 'GFP', 'B0015']\n",
      "J23104-B0030-GFP ['J23104', 'B0030', 'GFP', 'B0015']\n",
      "J23104-B0031-GFP ['J23104', 'B0031', 'GFP', 'B0015']\n",
      "J23104-B0032-GFP ['J23104', 'B0032', 'GFP', 'B0015']\n",
      "J23105-B0034-GFP ['J23105', 'B0034', 'GFP', 'B0015']\n",
      "J23105-B0030-GFP ['J23105', 'B0030', 'GFP', 'B0015']\n",
      "J23105-B0031-GFP ['J23105', 'B0031', 'GFP', 'B0015']\n",
      "J23105-B0032-GFP ['J23105', 'B0032', 'GFP', 'B0015']\n",
      "J23106-B0034-GFP ['J23106', 'B0034', 'GFP', 'B0015']\n",
      "J23106-B0030-GFP ['J23106', 'B0030', 'GFP', 'B0015']\n",
      "J23106-B0031-GFP ['J23106', 'B0031', 'GFP', 'B0015']\n",
      "J23106-B0032-GFP ['J23106', 'B0032', 'GFP', 'B0015']\n",
      "J23107-B0034-GFP ['J23107', 'B0034', 'GFP', 'B0015']\n",
      "J23107-B0030-GFP ['J23107', 'B0030', 'GFP', 'B0015']\n",
      "J23107-B0031-GFP ['J23107', 'B0031', 'GFP', 'B0015']\n",
      "J23107-B0032-GFP ['J23107', 'B0032', 'GFP', 'B0015']\n",
      "J23108-B0034-GFP ['J23108', 'B0034', 'GFP', 'B0015']\n",
      "J23108-B0030-GFP ['J23108', 'B0030', 'GFP', 'B0015']\n",
      "J23108-B0031-GFP ['J23108', 'B0031', 'GFP', 'B0015']\n",
      "J23108-B0032-GFP ['J23108', 'B0032', 'GFP', 'B0015']\n",
      "J23109-B0034-GFP ['J23109', 'B0034', 'GFP', 'B0015']\n",
      "J23109-B0030-GFP ['J23109', 'B0030', 'GFP', 'B0015']\n",
      "J23109-B0031-GFP ['J23109', 'B0031', 'GFP', 'B0015']\n",
      "J23109-B0032-GFP ['J23109', 'B0032', 'GFP', 'B0015']\n",
      "J23110-B0034-GFP ['J23110', 'B0034', 'GFP', 'B0015']\n",
      "J23110-B0030-GFP ['J23110', 'B0030', 'GFP', 'B0015']\n",
      "J23110-B0031-GFP ['J23110', 'B0031', 'GFP', 'B0015']\n",
      "J23110-B0032-GFP ['J23110', 'B0032', 'GFP', 'B0015']\n",
      "J23111-B0034-GFP ['J23111', 'B0034', 'GFP', 'B0015']\n",
      "J23111-B0030-GFP ['J23111', 'B0030', 'GFP', 'B0015']\n",
      "J23111-B0031-GFP ['J23111', 'B0031', 'GFP', 'B0015']\n",
      "J23111-B0032-GFP ['J23111', 'B0032', 'GFP', 'B0015']\n",
      "J23112-B0034-GFP ['J23112', 'B0034', 'GFP', 'B0015']\n",
      "J23112-B0030-GFP ['J23112', 'B0030', 'GFP', 'B0015']\n",
      "J23112-B0031-GFP ['J23112', 'B0031', 'GFP', 'B0015']\n",
      "J23112-B0032-GFP ['J23112', 'B0032', 'GFP', 'B0015']\n",
      "J23113-B0034-GFP ['J23113', 'B0034', 'GFP', 'B0015']\n",
      "J23113-B0030-GFP ['J23113', 'B0030', 'GFP', 'B0015']\n",
      "J23113-B0031-GFP ['J23113', 'B0031', 'GFP', 'B0015']\n",
      "J23113-B0032-GFP ['J23113', 'B0032', 'GFP', 'B0015']\n",
      "J23114-B0034-GFP ['J23114', 'B0034', 'GFP', 'B0015']\n",
      "J23114-B0030-GFP ['J23114', 'B0030', 'GFP', 'B0015']\n",
      "J23114-B0031-GFP ['J23114', 'B0031', 'GFP', 'B0015']\n",
      "J23114-B0032-GFP ['J23114', 'B0032', 'GFP', 'B0015']\n",
      "J23115-B0034-GFP ['J23115', 'B0034', 'GFP', 'B0015']\n",
      "J23115-B0030-GFP ['J23115', 'B0030', 'GFP', 'B0015']\n",
      "J23115-B0031-GFP ['J23115', 'B0031', 'GFP', 'B0015']\n",
      "J23115-B0032-GFP ['J23115', 'B0032', 'GFP', 'B0015']\n",
      "J23116-B0034-GFP ['J23116', 'B0034', 'GFP', 'B0015']\n",
      "J23116-B0030-GFP ['J23116', 'B0030', 'GFP', 'B0015']\n",
      "J23116-B0031-GFP ['J23116', 'B0031', 'GFP', 'B0015']\n",
      "J23116-B0032-GFP ['J23116', 'B0032', 'GFP', 'B0015']\n",
      "J23117-B0034-GFP ['J23117', 'B0034', 'GFP', 'B0015']\n",
      "J23117-B0030-GFP ['J23117', 'B0030', 'GFP', 'B0015']\n",
      "J23117-B0031-GFP ['J23117', 'B0031', 'GFP', 'B0015']\n",
      "J23117-B0032-GFP ['J23117', 'B0032', 'GFP', 'B0015']\n",
      "J23118-B0034-GFP ['J23118', 'B0034', 'GFP', 'B0015']\n",
      "J23118-B0030-GFP ['J23118', 'B0030', 'GFP', 'B0015']\n",
      "J23118-B0031-GFP ['J23118', 'B0031', 'GFP', 'B0015']\n",
      "J23118-B0032-GFP ['J23118', 'B0032', 'GFP', 'B0015']\n"
     ]
    }
   ],
   "source": [
    "Promoters = [\n",
    "    \"J23100\",\n",
    "    \"J23119\",\n",
    "    \"J23101\",\n",
    "    \"J23102\",\n",
    "    \"J23103\",\n",
    "    \"J23104\",\n",
    "    \"J23105\",\n",
    "    \"J23106\",\n",
    "    \"J23107\",\n",
    "    \"J23108\",\n",
    "    \"J23109\",\n",
    "    \"J23110\",\n",
    "    \"J23111\",\n",
    "    \"J23112\",\n",
    "    \"J23113\",\n",
    "    \"J23114\",\n",
    "    \"J23115\",\n",
    "    \"J23116\",\n",
    "    \"J23117\",\n",
    "    \"J23118\"\n",
    "]\n",
    "\n",
    "RBSs = [\n",
    "    \"B0034\",\n",
    "    \"B0030\",\n",
    "    \"B0031\",\n",
    "    \"B0032\"\n",
    "]\n",
    "\n",
    "Assemblies = []\n",
    "\n",
    "\n",
    "for promoter in Promoters:\n",
    "    for RBS in RBSs:\n",
    "        Assemblies.append(\n",
    "            BMS.Assembly(\n",
    "                Name = \"{}-{}-GFP\".format(promoter, RBS),\n",
    "                Backbone = \"pOdd1\",\n",
    "                Parts = [promoter, RBS, \"GFP\", \"B0015\"]\n",
    "            )\n",
    "        )\n",
    "            \n",
    "for Assembly in Assemblies:\n",
    "    print(Assembly.name, Assembly.parts)"
   ]
  },
  {
   "cell_type": "markdown",
   "id": "7230b878",
   "metadata": {},
   "source": [
    "The final step is to create the Template, and call the `run` method on it"
   ]
  },
  {
   "cell_type": "code",
   "execution_count": 5,
   "id": "b69c1f84",
   "metadata": {},
   "outputs": [
    {
     "name": "stdout",
     "output_type": "stream",
     "text": [
      "..\\..\\..\\..\\Resources\\data\\Merged Example Loop Assembly-384PP.csv\n",
      "..\\..\\..\\..\\Resources\\data\\Merged Example Loop Assembly-384LDV-(Reagents).csv\n",
      "..\\..\\..\\..\\Resources\\data\\Merged Example Loop Assembly-6RES-(Water and Buffer Plate).csv\n"
     ]
    }
   ],
   "source": [
    "Loop_Protocol = Loop_Assembly.Template(\n",
    "    Enzyme=Enzyme,\n",
    "    Buffer=Buffer,\n",
    "    Volume=Final_Volume,\n",
    "    Assemblies=Assemblies,\n",
    "    Backbone_to_Part=Backbone_to_Part_Ratios,\n",
    "    Repeats=Repeats,\n",
    "    Name=Protocol_Name,\n",
    "    Source_Plates=Source_Plates,\n",
    "    Destination_Plate_Layout=Assembly_Plate_Layout,\n",
    "    Picklist_Save_Directory=Picklist_Save_Directory,\n",
    "    Metadata=Metadata,\n",
    "    Merge=Merge_Picklists\n",
    ")\n",
    "\n",
    "Loop_Protocol.run()"
   ]
  },
  {
   "cell_type": "code",
   "execution_count": null,
   "id": "0f28b77d",
   "metadata": {},
   "outputs": [],
   "source": []
  }
 ],
 "metadata": {
  "kernelspec": {
   "display_name": "Python 3 (ipykernel)",
   "language": "python",
   "name": "python3"
  },
  "language_info": {
   "codemirror_mode": {
    "name": "ipython",
    "version": 3
   },
   "file_extension": ".py",
   "mimetype": "text/x-python",
   "name": "python",
   "nbconvert_exporter": "python",
   "pygments_lexer": "ipython3",
   "version": "3.9.7"
  }
 },
 "nbformat": 4,
 "nbformat_minor": 5
}
