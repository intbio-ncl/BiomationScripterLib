{
 "cells": [
  {
   "cell_type": "code",
   "execution_count": 38,
   "metadata": {},
   "outputs": [
    {
     "name": "stdout",
     "output_type": "stream",
     "text": [
      "running install\n",
      "running build\n",
      "running build_py\n",
      "copying BiomationScripter\\OTProto\\Templates.py -> build\\lib\\BiomationScripter\\OTProto\n",
      "running install_lib\n",
      "copying build\\lib\\BiomationScripter\\OTProto\\Templates.py -> C:\\Users\\bradl\\Anaconda3\\Lib\\site-packages\\BiomationScripter\\OTProto\n",
      "byte-compiling C:\\Users\\bradl\\Anaconda3\\Lib\\site-packages\\BiomationScripter\\OTProto\\Templates.py to Templates.cpython-37.pyc\n",
      "running install_egg_info\n",
      "Removing C:\\Users\\bradl\\Anaconda3\\Lib\\site-packages\\BiomationScripter-0.0-py3.7.egg-info\n",
      "Writing C:\\Users\\bradl\\Anaconda3\\Lib\\site-packages\\BiomationScripter-0.0-py3.7.egg-info\n"
     ]
    }
   ],
   "source": [
    "%run setup.py install"
   ]
  },
  {
   "cell_type": "code",
   "execution_count": null,
   "metadata": {},
   "outputs": [],
   "source": []
  },
  {
   "cell_type": "code",
   "execution_count": null,
   "metadata": {},
   "outputs": [],
   "source": []
  }
 ],
 "metadata": {
  "kernelspec": {
   "display_name": "Python 3",
   "language": "python",
   "name": "python3"
  },
  "language_info": {
   "codemirror_mode": {
    "name": "ipython",
    "version": 3
   },
   "file_extension": ".py",
   "mimetype": "text/x-python",
   "name": "python",
   "nbconvert_exporter": "python",
   "pygments_lexer": "ipython3",
   "version": "3.7.3"
  }
 },
 "nbformat": 4,
 "nbformat_minor": 2
}
