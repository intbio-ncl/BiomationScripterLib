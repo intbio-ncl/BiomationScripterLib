{
 "cells": [
  {
   "cell_type": "code",
   "execution_count": null,
   "metadata": {},
   "outputs": [],
   "source": [
    "####################################################\n",
    "# Import BiomationScripter to help write protocols #\n",
    "####################################################\n",
    "import sys\n",
    "sys.path.insert(0, \"/var/lib/jupyter/notebooks/Packages/\")\n",
    "import BiomationScripter as BMS\n",
    "import BiomationScripter.OTProto.Templates as Templates"
   ]
  },
  {
   "cell_type": "code",
   "execution_count": null,
   "metadata": {},
   "outputs": [],
   "source": [
    "##################################\n",
    "# Record the protocol's metadata #\n",
    "##################################\n",
    "metadata = {\n",
    "    'protocolName': 'OT-2_Example_Transformation_Protocol',\n",
    "    'author': 'Bradley Brown',\n",
    "    'author-email': 'b.bradley2@newcastle.ac.uk',\n",
    "    'user': '',\n",
    "    'user-email': '',\n",
    "    'source': 'Custom Protocol inspired by 10.1093/synbio/ysaa010',\n",
    "    'apiLevel': '2.10',\n",
    "    'robotName': 'RobOT2' # This is the name of the OT2 you plan to run the protocol on\n",
    "}"
   ]
  },
  {
   "cell_type": "code",
   "execution_count": null,
   "metadata": {},
   "outputs": [],
   "source": [
    "##############################################################\n",
    "# Use this cell to call the Transformation protocol template #\n",
    "##############################################################\n",
    "\n",
    "def run(protocol):\n",
    "    \n",
    "    #################################################\n",
    "    # Add information needed for the protocol here: #\n",
    "    #################################################\n",
    "    \n",
    "    DNA = [\n",
    "    \"DNA1\",\n",
    "    \"DNA2\",\n",
    "    \"DNA3\",\n",
    "    \"DNA4\",\n",
    "    \"DNA5\",\n",
    "    \"DNA6\",\n",
    "    \"DNA7\",\n",
    "    \"DNA8\",\n",
    "    ]\n",
    "    \n",
    "    DNA_Source_Plate_Type = \"opentrons_24_aluminumblock_nest_1.5ml_snapcap\"\n",
    "    \n",
    "    Competent_Cells_Source_Type = \"opentrons_24_aluminumblock_nest_1.5ml_snapcap\"\n",
    "    \n",
    "    Transformation_Destination_Type = \"opentrons_24_aluminumblock_nest_1.5ml_snapcap\"\n",
    "    \n",
    "    DNA_Wells = BMS.well_range(\"A1:A4\") + BMS.well_range(\"B1:B4\")\n",
    "    \n",
    "    DNA_Per_Transformation = 2 #uL\n",
    "    \n",
    "    #################################################\n",
    "    #################################################\n",
    "    #################################################\n",
    "    \n",
    "    ##############################################################\n",
    "    # The code below creates the protocol to be ran or simulated #\n",
    "    ##############################################################\n",
    "    \n",
    "    Transformation = BMS.OTProto.Templates.Transformation(\n",
    "        Protocol=protocol,\n",
    "        Name=metadata[\"protocolName\"],\n",
    "        Metadata=metadata,\n",
    "        DNA=DNA,\n",
    "        DNA_Source_Wells=DNA_Wells,\n",
    "        Competent_Cells_Source_Type = Competent_Cells_Source_Type,\n",
    "        Transformation_Destination_Type = Transformation_Destination_Type,\n",
    "        DNA_Source_Type=DNA_Source_Plate_Type,\n",
    "        DNA_Volume_Per_Transformation=DNA_Per_Transformation,\n",
    "    )\n",
    "    Transformation.run()"
   ]
  },
  {
   "cell_type": "code",
   "execution_count": null,
   "metadata": {},
   "outputs": [],
   "source": [
    "######################################################################\n",
    "# Use this cell if simulating the protocol, otherwise comment it out #\n",
    "######################################################################\n",
    "\n",
    "##########################################################################################################\n",
    "# IMPORTANT - the protocol will not upload to the opentrons if this cell is not commented out or removed #\n",
    "##########################################################################################################\n",
    "\n",
    "from opentrons import simulate as OT2 # This line simulates the protocol\n",
    "# Get the correct api version\n",
    "protocol = OT2.get_protocol_api('2.10')\n",
    "# Home the pipetting head\n",
    "protocol.home()\n",
    "# Call the 'run' function to run the protocol\n",
    "run(protocol)\n",
    "for line in protocol.commands():\n",
    "    print(line)"
   ]
  },
  {
   "cell_type": "code",
   "execution_count": null,
   "metadata": {},
   "outputs": [],
   "source": []
  }
 ],
 "metadata": {
  "kernelspec": {
   "display_name": "Python 3",
   "language": "python",
   "name": "python3"
  },
  "language_info": {
   "codemirror_mode": {
    "name": "ipython",
    "version": 3
   },
   "file_extension": ".py",
   "mimetype": "text/x-python",
   "name": "python",
   "nbconvert_exporter": "python",
   "pygments_lexer": "ipython3",
   "version": "3.7.3"
  }
 },
 "nbformat": 4,
 "nbformat_minor": 2
}
