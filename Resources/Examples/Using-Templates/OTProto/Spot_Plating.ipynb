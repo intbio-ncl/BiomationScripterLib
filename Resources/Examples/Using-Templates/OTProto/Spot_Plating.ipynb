{
 "cells": [
  {
   "cell_type": "code",
   "execution_count": null,
   "metadata": {},
   "outputs": [],
   "source": [
    "####################################################\n",
    "# Import BiomationScripter to help write protocols #\n",
    "####################################################\n",
    "import sys\n",
    "sys.path.insert(0, \"/var/lib/jupyter/notebooks/Packages/\")\n",
    "import BiomationScripter as BMS\n",
    "import BiomationScripter.OTProto.Templates as Templates"
   ]
  },
  {
   "cell_type": "code",
   "execution_count": null,
   "metadata": {},
   "outputs": [],
   "source": [
    "##################################\n",
    "# Record the protocol's metadata #\n",
    "##################################\n",
    "metadata = {\n",
    "    'protocolName': 'OT-2_Example_Spot_Plating_Protocol',\n",
    "    'author': 'Bradley Brown',\n",
    "    'author-email': 'b.bradley2@newcastle.ac.uk',\n",
    "    'user': '',\n",
    "    'user-email': '',\n",
    "    'source': 'Custom Protocol inspired by 10.1093/synbio/ysaa010',\n",
    "    'apiLevel': '2.10',\n",
    "    'robotName': 'RobOT2' # This is the name of the OT2 you plan to run the protocol on\n",
    "}"
   ]
  },
  {
   "cell_type": "code",
   "execution_count": null,
   "metadata": {},
   "outputs": [],
   "source": [
    "##############################################################\n",
    "# Use this cell to call the Spot Plating protocol template #\n",
    "##############################################################\n",
    "\n",
    "def run(protocol):\n",
    "    \n",
    "    #################################################\n",
    "    # Add information needed for the protocol here: #\n",
    "    #################################################\n",
    "    \n",
    "    Cells = [\n",
    "    \"DNA1\",\n",
    "    \"DNA2\",\n",
    "    \"DNA3\",\n",
    "    \"DNA4\",\n",
    "    \"DNA5\",\n",
    "    \"DNA6\",\n",
    "    \"DNA7\",\n",
    "    \"DNA8\"\n",
    "    ]\n",
    "    \n",
    "    Cell_Source_Plate_Type = \"nunclondeltasurface163320_96_wellplate_250ul\"\n",
    "    \n",
    "    Dilution_Plate_Type = \"nunclondeltasurface163320_96_wellplate_250ul\"\n",
    "    \n",
    "    Cell_Wells = BMS.well_range(\"A1:A8\")\n",
    "    \n",
    "    Plating_Volume = 10 #uL\n",
    "\n",
    "    Dilution_Factors = [1, 10, 100, 1000, 2000, 5000, 8000, 10000]\n",
    "    \n",
    "    Starting_tip_position_20uL = \"A1\"\n",
    "    \n",
    "    Starting_tip_position_300uL = \"A1\"\n",
    "    \n",
    "    Simulate = False\n",
    "    \n",
    "    #################################################\n",
    "    #################################################\n",
    "    #################################################\n",
    "    \n",
    "    ##############################################################\n",
    "    # The code below creates the protocol to be ran or simulated #\n",
    "    ##############################################################\n",
    "    \n",
    "    Spot_Plating  = BMS.OTProto.Templates.Spot_Plating (\n",
    "        Protocol=protocol,\n",
    "        Name=metadata[\"protocolName\"],\n",
    "        Metadata=metadata,\n",
    "        Cells=Cells,\n",
    "        Cell_Source_Wells=Cell_Wells,\n",
    "        Cell_Source_Type=Cell_Source_Plate_Type,\n",
    "        Dilution_Plate_Type=Dilution_Plate_Type,\n",
    "        Plating_Volume=Plating_Volume,\n",
    "        Dilution_Factors=Dilution_Factors,\n",
    "        Starting_20uL_Tip=Starting_tip_position_20uL,\n",
    "        Starting_300uL_Tip=Starting_tip_position_300uL,\n",
    "        Simulate = Simulate\n",
    "    )\n",
    "    Spot_Plating._custom_labware_dir = \"PATH"\n",
    "    Spot_Plating.run()"
   ]
  },
  {
   "cell_type": "code",
   "execution_count": null,
   "metadata": {
    "scrolled": true
   },
   "outputs": [],
   "source": [
    "# #####################################################################\n",
    "# Use this cell if simulating the protocol, otherwise comment it out #\n",
    "# #####################################################################\n",
    "\n",
    "# #########################################################################################################\n",
    "# IMPORTANT - the protocol will not upload to the opentrons if this cell is not commented out or removed #\n",
    "# #########################################################################################################\n",
    "\n",
    "from opentrons import simulate as OT2 # This line simulates the protocol\n",
    "# Get the correct api version\n",
    "protocol = OT2.get_protocol_api('2.10')\n",
    "# Home the pipetting head\n",
    "protocol.home()\n",
    "# Call the 'run' function to run the protocol\n",
    "run(protocol)\n",
    "for line in protocol.commands():\n",
    "    print(line)"
   ]
  },
  {
   "cell_type": "code",
   "execution_count": null,
   "metadata": {},
   "outputs": [],
   "source": []
  }
 ],
 "metadata": {
  "kernelspec": {
   "display_name": "Python 3",
   "language": "python",
   "name": "python3"
  },
  "language_info": {
   "codemirror_mode": {
    "name": "ipython",
    "version": 3
   },
   "file_extension": ".py",
   "mimetype": "text/x-python",
   "name": "python",
   "nbconvert_exporter": "python",
   "pygments_lexer": "ipython3",
   "version": "3.7.3"
  }
 },
 "nbformat": 4,
 "nbformat_minor": 2
}
