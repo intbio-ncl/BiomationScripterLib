{
 "cells": [
  {
   "cell_type": "code",
   "execution_count": null,
   "metadata": {},
   "outputs": [],
   "source": [
    "####################################################\n",
    "# Import BiomationScripter to help write protocols #\n",
    "####################################################\n",
    "import sys\n",
    "sys.path.insert(0, \"/var/lib/jupyter/notebooks/Packages/\")\n",
    "import BiomationScripter as BMS\n",
    "import BiomationScripter.OTProto.Templates as Templates"
   ]
  },
  {
   "cell_type": "code",
   "execution_count": null,
   "metadata": {},
   "outputs": [],
   "source": [
    "##################################\n",
    "# Record the protocol's metadata #\n",
    "##################################\n",
    "metadata = {\n",
    "    'protocolName': 'OT-2_Example_Monarch_Miniprep',\n",
    "    'author': 'Bradley Brown',\n",
    "    'author-email': 'b.bradley2@newcastle.ac.uk',\n",
    "    'user': '',\n",
    "    'user-email': '',\n",
    "    'source': '',\n",
    "    'apiLevel': '2.11',\n",
    "    'robotName': 'RobOT2' # This is the name of the OT2 you plan to run the protocol on\n",
    "}"
   ]
  },
  {
   "cell_type": "code",
   "execution_count": null,
   "metadata": {},
   "outputs": [],
   "source": [
    "##############################################################\n",
    "# Use this cell to call the Spot Plating protocol template #\n",
    "##############################################################\n",
    "\n",
    "def run(protocol):\n",
    "    \n",
    "    #################################################\n",
    "    # Add information needed for the protocol here: #\n",
    "    #################################################\n",
    "    \n",
    "    Cultures = [\n",
    "        \"Culture1\",\n",
    "        \"Culture2\",\n",
    "        \"Culture3\",\n",
    "        \"Culture4\"\n",
    "    ]\n",
    "    \n",
    "    Culture_Source_Wells = [\n",
    "        \"A1\",\n",
    "        \"A2\",\n",
    "        \"A3\",\n",
    "        \"A4\"\n",
    "    ]\n",
    "    \n",
    "    Culture_Source_Type = \"nest_96_wellplate_2ml_deep\"\n",
    "    \n",
    "    Reagents_Source_Type = \"opentrons_24_tuberack_eppendorf_2ml_safelock_snapcap\"\n",
    "    \n",
    "    Reagent_Aliquot_Volumes = 1500 # uL\n",
    "    \n",
    "    Destination_Rack_Tubes = "
   ]
  }
 ],
 "metadata": {
  "kernelspec": {
   "display_name": "Python 3",
   "language": "python",
   "name": "python3"
  },
  "language_info": {
   "codemirror_mode": {
    "name": "ipython",
    "version": 3
   },
   "file_extension": ".py",
   "mimetype": "text/x-python",
   "name": "python",
   "nbconvert_exporter": "python",
   "pygments_lexer": "ipython3",
   "version": "3.7.3"
  }
 },
 "nbformat": 4,
 "nbformat_minor": 2
}
